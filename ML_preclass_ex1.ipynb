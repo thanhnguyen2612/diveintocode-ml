{
  "nbformat": 4,
  "nbformat_minor": 0,
  "metadata": {
    "colab": {
      "name": "ML_preclass_ex1.ipynb",
      "provenance": [],
      "collapsed_sections": [],
      "authorship_tag": "ABX9TyNIjsrocTNqbcXV09pY+50D",
      "include_colab_link": true
    },
    "kernelspec": {
      "name": "python3",
      "display_name": "Python 3"
    }
  },
  "cells": [
    {
      "cell_type": "markdown",
      "metadata": {
        "id": "view-in-github",
        "colab_type": "text"
      },
      "source": [
        "<a href=\"https://colab.research.google.com/github/thanhnguyen2612/diveintocode-ml/blob/master/ML_preclass_ex1.ipynb\" target=\"_parent\"><img src=\"https://colab.research.google.com/assets/colab-badge.svg\" alt=\"Open In Colab\"/></a>"
      ]
    },
    {
      "cell_type": "markdown",
      "metadata": {
        "id": "ZoYkCBh1V-hZ"
      },
      "source": [
        "# Mathematics for Machine Learning Pre-Class assignment 1 Wheat and Chessboard problem\n",
        "## [Problem 1] Number of wheat on a 2 x 2 square chess board"
      ]
    },
    {
      "cell_type": "code",
      "metadata": {
        "id": "T0QnIOhjVQWR"
      },
      "source": [
        "import numpy as np"
      ],
      "execution_count": 93,
      "outputs": []
    },
    {
      "cell_type": "code",
      "metadata": {
        "colab": {
          "base_uri": "https://localhost:8080/"
        },
        "id": "z_kSnaDJV7bE",
        "outputId": "587e802c-3084-4405-af38-78df181ecb1f"
      },
      "source": [
        "n_squares = 4\n",
        "small_board_list = [1]\n",
        "for _ in range(n_squares - 1):\n",
        "    small_board_list.append(2*small_board_list[-1])\n",
        "\n",
        "chess_board = np.array(small_board_list).reshape((2, 2))\n",
        "print(f\"Arrage wheat on a 2 x 2 square chess board:\")\n",
        "print(chess_board)"
      ],
      "execution_count": 94,
      "outputs": [
        {
          "output_type": "stream",
          "text": [
            "Arrage wheat on a 2 x 2 square chess board:\n",
            "[[1 2]\n",
            " [4 8]]\n"
          ],
          "name": "stdout"
        }
      ]
    },
    {
      "cell_type": "markdown",
      "metadata": {
        "id": "bbgjsp6oZwTW"
      },
      "source": [
        "## [Problem 2] Expansion to n x m mass"
      ]
    },
    {
      "cell_type": "code",
      "metadata": {
        "colab": {
          "base_uri": "https://localhost:8080/"
        },
        "id": "bg4O-4HKX-vU",
        "outputId": "5fb2c18d-4ea6-4565-f69b-7399f9c33be6"
      },
      "source": [
        "def wheatOnChessBoard(n, m):\n",
        "    \"\"\"\n",
        "    @Param:\n",
        "        n: number of rows\n",
        "        m: number of columns\n",
        "    @Return:\n",
        "        n x m chess board contains number of wheat on each cell\n",
        "    \"\"\"\n",
        "    return_board = [1]\n",
        "    for _ in range(n * m - 1):\n",
        "        return_board.append(return_board[-1] * 2)\n",
        "    return np.array(return_board).reshape((n, m))\n",
        "\n",
        "chess_board_8to8 = wheatOnChessBoard(8, 8)\n",
        "print(f\"Arrage wheat on a 8 x 8 square chess board:\")\n",
        "print(chess_board_8to8)"
      ],
      "execution_count": 95,
      "outputs": [
        {
          "output_type": "stream",
          "text": [
            "Arrage wheat on a 8 x 8 square chess board:\n",
            "[[1.00000000e+00 2.00000000e+00 4.00000000e+00 8.00000000e+00\n",
            "  1.60000000e+01 3.20000000e+01 6.40000000e+01 1.28000000e+02]\n",
            " [2.56000000e+02 5.12000000e+02 1.02400000e+03 2.04800000e+03\n",
            "  4.09600000e+03 8.19200000e+03 1.63840000e+04 3.27680000e+04]\n",
            " [6.55360000e+04 1.31072000e+05 2.62144000e+05 5.24288000e+05\n",
            "  1.04857600e+06 2.09715200e+06 4.19430400e+06 8.38860800e+06]\n",
            " [1.67772160e+07 3.35544320e+07 6.71088640e+07 1.34217728e+08\n",
            "  2.68435456e+08 5.36870912e+08 1.07374182e+09 2.14748365e+09]\n",
            " [4.29496730e+09 8.58993459e+09 1.71798692e+10 3.43597384e+10\n",
            "  6.87194767e+10 1.37438953e+11 2.74877907e+11 5.49755814e+11]\n",
            " [1.09951163e+12 2.19902326e+12 4.39804651e+12 8.79609302e+12\n",
            "  1.75921860e+13 3.51843721e+13 7.03687442e+13 1.40737488e+14]\n",
            " [2.81474977e+14 5.62949953e+14 1.12589991e+15 2.25179981e+15\n",
            "  4.50359963e+15 9.00719925e+15 1.80143985e+16 3.60287970e+16]\n",
            " [7.20575940e+16 1.44115188e+17 2.88230376e+17 5.76460752e+17\n",
            "  1.15292150e+18 2.30584301e+18 4.61168602e+18 9.22337204e+18]]\n"
          ],
          "name": "stdout"
        }
      ]
    },
    {
      "cell_type": "markdown",
      "metadata": {
        "id": "pWq0dQ1ubTQQ"
      },
      "source": [
        "## [Problem 3] Total number of wheat"
      ]
    },
    {
      "cell_type": "code",
      "metadata": {
        "colab": {
          "base_uri": "https://localhost:8080/"
        },
        "id": "VsdDBxwBcWIT",
        "outputId": "8586dba7-f95a-4a5b-e45d-b136162a1651"
      },
      "source": [
        "# Compute total number of wheat on a 8x8 board\n",
        "total_wheat = chess_board_8to8.sum()\n",
        "print(f\"Total number of wheat on a 8x8 chess board: {int(total_wheat)}\")\n",
        "\n",
        "# Compute average of each column\n",
        "cols_average = chess_board_8to8.mean(axis=0)"
      ],
      "execution_count": 96,
      "outputs": [
        {
          "output_type": "stream",
          "text": [
            "Total number of wheat on a 8x8 chess board: 18446744073709551616\n"
          ],
          "name": "stdout"
        }
      ]
    },
    {
      "cell_type": "code",
      "metadata": {
        "colab": {
          "base_uri": "https://localhost:8080/",
          "height": 295
        },
        "id": "AsttHBVcbS6A",
        "outputId": "263e7d1b-e56b-4d8b-cf72-f9f7a0e31af9"
      },
      "source": [
        "import matplotlib.pyplot as plt\n",
        "%matplotlib inline\n",
        "\n",
        "plt.xlabel(\"column\")\n",
        "plt.ylabel(\"number fo wheat\")\n",
        "plt.title(\"Average of each column\")\n",
        "plt.bar(np.arange(1, 9), cols_average)\n",
        "plt.show()"
      ],
      "execution_count": 97,
      "outputs": [
        {
          "output_type": "display_data",
          "data": {
            "image/png": "[encoded data removed]",
            "text/plain": [
              "<Figure size 432x288 with 1 Axes>"
            ]
          },
          "metadata": {
            "tags": [],
            "needs_background": "light"
          }
        }
      ]
    },
    {
      "cell_type": "markdown",
      "metadata": {
        "id": "tQzzm9TtepqD"
      },
      "source": [
        "## [Problem 4] Heat map of the number of wheat"
      ]
    },
    {
      "cell_type": "markdown",
      "metadata": {
        "id": "gLB2WB7Ghm7E"
      },
      "source": [
        "The heatmap shows that the last wheat slot outweights the others"
      ]
    },
    {
      "cell_type": "code",
      "metadata": {
        "colab": {
          "base_uri": "https://localhost:8080/",
          "height": 295
        },
        "id": "TvhQcxONesjZ",
        "outputId": "44b9fbb8-acfb-4b2d-a32b-7279b231457b"
      },
      "source": [
        "plt.xlabel(\"column\")\n",
        "plt.ylabel(\"row\")\n",
        "plt.title(\"heatmap\")\n",
        "plt.pcolor(chess_board_8to8)\n",
        "plt.show()"
      ],
      "execution_count": 98,
      "outputs": [
        {
          "output_type": "display_data",
          "data": {
            "image/png": "[encoded data removed]",
            "text/plain": [
              "<Figure size 432x288 with 1 Axes>"
            ]
          },
          "metadata": {
            "tags": [],
            "needs_background": "light"
          }
        }
      ]
    },
    {
      "cell_type": "markdown",
      "metadata": {
        "id": "VXAYGpThhigq"
      },
      "source": [
        "## [Problem 5] How many times is the second half as long as the first half?"
      ]
    },
    {
      "cell_type": "code",
      "metadata": {
        "colab": {
          "base_uri": "https://localhost:8080/"
        },
        "id": "lDy6hCIwhiBi",
        "outputId": "9d9b97e6-7bb5-4529-cfb8-dc0867bf39ec"
      },
      "source": [
        "# Compute the number of wheat in the first half\n",
        "first_half = chess_board_8to8[0:4].sum()\n",
        "\n",
        "# Compute the number of wheat in the second half\n",
        "second_half = chess_board_8to8[4:].sum()\n",
        "\n",
        "print(f\"Second half has {second_half/first_half} times wheat greater than first half\")"
      ],
      "execution_count": 99,
      "outputs": [
        {
          "output_type": "stream",
          "text": [
            "Second half has 4294967296.0 times wheat greater than first half\n"
          ],
          "name": "stdout"
        }
      ]
    },
    {
      "cell_type": "markdown",
      "metadata": {
        "id": "LeIbT2ISkEIY"
      },
      "source": [
        "## [Problem 6] Expansion to n × m mass by another calculation method"
      ]
    },
    {
      "cell_type": "markdown",
      "metadata": {
        "id": "hnR_iPlgkgO-"
      },
      "source": [
        "Let's rewrite the above function using np.append()"
      ]
    },
    {
      "cell_type": "code",
      "metadata": {
        "colab": {
          "base_uri": "https://localhost:8080/"
        },
        "id": "xbKQl7LwkX4A",
        "outputId": "88668f15-02b5-4fe2-92f7-8363500db3c6"
      },
      "source": [
        "def wheatOnChessBoard_append(n, m):\n",
        "    \"\"\"\n",
        "    @Param:\n",
        "        n: number of rows\n",
        "        m: number of columns\n",
        "    @Return:\n",
        "        n x m chess board contains number of wheat on each cell\n",
        "    \"\"\"\n",
        "    return_board = np.array([1]).astype(np.uint64)\n",
        "    for _ in range(n * m - 1):\n",
        "        return_board = np.append(return_board, return_board[-1] * 2)\n",
        "    return return_board.reshape((n, m))\n",
        "\n",
        "chess_board_8to8 = wheatOnChessBoard_append(8, 8)\n",
        "print(f\"Arrage wheat on a 8 x 8 square chess board:\")\n",
        "print(chess_board_8to8)"
      ],
      "execution_count": 100,
      "outputs": [
        {
          "output_type": "stream",
          "text": [
            "Arrage wheat on a 8 x 8 square chess board:\n",
            "[[1.00000000e+00 2.00000000e+00 4.00000000e+00 8.00000000e+00\n",
            "  1.60000000e+01 3.20000000e+01 6.40000000e+01 1.28000000e+02]\n",
            " [2.56000000e+02 5.12000000e+02 1.02400000e+03 2.04800000e+03\n",
            "  4.09600000e+03 8.19200000e+03 1.63840000e+04 3.27680000e+04]\n",
            " [6.55360000e+04 1.31072000e+05 2.62144000e+05 5.24288000e+05\n",
            "  1.04857600e+06 2.09715200e+06 4.19430400e+06 8.38860800e+06]\n",
            " [1.67772160e+07 3.35544320e+07 6.71088640e+07 1.34217728e+08\n",
            "  2.68435456e+08 5.36870912e+08 1.07374182e+09 2.14748365e+09]\n",
            " [4.29496730e+09 8.58993459e+09 1.71798692e+10 3.43597384e+10\n",
            "  6.87194767e+10 1.37438953e+11 2.74877907e+11 5.49755814e+11]\n",
            " [1.09951163e+12 2.19902326e+12 4.39804651e+12 8.79609302e+12\n",
            "  1.75921860e+13 3.51843721e+13 7.03687442e+13 1.40737488e+14]\n",
            " [2.81474977e+14 5.62949953e+14 1.12589991e+15 2.25179981e+15\n",
            "  4.50359963e+15 9.00719925e+15 1.80143985e+16 3.60287970e+16]\n",
            " [7.20575940e+16 1.44115188e+17 2.88230376e+17 5.76460752e+17\n",
            "  1.15292150e+18 2.30584301e+18 4.61168602e+18 9.22337204e+18]]\n"
          ],
          "name": "stdout"
        }
      ]
    },
    {
      "cell_type": "markdown",
      "metadata": {
        "id": "wRKUE2UglZ3a"
      },
      "source": [
        "Now using Numpy broadcast"
      ]
    },
    {
      "cell_type": "code",
      "metadata": {
        "colab": {
          "base_uri": "https://localhost:8080/"
        },
        "id": "_QubKCudlhY2",
        "outputId": "469a4daf-6de2-4e5f-bd44-0aecd42e3e6c"
      },
      "source": [
        "def wheatOnChessBoard_broadcast(n, m):\n",
        "    return_board = np.arange(n*m).astype(np.uint64)\n",
        "    return_board = 2 ** return_board\n",
        "    return return_board.reshape((n, m))\n",
        "\n",
        "chess_board_8to8 = wheatOnChessBoard_broadcast(8, 8)\n",
        "print(f\"Arrage wheat on a 8 x 8 square chess board:\")\n",
        "print(chess_board_8to8)"
      ],
      "execution_count": 101,
      "outputs": [
        {
          "output_type": "stream",
          "text": [
            "Arrage wheat on a 8 x 8 square chess board:\n",
            "[[                  1                   2                   4\n",
            "                    8                  16                  32\n",
            "                   64                 128]\n",
            " [                256                 512                1024\n",
            "                 2048                4096                8192\n",
            "                16384               32768]\n",
            " [              65536              131072              262144\n",
            "               524288             1048576             2097152\n",
            "              4194304             8388608]\n",
            " [           16777216            33554432            67108864\n",
            "            134217728           268435456           536870912\n",
            "           1073741824          2147483648]\n",
            " [         4294967296          8589934592         17179869184\n",
            "          34359738368         68719476736        137438953472\n",
            "         274877906944        549755813888]\n",
            " [      1099511627776       2199023255552       4398046511104\n",
            "        8796093022208      17592186044416      35184372088832\n",
            "       70368744177664     140737488355328]\n",
            " [    281474976710656     562949953421312    1125899906842624\n",
            "     2251799813685248    4503599627370496    9007199254740992\n",
            "    18014398509481984   36028797018963968]\n",
            " [  72057594037927936  144115188075855872  288230376151711744\n",
            "   576460752303423488 1152921504606846976 2305843009213693952\n",
            "  4611686018427387904 9223372036854775808]]\n"
          ],
          "name": "stdout"
        }
      ]
    },
    {
      "cell_type": "markdown",
      "metadata": {
        "id": "lvDy8SOPlJUE"
      },
      "source": [
        "## [Problem 7] Comparing calculation times"
      ]
    },
    {
      "cell_type": "code",
      "metadata": {
        "colab": {
          "base_uri": "https://localhost:8080/"
        },
        "id": "NfjUQy4plMHh",
        "outputId": "19c8f1d8-954b-46e4-d5a5-8d6abd71fbef"
      },
      "source": [
        "%%timeit\n",
        "chess_board_1 = wheatOnChessBoard(8, 8)"
      ],
      "execution_count": 102,
      "outputs": [
        {
          "output_type": "stream",
          "text": [
            "The slowest run took 4.83 times longer than the fastest. This could mean that an intermediate result is being cached.\n",
            "100000 loops, best of 5: 17.1 µs per loop\n"
          ],
          "name": "stdout"
        }
      ]
    },
    {
      "cell_type": "code",
      "metadata": {
        "colab": {
          "base_uri": "https://localhost:8080/"
        },
        "id": "EckIuFJZnrI9",
        "outputId": "6f06f934-cc40-47c2-bdcc-ea2c234b685c"
      },
      "source": [
        "%%timeit\n",
        "chess_board_2 = wheatOnChessBoard_append(8, 8)"
      ],
      "execution_count": 103,
      "outputs": [
        {
          "output_type": "stream",
          "text": [
            "1000 loops, best of 5: 443 µs per loop\n"
          ],
          "name": "stdout"
        }
      ]
    },
    {
      "cell_type": "code",
      "metadata": {
        "colab": {
          "base_uri": "https://localhost:8080/"
        },
        "id": "rgly5GXTnrp-",
        "outputId": "91a2c5d7-a7f4-413a-e7a8-60dd1b564e55"
      },
      "source": [
        "%%timeit\n",
        "chess_board_3 = wheatOnChessBoard_broadcast(8, 8)"
      ],
      "execution_count": 104,
      "outputs": [
        {
          "output_type": "stream",
          "text": [
            "The slowest run took 20.63 times longer than the fastest. This could mean that an intermediate result is being cached.\n",
            "100000 loops, best of 5: 3.79 µs per loop\n"
          ],
          "name": "stdout"
        }
      ]
    },
    {
      "cell_type": "markdown",
      "metadata": {
        "id": "Me9F-6tnn6IB"
      },
      "source": [
        "### It seems that using Numpy broadcast is fastest among all"
      ]
    }
  ]
}