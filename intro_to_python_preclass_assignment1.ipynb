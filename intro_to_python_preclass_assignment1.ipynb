{
  "nbformat": 4,
  "nbformat_minor": 0,
  "metadata": {
    "colab": {
      "name": "intro_to_python_preclass_assignment1.ipynb",
      "provenance": [],
      "collapsed_sections": [],
      "authorship_tag": "ABX9TyObalC8m4K+/4wxp4/Ywpxc",
      "include_colab_link": true
    },
    "kernelspec": {
      "name": "python3",
      "display_name": "Python 3"
    }
  },
  "cells": [
    {
      "cell_type": "markdown",
      "metadata": {
        "id": "view-in-github",
        "colab_type": "text"
      },
      "source": [
        "<a href=\"https://colab.research.google.com/github/thanhnguyen2612/diveintocode-ml/blob/master/intro_to_python_preclass_assignment1.ipynb\" target=\"_parent\"><img src=\"https://colab.research.google.com/assets/colab-badge.svg\" alt=\"Open In Colab\"/></a>"
      ]
    },
    {
      "cell_type": "markdown",
      "metadata": {
        "id": "94Vhosh4iZf-"
      },
      "source": [
        "# Introduction to Python Pre-class assignment 1\n",
        "## [Problem 1] Create using the exponentiation arithmetic operator"
      ]
    },
    {
      "cell_type": "code",
      "metadata": {
        "colab": {
          "base_uri": "https://localhost:8080/"
        },
        "id": "HNonFetFh5if",
        "outputId": "c0c197b6-6447-432e-bd04-f26c6e3b138a"
      },
      "source": [
        "\"\"\"\n",
        "Code to calculate the thickness when the paper is folded once\n",
        "\"\"\"\n",
        "THICKNESS = 0.00008\n",
        "folded_thickness = THICKNESS * 2**43\n",
        "print(\"Thickness: {} meters\".format(folded_thickness))"
      ],
      "execution_count": 11,
      "outputs": [
        {
          "output_type": "stream",
          "text": [
            "Thickness: 703687441.77664 meters\n"
          ],
          "name": "stdout"
        }
      ]
    },
    {
      "cell_type": "markdown",
      "metadata": {
        "id": "Roz8J0sSi06h"
      },
      "source": [
        "## [Problem 2] Unit Conversion"
      ]
    },
    {
      "cell_type": "code",
      "metadata": {
        "colab": {
          "base_uri": "https://localhost:8080/"
        },
        "id": "wl1hMSx2iwLc",
        "outputId": "646a7826-babd-40cf-e61e-cdae0be84245"
      },
      "source": [
        "# Convert meters to 10000 kilometers and display with two decimal places\n",
        "print(\"Thickness: {: .2f} ten thousand kilometers\".format(folded_thickness/10000000))\n",
        "print(f\"Distance to the moon: {384400/10000: .2f} ten thousand kilometers\")\n",
        "print(\"Reach the moon!\")"
      ],
      "execution_count": 12,
      "outputs": [
        {
          "output_type": "stream",
          "text": [
            "Thickness:  70.37 ten thousand kilometers\n",
            "Distance to the moon:  38.44 ten thousand kilometers\n",
            "Reach the moon!\n"
          ],
          "name": "stdout"
        }
      ]
    },
    {
      "cell_type": "markdown",
      "metadata": {
        "id": "jy_HdpJ1kfOW"
      },
      "source": [
        "## [Problem 3] Create using a for statement"
      ]
    },
    {
      "cell_type": "code",
      "metadata": {
        "colab": {
          "base_uri": "https://localhost:8080/"
        },
        "id": "8nZPnc5EknhP",
        "outputId": "cb08ecea-38d0-4a77-fe73-9e53a2e719cb"
      },
      "source": [
        "folded_thickness = THICKNESS\n",
        "for i in range(43):\n",
        "  folded_thickness *= 2\n",
        "print(f\"Thickness using FOR statement: {folded_thickness/10000000:.2f} ten thousand kilometers\")"
      ],
      "execution_count": 13,
      "outputs": [
        {
          "output_type": "stream",
          "text": [
            "Thickness using FOR statement: 70.37 ten thousand kilometers\n"
          ],
          "name": "stdout"
        }
      ]
    },
    {
      "cell_type": "markdown",
      "metadata": {
        "id": "F4JYcbVrlAh5"
      },
      "source": [
        "## [Problem 4] Comparison of calculation time"
      ]
    },
    {
      "cell_type": "code",
      "metadata": {
        "colab": {
          "base_uri": "https://localhost:8080/"
        },
        "id": "E4TdnNJmlJ9Q",
        "outputId": "1451c3ed-d3d4-41b1-cc5d-6892519eceff"
      },
      "source": [
        "import time\n",
        "\n",
        "# Method 1: Exponentiation\n",
        "start_time = time.time()\n",
        "folded_thickness = THICKNESS * 2**43\n",
        "method1_elapsed_time = time.time() - start_time\n",
        "print(f\"Method 1 - Exponentiation: {method1_elapsed_time}[s]\")\n",
        "\n",
        "# Method 2: FOR statement\n",
        "folded_thickness = THICKNESS\n",
        "start_time = time.time()\n",
        "for i in range(43):\n",
        "  folded_thickness *= 2\n",
        "method2_elapsed_time = time.time() - start_time\n",
        "print(f\"Method 2 - Exponentiation: {method1_elapsed_time}[s]\")"
      ],
      "execution_count": 14,
      "outputs": [
        {
          "output_type": "stream",
          "text": [
            "Method 1 - Exponentiation: 4.506111145019531e-05[s]\n",
            "Method 2 - Exponentiation: 4.506111145019531e-05[s]\n"
          ],
          "name": "stdout"
        }
      ]
    },
    {
      "cell_type": "markdown",
      "metadata": {
        "id": "3X-9GCm8nAnS"
      },
      "source": [
        "Looks like they are the same, let's increase the number of repetitions\n",
        "\n"
      ]
    },
    {
      "cell_type": "code",
      "metadata": {
        "colab": {
          "base_uri": "https://localhost:8080/"
        },
        "id": "YMrunNE5m_AF",
        "outputId": "322f5272-dd2e-493c-fa41-16dbf136ed2a"
      },
      "source": [
        "import time\n",
        "\n",
        "# Method 1: Exponentiation\n",
        "start_time = time.time()\n",
        "folded_thickness = THICKNESS * 2**1000\n",
        "method1_elapsed_time = time.time() - start_time\n",
        "print(f\"Method 1 - Exponentiation: {method1_elapsed_time}[s]\")\n",
        "\n",
        "# Method 2: FOR statement\n",
        "folded_thickness = THICKNESS\n",
        "start_time = time.time()\n",
        "for i in range(1000):\n",
        "  folded_thickness *= 2\n",
        "method2_elapsed_time = time.time() - start_time\n",
        "print(f\"Method 2 - Exponentiation: {method1_elapsed_time}[s]\")"
      ],
      "execution_count": 15,
      "outputs": [
        {
          "output_type": "stream",
          "text": [
            "Method 1 - Exponentiation: 7.510185241699219e-05[s]\n",
            "Method 2 - Exponentiation: 7.510185241699219e-05[s]\n"
          ],
          "name": "stdout"
        }
      ]
    },
    {
      "cell_type": "markdown",
      "metadata": {
        "id": "Y0OJNR2Enj4c"
      },
      "source": [
        "Still looks like the same, let's use the magic command %timeit"
      ]
    },
    {
      "cell_type": "code",
      "metadata": {
        "colab": {
          "base_uri": "https://localhost:8080/"
        },
        "id": "2lLZAIvvns5C",
        "outputId": "75303fda-34d0-4ae1-8348-a85c76305093"
      },
      "source": [
        "%timeit THICKNESS * 2**43"
      ],
      "execution_count": 16,
      "outputs": [
        {
          "output_type": "stream",
          "text": [
            "The slowest run took 43.41 times longer than the fastest. This could mean that an intermediate result is being cached.\n",
            "10000000 loops, best of 5: 71.6 ns per loop\n"
          ],
          "name": "stdout"
        }
      ]
    },
    {
      "cell_type": "code",
      "metadata": {
        "colab": {
          "base_uri": "https://localhost:8080/"
        },
        "id": "WKvb__4Mn6t5",
        "outputId": "113e3214-0faa-48d0-d4b6-f4201368d13e"
      },
      "source": [
        "%%timeit\n",
        "folded_thickness = THICKNESS\n",
        "for i in range(43):\n",
        "  folded_thickness *= 2"
      ],
      "execution_count": 17,
      "outputs": [
        {
          "output_type": "stream",
          "text": [
            "100000 loops, best of 5: 2.04 µs per loop\n"
          ],
          "name": "stdout"
        }
      ]
    },
    {
      "cell_type": "markdown",
      "metadata": {
        "id": "uNyWuEZp5SSU"
      },
      "source": [
        "(I haven't known how to explain these results yet)"
      ]
    },
    {
      "cell_type": "markdown",
      "metadata": {
        "id": "Nt1xWQfY6HcE"
      },
      "source": [
        ""
      ]
    },
    {
      "cell_type": "markdown",
      "metadata": {
        "id": "31qgR_EtqL1y"
      },
      "source": [
        "## [Problem 5] Saving to a list"
      ]
    },
    {
      "cell_type": "code",
      "metadata": {
        "colab": {
          "base_uri": "https://localhost:8080/"
        },
        "id": "6uS2-4EEqPXi",
        "outputId": "88a57c25-fe50-44fb-8bed-1565a8b1228b"
      },
      "source": [
        "process = [THICKNESS]\n",
        "for i in range(43):\n",
        "  process.append(process[-1] * 2)\n",
        "print(len(process))"
      ],
      "execution_count": 18,
      "outputs": [
        {
          "output_type": "stream",
          "text": [
            "44\n"
          ],
          "name": "stdout"
        }
      ]
    },
    {
      "cell_type": "markdown",
      "metadata": {
        "id": "ReB5kXzirG0X"
      },
      "source": [
        "## [Problem 6] Displaying a line graph"
      ]
    },
    {
      "cell_type": "code",
      "metadata": {
        "colab": {
          "base_uri": "https://localhost:8080/",
          "height": 295
        },
        "id": "S0S-gelCrE8J",
        "outputId": "eb8782f3-6485-4f37-f002-c1627b47f494"
      },
      "source": [
        "\"\"\"\n",
        "Display the graph. Title and axis label name.\n",
        "\"\"\"\n",
        "import matplotlib.pyplot as plt\n",
        "%matplotlib inline\n",
        "\n",
        "plt.title(\"Thickness of folded paper\")\n",
        "plt.xlabel(\"number of folds\")\n",
        "plt.ylabel(\"thickness[m]\")\n",
        "plt.plot(process)\n",
        "plt.show()"
      ],
      "execution_count": 19,
      "outputs": [
        {
          "output_type": "display_data",
          "data": {
            "image/png": "[encoded data removed]",
            "text/plain": [
              "<Figure size 432x288 with 1 Axes>"
            ]
          },
          "metadata": {
            "tags": [],
            "needs_background": "light"
          }
        }
      ]
    },
    {
      "cell_type": "markdown",
      "metadata": {
        "id": "t7hMjvSgu2Qq"
      },
      "source": [
        "As the number of folds reach about 30 folds, the growing speed of thickness become significantly fast."
      ]
    },
    {
      "cell_type": "markdown",
      "metadata": {
        "id": "1LyFSVDnwNrZ"
      },
      "source": [
        "## [Problem 7] Customizing graphs"
      ]
    },
    {
      "cell_type": "code",
      "metadata": {
        "colab": {
          "base_uri": "https://localhost:8080/",
          "height": 856
        },
        "id": "NNBsJGWMwTs1",
        "outputId": "6dfe975b-da6c-4682-c8f5-5bfc5dd9535b"
      },
      "source": [
        "\"\"\"\n",
        "Display a red line graph.\n",
        "\"\"\"\n",
        "plt.title(\"thickness of folded paper\")\n",
        "plt.xlabel(\"number of folds\")\n",
        "plt.ylabel(\"thickness[m]\")\n",
        "plt.plot(process, color='red')\n",
        "plt.show()\n",
        "\n",
        "\"\"\"\n",
        "Display a blue dot graph.\n",
        "Custom markersize.\n",
        "\"\"\"\n",
        "plt.title(\"thickness of folded paper\")\n",
        "plt.xlabel(\"number of folds\")\n",
        "plt.ylabel(\"thickness[m]\")\n",
        "plt.plot(process, 'bo', markersize=4)\n",
        "plt.show()\n",
        "\n",
        "\"\"\"\n",
        "Display a magenta dash-dot line graph.\n",
        "Custom linewidth, labelsize.\n",
        "\"\"\"\n",
        "plt.title(\"thickness of folded paper\")\n",
        "plt.xlabel(\"number of folds\")\n",
        "plt.ylabel(\"thickness[m]\")\n",
        "plt.tick_params(labelsize=15)\n",
        "plt.plot(process, 'm-.', solid_capstyle=\"round\", linewidth=4)\n",
        "plt.show()\n"
      ],
      "execution_count": 20,
      "outputs": [
        {
          "output_type": "display_data",
          "data": {
            "image/png": "[encoded data removed]",
            "text/plain": [
              "<Figure size 432x288 with 1 Axes>"
            ]
          },
          "metadata": {
            "tags": [],
            "needs_background": "light"
          }
        },
        {
          "output_type": "display_data",
          "data": {
            "image/png": "[encoded data removed]",
            "text/plain": [
              "<Figure size 432x288 with 1 Axes>"
            ]
          },
          "metadata": {
            "tags": [],
            "needs_background": "light"
          }
        },
        {
          "output_type": "display_data",
          "data": {
            "image/png": "[encoded data removed]",
            "text/plain": [
              "<Figure size 432x288 with 1 Axes>"
            ]
          },
          "metadata": {
            "tags": [],
            "needs_background": "light"
          }
        }
      ]
    }
  ]
}