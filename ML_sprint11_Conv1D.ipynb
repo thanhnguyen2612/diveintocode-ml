{
  "nbformat": 4,
  "nbformat_minor": 0,
  "metadata": {
    "colab": {
      "name": "ML_sprint11_Conv1D.ipynb",
      "provenance": [],
      "collapsed_sections": [],
      "toc_visible": true,
      "authorship_tag": "ABX9TyNs9ynRxrsbadf6H78cO25q",
      "include_colab_link": true
    },
    "kernelspec": {
      "name": "python3",
      "display_name": "Python 3"
    },
    "language_info": {
      "name": "python"
    }
  },
  "cells": [
    {
      "cell_type": "markdown",
      "metadata": {
        "id": "view-in-github",
        "colab_type": "text"
      },
      "source": [
        "<a href=\"https://colab.research.google.com/github/thanhnguyen2612/diveintocode-ml/blob/master/ML_sprint11_Conv1D.ipynb\" target=\"_parent\"><img src=\"https://colab.research.google.com/assets/colab-badge.svg\" alt=\"Open In Colab\"/></a>"
      ]
    },
    {
      "cell_type": "markdown",
      "metadata": {
        "id": "ZZOL7-FxQ7yQ"
      },
      "source": [
        "# Simple Convolutional 1D"
      ]
    },
    {
      "cell_type": "code",
      "metadata": {
        "id": "gDpmxw24bLIw"
      },
      "source": [
        "import numpy as np\n",
        "import matplotlib.pyplot as plt\n",
        "import seaborn as sns\n",
        "%matplotlib inline"
      ],
      "execution_count": 58,
      "outputs": []
    },
    {
      "cell_type": "markdown",
      "metadata": {
        "id": "0LQd-b-fRnzG"
      },
      "source": [
        "## [Problem 1] Creating a one-dimensional convolutional layer class that limits the number of channels to one"
      ]
    },
    {
      "cell_type": "code",
      "metadata": {
        "id": "MEXkUoiklG96"
      },
      "source": [
        "def forward(X, W, B):\n",
        "    a = []\n",
        "    for i in range(len(X) - len(W) + 1):\n",
        "        a.append(np.sum(X[i:i + len(W)] * W) + B)\n",
        "    return np.array(a)\n",
        "\n",
        "def backward(X, W, dA):\n",
        "    dB = np.sum(dA)\n",
        "\n",
        "    dW = np.zeros(len(W))\n",
        "    for i in range(len(W)):\n",
        "        dW[i] = np.sum(X[i:i+len(dA)] * dA)\n",
        "\n",
        "    zero = np.zeros(len(dA) - 1)\n",
        "    padding_W = np.concatenate([zero, W, zero], axis=0)\n",
        "    dX = np.zeros(len(X))\n",
        "    for i in range(len(X)):\n",
        "        dX[i] = np.sum(padding_W[i:i+len(dA)] * dA[::-1])\n",
        "\n",
        "    return dW, dB, dX"
      ],
      "execution_count": 59,
      "outputs": []
    },
    {
      "cell_type": "markdown",
      "metadata": {
        "id": "dqrqmO3moO1u"
      },
      "source": [
        "## [Problem 2] Output size calculation after one-dimensional convolution"
      ]
    },
    {
      "cell_type": "code",
      "metadata": {
        "id": "G-SMJfqIoN5K"
      },
      "source": [
        "def output_shape(n_in, filter_size, padding_size=0, stride_size=1):\n",
        "    return int((n_in + 2 * padding_size - filter_size) / stride_size + 1)"
      ],
      "execution_count": 60,
      "outputs": []
    },
    {
      "cell_type": "markdown",
      "metadata": {
        "id": "-0fVVqyG9uur"
      },
      "source": [
        "## [Problem 3] Experiment of one-dimensional convolutional layer with small array"
      ]
    },
    {
      "cell_type": "code",
      "metadata": {
        "id": "IpEQ_yROExru"
      },
      "source": [
        "x = np.array([1,2,3,4])\n",
        "w = np.array([3, 5, 7])\n",
        "b = 1"
      ],
      "execution_count": 61,
      "outputs": []
    },
    {
      "cell_type": "code",
      "metadata": {
        "id": "ZfXHnc2kpeyJ",
        "colab": {
          "base_uri": "https://localhost:8080/"
        },
        "outputId": "601ce765-4406-47e8-f2e7-ec7bfdacd3f4"
      },
      "source": [
        "output_shape(4, 3, 0, 1)"
      ],
      "execution_count": 62,
      "outputs": [
        {
          "output_type": "execute_result",
          "data": {
            "text/plain": [
              "2"
            ]
          },
          "metadata": {
            "tags": []
          },
          "execution_count": 62
        }
      ]
    },
    {
      "cell_type": "code",
      "metadata": {
        "colab": {
          "base_uri": "https://localhost:8080/"
        },
        "id": "G9pMq2r-E1EG",
        "outputId": "3d0fc436-5d40-4c70-d9e6-14a57c4d0fee"
      },
      "source": [
        "forward(x, w, b)"
      ],
      "execution_count": 63,
      "outputs": [
        {
          "output_type": "execute_result",
          "data": {
            "text/plain": [
              "array([35, 50])"
            ]
          },
          "metadata": {
            "tags": []
          },
          "execution_count": 63
        }
      ]
    },
    {
      "cell_type": "code",
      "metadata": {
        "colab": {
          "base_uri": "https://localhost:8080/"
        },
        "id": "KEn694a_E96T",
        "outputId": "683bf081-9d2e-482e-8699-c8ba132b2439"
      },
      "source": [
        "delta_a = np.array([10, 20])\n",
        "backward(x, w, delta_a)"
      ],
      "execution_count": 64,
      "outputs": [
        {
          "output_type": "execute_result",
          "data": {
            "text/plain": [
              "(array([ 50.,  80., 110.]), 30, array([ 30., 110., 170., 140.]))"
            ]
          },
          "metadata": {
            "tags": []
          },
          "execution_count": 64
        }
      ]
    },
    {
      "cell_type": "markdown",
      "metadata": {
        "id": "_6D5NKqBGoky"
      },
      "source": [
        "## [Problem 4] Creating a one-dimensional convolutional layer class that does not limit the number of channels"
      ]
    },
    {
      "cell_type": "code",
      "metadata": {
        "id": "WQdCdButJtQY"
      },
      "source": [
        "# Shape (2, 4): (number of input channels, number of features)\n",
        "X = np.array([[1, 2, 3, 4],\n",
        "              [2, 3, 4, 5]])\n",
        "\n",
        "# Shape: (number of output channels, number of input channels, filter_size)\n",
        "W = np.array([[[1, 1, 2],\n",
        "               [2, 1, 1]],\n",
        "              [[2, 1, 1],\n",
        "               [1, 1, 1]],\n",
        "              [[1, 1, 1],\n",
        "               [1, 1, 1]]])\n",
        "\n",
        "# Shape: (number of output channels)\n",
        "B = np.array([1, 2, 3])"
      ],
      "execution_count": 65,
      "outputs": []
    },
    {
      "cell_type": "code",
      "metadata": {
        "id": "gLb9XFduK7RP"
      },
      "source": [
        "# Forward\n",
        "def forward_channels(X, W, B):\n",
        "    out_feature_size = output_shape(X.shape[1], W.shape[2])\n",
        "    A = np.zeros((W.shape[0], out_feature_size))\n",
        "\n",
        "    for out_channel in range(W.shape[0]):\n",
        "        for in_channel in range(W.shape[1]):\n",
        "            for i in range(out_feature_size):\n",
        "                A[out_channel, i] += np.sum(X[in_channel, i:i + W.shape[2]] * W[out_channel, in_channel, :])\n",
        "\n",
        "    A += B[:, np.newaxis]\n",
        "    return A\n",
        "\n",
        "def backward_channels(X, W, B, dA):\n",
        "    dB = np.sum(dA, axis=1)\n",
        "\n",
        "    dW = np.zeros(W.shape)\n",
        "    for out_channel in range(W.shape[0]):\n",
        "        for in_channel in range(W.shape[1]):\n",
        "            for fs in range(W.shape[2]):\n",
        "                dW[out_channel, in_channel, fs] += np.sum(X[in_channel, fs:fs + dA.shape[1]] * dA[out_channel])\n",
        "    \n",
        "    dX = np.zeros(X.shape)\n",
        "    for out_channel in range(W.shape[0]):\n",
        "        for in_channel in range(W.shape[1]):\n",
        "            for fs in range(W.shape[2]):\n",
        "                for m in range(dA.shape[1]):\n",
        "                    dX[in_channel, fs + m] += W[out_channel, in_channel, fs] * dA[out_channel, m]\n",
        "    \n",
        "    return dW, dB, dX"
      ],
      "execution_count": 66,
      "outputs": []
    },
    {
      "cell_type": "code",
      "metadata": {
        "colab": {
          "base_uri": "https://localhost:8080/"
        },
        "id": "qY2_0KYaTHfg",
        "outputId": "022f107e-3a39-4c71-93a8-29256d54d081"
      },
      "source": [
        "forward_channels(X, W, B)"
      ],
      "execution_count": 67,
      "outputs": [
        {
          "output_type": "execute_result",
          "data": {
            "text/plain": [
              "array([[21., 29.],\n",
              "       [18., 25.],\n",
              "       [18., 24.]])"
            ]
          },
          "metadata": {
            "tags": []
          },
          "execution_count": 67
        }
      ]
    },
    {
      "cell_type": "code",
      "metadata": {
        "colab": {
          "base_uri": "https://localhost:8080/"
        },
        "id": "BSPelLFPUvr0",
        "outputId": "aa51580d-48ec-4388-b327-3435d28e3bbd"
      },
      "source": [
        "# Backward\n",
        "dA = np.array([[9, 11],\n",
        "               [32, 35],\n",
        "               [52, 56]])\n",
        "backward_channels(X, W, B, dA)"
      ],
      "execution_count": 68,
      "outputs": [
        {
          "output_type": "execute_result",
          "data": {
            "text/plain": [
              "(array([[[ 31.,  51.,  71.],\n",
              "         [ 51.,  71.,  91.]],\n",
              " \n",
              "        [[102., 169., 236.],\n",
              "         [169., 236., 303.]],\n",
              " \n",
              "        [[164., 272., 380.],\n",
              "         [272., 380., 488.]]]),\n",
              " array([ 20,  67, 108]),\n",
              " array([[125., 230., 204., 113.],\n",
              "        [102., 206., 195., 102.]]))"
            ]
          },
          "metadata": {
            "tags": []
          },
          "execution_count": 68
        }
      ]
    },
    {
      "cell_type": "markdown",
      "metadata": {
        "id": "2XxXFEjMOfVT"
      },
      "source": [
        "## [Problem 5] (Advanced task) Implementing padding"
      ]
    },
    {
      "cell_type": "code",
      "metadata": {
        "id": "Rvvoy6rj-XMj"
      },
      "source": [
        "def zero_padding(X, padding_size=0):\n",
        "    return np.pad(X, padding_size, \"constant\")"
      ],
      "execution_count": 69,
      "outputs": []
    },
    {
      "cell_type": "code",
      "metadata": {
        "colab": {
          "base_uri": "https://localhost:8080/"
        },
        "id": "q03R-CkCk_kF",
        "outputId": "ec38cb02-c1bd-463f-c7a6-f2edd0400127"
      },
      "source": [
        "zero_padding([1, 2, 3, 4, 5], 1)"
      ],
      "execution_count": 70,
      "outputs": [
        {
          "output_type": "execute_result",
          "data": {
            "text/plain": [
              "array([0, 1, 2, 3, 4, 5, 0])"
            ]
          },
          "metadata": {
            "tags": []
          },
          "execution_count": 70
        }
      ]
    },
    {
      "cell_type": "code",
      "metadata": {
        "colab": {
          "base_uri": "https://localhost:8080/"
        },
        "id": "0WiCxaHSlEeY",
        "outputId": "9040ba75-994c-4791-cc21-c9ce34d0f0fb"
      },
      "source": [
        "a = [[1, 2, 3],\n",
        "     [4, 5, 6]]\n",
        "zero_padding(a, 2)"
      ],
      "execution_count": 71,
      "outputs": [
        {
          "output_type": "execute_result",
          "data": {
            "text/plain": [
              "array([[0, 0, 0, 0, 0, 0, 0],\n",
              "       [0, 0, 0, 0, 0, 0, 0],\n",
              "       [0, 0, 1, 2, 3, 0, 0],\n",
              "       [0, 0, 4, 5, 6, 0, 0],\n",
              "       [0, 0, 0, 0, 0, 0, 0],\n",
              "       [0, 0, 0, 0, 0, 0, 0]])"
            ]
          },
          "metadata": {
            "tags": []
          },
          "execution_count": 71
        }
      ]
    },
    {
      "cell_type": "markdown",
      "metadata": {
        "id": "K8goL5uQrbBT"
      },
      "source": [
        "## [Problem 7] (Advance assignment) Arbitrary number of strides"
      ]
    },
    {
      "cell_type": "code",
      "metadata": {
        "id": "r7lDNI-AlIoK"
      },
      "source": [
        "# Forward\n",
        "def forward_2(X, W, B, padding_size=0, stride_size=1):\n",
        "    out_feature_size = output_shape(X.shape[1], W.shape[2], padding_size, stride_size)\n",
        "    A = np.zeros((W.shape[0], out_feature_size))\n",
        "\n",
        "    for out_channel in range(W.shape[0]):\n",
        "        for in_channel in range(W.shape[1]):\n",
        "            for i in range(0, out_feature_size):\n",
        "                pad_X = np.pad(X[in_channel], padding_size)\n",
        "                idx = i * stride_size\n",
        "                A[out_channel, i] += np.sum(pad_X[idx:idx + W.shape[2]] * W[out_channel, in_channel, :])\n",
        "\n",
        "    A += B[:, None]\n",
        "    return A\n",
        "\n",
        "def backward_2(X, W, B, dA, padding_size=0, stride_size=1):\n",
        "    dB = np.sum(dA, axis=1)\n",
        "\n",
        "    dW = np.zeros(W.shape)\n",
        "    dX = np.zeros((*X.shape[:-1], X.shape[-1] + 2*padding_size))\n",
        "    for out_chn in range(W.shape[0]):\n",
        "        for in_chn in range(W.shape[1]):\n",
        "            for fs in range(W.shape[2]):\n",
        "                for i in range(dA.shape[1]):\n",
        "                    pad_X = np.pad(X[in_chn], padding_size)\n",
        "                    dW[out_chn, in_chn, fs] += pad_X[fs + i*stride_size] * dA[out_chn, i]\n",
        "                    dX[in_chn, fs + i*stride_size] += W[out_chn, in_chn, fs] * dA[out_chn, i]\n",
        "\n",
        "    if padding_size > 0:\n",
        "        dX = dX[:, padding_size:-padding_size]\n",
        "    return dW, dB, dX"
      ],
      "execution_count": 72,
      "outputs": []
    },
    {
      "cell_type": "code",
      "metadata": {
        "id": "OhSgC7a-rOT9"
      },
      "source": [
        "X = np.array([[1, 2, 3, 4],\n",
        "              [2, 3, 4, 5]])\n",
        "\n",
        "W = np.array([[[1, 1, 2],\n",
        "               [2, 1, 1]],\n",
        "              [[2, 1, 1],\n",
        "               [1, 1, 1]],\n",
        "              [[1, 1, 1],\n",
        "               [1, 1, 1]]])\n",
        "\n",
        "B = np.array([1, 2, 3])\n",
        "\n",
        "dA = np.array([[9, 11, 10],\n",
        "               [32, 35, 30],\n",
        "               [52, 56, 50]])"
      ],
      "execution_count": 73,
      "outputs": []
    },
    {
      "cell_type": "code",
      "metadata": {
        "colab": {
          "base_uri": "https://localhost:8080/"
        },
        "id": "z58Fo07PsBAL",
        "outputId": "6054a161-16d3-4e5e-8a7f-f79943aa5127"
      },
      "source": [
        "forward_2(X, W, B, 2, 2)"
      ],
      "execution_count": 74,
      "outputs": [
        {
          "output_type": "execute_result",
          "data": {
            "text/plain": [
              "array([[ 5., 21., 21.],\n",
              "       [ 5., 18., 21.],\n",
              "       [ 6., 18., 19.]])"
            ]
          },
          "metadata": {
            "tags": []
          },
          "execution_count": 74
        }
      ]
    },
    {
      "cell_type": "code",
      "metadata": {
        "id": "Rwk8504w3RfJ",
        "colab": {
          "base_uri": "https://localhost:8080/"
        },
        "outputId": "7830d498-0ece-4d7d-df51-33b7c89f7c05"
      },
      "source": [
        "backward_2(X, W, B, dA, 2, 2)"
      ],
      "execution_count": 75,
      "outputs": [
        {
          "output_type": "execute_result",
          "data": {
            "text/plain": [
              "(array([[[ 41.,  62.,  42.],\n",
              "         [ 62.,  83.,  62.]],\n",
              " \n",
              "        [[125., 190., 137.],\n",
              "         [190., 255., 204.]],\n",
              " \n",
              "        [[206., 312., 220.],\n",
              "         [312., 418., 328.]]]),\n",
              " array([ 30,  97, 158]),\n",
              " array([[239., 102., 233.,  90.],\n",
              "        [206., 102., 202.,  90.]]))"
            ]
          },
          "metadata": {
            "tags": []
          },
          "execution_count": 75
        }
      ]
    },
    {
      "cell_type": "markdown",
      "metadata": {
        "id": "17g0ETCfoeYV"
      },
      "source": [
        "## [Problem 6] (Advanced task) Response to mini batch"
      ]
    },
    {
      "cell_type": "code",
      "metadata": {
        "id": "3jg-UqqEbg2l"
      },
      "source": [
        "class SimpleInitializerConv1d:\n",
        "    def __init__(self, sigma=0.02, seed=None):\n",
        "        self.sigma = sigma\n",
        "        self.seed = seed\n",
        "        np.random.seed(seed)\n",
        "\n",
        "    def W(self, *shape):\n",
        "        W = self.sigma * np.random.randn(*shape)\n",
        "        return W\n",
        "\n",
        "    def B(self, *shape):\n",
        "        B = self.sigma * np.random.randn(*shape)\n",
        "        return B"
      ],
      "execution_count": 76,
      "outputs": []
    },
    {
      "cell_type": "code",
      "metadata": {
        "id": "igH6_gC3Q3cr"
      },
      "source": [
        "class SimpleConv1d:\n",
        "    def __init__(self, out_channel, in_channel, filter_size,\n",
        "                 padding_size=0, stride_size=1, initializer=None,\n",
        "                 optimizer=None, activation=None):\n",
        "        self.OUT_CHN = out_channel\n",
        "        self.IN_CHN = in_channel\n",
        "        self.FS = filter_size\n",
        "        self.padding_size = padding_size\n",
        "        self.stride_size = stride_size\n",
        "\n",
        "        self.initializer = initializer\n",
        "        self.optimizer = optimizer\n",
        "        self.activation = activation\n",
        "        self._init_weights()\n",
        "\n",
        "    def _init_weights(self):\n",
        "        self.W = self.initializer.W(self.OUT_CHN, self.IN_CHN, self.FS)\n",
        "        self.B = self.initializer.B(self.OUT_CHN)\n",
        "    \n",
        "    def output_shape(self, n_features):\n",
        "        return int((n_features + 2 * self.padding_size - self.FS) / self.stride_size + 1)\n",
        "    \n",
        "    def forward(self, X):\n",
        "        self.input = X\n",
        "        self.N, self.IN_CHN, n_features = X.shape\n",
        "        self.OUT = self.output_shape(n_features)\n",
        "\n",
        "        self.A = np.zeros((self.N, self.OUT_CHN, self.OUT))\n",
        "        for n in range(self.N):\n",
        "            for out_chn in range(self.OUT_CHN):\n",
        "                for in_chn in range(self.IN_CHN):\n",
        "                    pad_X = np.pad(self.input[n, in_chn], self.padding_size)\n",
        "                    for m in range(self.OUT):\n",
        "                        stride_m = m * self.stride_size\n",
        "                        self.A[n, out_chn, m] += np.sum(pad_X[stride_m:stride_m + self.FS] * self.W[out_chn, in_chn, :])\n",
        "\n",
        "        self.A += self.B[:, None]\n",
        "        self.output = self.activation.forward(self.A)\n",
        "        return self.output\n",
        "    \n",
        "    def backward(self, d):\n",
        "        dA = self.activation.backward(d)\n",
        "\n",
        "        # Gradient B\n",
        "        self.dB = np.mean(np.sum(dA, axis=2), axis=0)\n",
        "\n",
        "        # Gradient W, X\n",
        "        self.dW = np.zeros(self.W.shape)\n",
        "        dZ = np.zeros((*self.input.shape[:-1], self.input.shape[-1] + 2 * self.padding_size))\n",
        "\n",
        "        for n in range(self.N):\n",
        "            for out_chn in range(self.OUT_CHN):\n",
        "                for in_chn in range(self.IN_CHN):\n",
        "                    pad_X = np.pad(self.input[n, in_chn], self.padding_size)\n",
        "                    for fs in range(self.FS):\n",
        "                        for m in range(self.OUT):\n",
        "                            stride_m = m * self.stride_size\n",
        "                            self.dW[out_chn, in_chn, fs] += pad_X[fs + stride_m] * dA[n, out_chn, m]\n",
        "                            dZ[n, in_chn, fs + stride_m] += self.W[out_chn, in_chn, fs] * dA[n, out_chn, m]\n",
        "        \n",
        "        if self.padding_size > 0:\n",
        "            dZ = dZ[:, :, self.padding_size:-self.padding_size]\n",
        "\n",
        "        self.optimizer.update(self)\n",
        "        return dZ"
      ],
      "execution_count": 77,
      "outputs": []
    },
    {
      "cell_type": "markdown",
      "metadata": {
        "id": "aSB8TYTAp1Nw"
      },
      "source": [
        "## [Problem 8] Learning and estimation"
      ]
    },
    {
      "cell_type": "code",
      "metadata": {
        "id": "IOyDXn-A_81K"
      },
      "source": [
        "from sklearn.metrics import classification_report, confusion_matrix\n",
        "from sklearn.metrics import roc_auc_score\n",
        "\n",
        "def evaluate(X, y, y_one_hot, model):\n",
        "    y_proba = model.predict_proba(X)\n",
        "    y_pred = np.argmax(y_proba, axis=1)\n",
        "    print(\"ROC AUC:\", roc_auc_score(y_one_hot, y_proba))\n",
        "    print(classification_report(y, y_pred))\n",
        "    sns.heatmap(confusion_matrix(y, y_pred), cmap=plt.cm.Blues, annot=True)\n",
        "    plt.show()\n",
        "    \n",
        "def plot_learning_curve(train_loss, val_loss=None):\n",
        "    plt.figure(figsize=(16, 8))\n",
        "    plt.plot(train_loss, label=\"train_loss\", linewidth=5)\n",
        "    if val_loss is not None:\n",
        "        plt.plot(val_loss, label=\"val_loss\", linewidth=5)\n",
        "    plt.xlabel(\"epoch\")\n",
        "    plt.ylabel(\"loss\")\n",
        "    plt.legend()\n",
        "    plt.show()"
      ],
      "execution_count": 78,
      "outputs": []
    },
    {
      "cell_type": "code",
      "metadata": {
        "id": "vUUnGe8abfj1"
      },
      "source": [
        "class GetMiniBatch:\n",
        "    def __init__(self, X, y, batch_size=20, seed=0):\n",
        "        self.batch_size = batch_size\n",
        "        np.random.seed(seed)\n",
        "        shuffle_index = np.random.permutation(np.arange(X.shape[0]))\n",
        "        self._X = X[shuffle_index]\n",
        "        self._y = y[shuffle_index]\n",
        "        self._stop = np.ceil(X.shape[0]/self.batch_size).astype(np.int)\n",
        "    def __len__(self):\n",
        "        return self._stop\n",
        "    def __getitem__(self,item):\n",
        "        p0 = item*self.batch_size\n",
        "        p1 = item*self.batch_size + self.batch_size\n",
        "        return self._X[p0:p1], self._y[p0:p1]        \n",
        "    def __iter__(self):\n",
        "        self._counter = 0\n",
        "        return self\n",
        "    def __next__(self):\n",
        "        if self._counter >= self._stop:\n",
        "            raise StopIteration()\n",
        "        p0 = self._counter*self.batch_size\n",
        "        p1 = self._counter*self.batch_size + self.batch_size\n",
        "        self._counter += 1\n",
        "        return self._X[p0:p1], self._y[p0:p1]"
      ],
      "execution_count": 79,
      "outputs": []
    },
    {
      "cell_type": "code",
      "metadata": {
        "id": "zYofD8zHc226"
      },
      "source": [
        "class SGD:\n",
        "    def __init__(self, lr=0.01):\n",
        "        self.lr = lr\n",
        "        self.name = \"SGD\"\n",
        "        \n",
        "    def update(self, layer):\n",
        "        layer.W -= self.lr * layer.dW\n",
        "        layer.B -= self.lr * layer.dB\n",
        "        return layer\n",
        "\n",
        "class AdaGrad:\n",
        "    def __init__(self, lr=0.01):\n",
        "        self.lr = lr\n",
        "        self.name = \"AdaGrad\"\n",
        "        self.hW = 0\n",
        "        self.hB = 0\n",
        "\n",
        "    def update(self, layer):\n",
        "        self.hW += layer.dW ** 2\n",
        "        self.hB = layer.dB ** 2\n",
        "\n",
        "        layer.W -= self.lr * layer.dW / (np.sqrt(self.hW) + 1e-7)\n",
        "        layer.B -= self.lr * layer.dB / (np.sqrt(self.hB) + 1e-7)\n",
        "\n",
        "        return layer"
      ],
      "execution_count": 80,
      "outputs": []
    },
    {
      "cell_type": "code",
      "metadata": {
        "id": "M56-RzQWfmdt"
      },
      "source": [
        "class Softmax:\n",
        "    def __init__(self):\n",
        "        self.name = \"softmax\"\n",
        "    def forward(self, X):\n",
        "        return np.exp(X) / np.sum(np.exp(X), axis=1).reshape(-1, 1)\n",
        "    def backward(self, dZ):\n",
        "        return dZ\n",
        "        \n",
        "class ReLU:\n",
        "    def __init__(self):\n",
        "        self.name = \"ReLU\"\n",
        "    def forward(self, X):\n",
        "        self.X = X\n",
        "        return np.maximum(self.X, 0)\n",
        "    def backward(self, dZ):\n",
        "        return np.where(self.X > 0, dZ, 0)"
      ],
      "execution_count": 81,
      "outputs": []
    },
    {
      "cell_type": "code",
      "metadata": {
        "id": "lHVk5mKQByYI"
      },
      "source": [
        "class SimpleInitializer:\n",
        "    def __init__(self, sigma=0.02, seed=None):\n",
        "        self.sigma = sigma\n",
        "        self.seed = seed\n",
        "        np.random.seed(seed)\n",
        "\n",
        "    def W(self, n_nodes1, n_nodes2):\n",
        "        W = self.sigma * np.random.randn(n_nodes1, n_nodes2)\n",
        "        return W\n",
        "\n",
        "    def B(self, n_nodes2):\n",
        "        B = self.sigma * np.random.randn(n_nodes2)\n",
        "        return B\n",
        "\n",
        "class XavierInitializer:\n",
        "    def __init__(self, seed=None):\n",
        "        self.seed = seed\n",
        "        np.random.seed(seed)\n",
        "\n",
        "    def W(self, n_nodes1, n_nodes2):\n",
        "        self.sigma = 1 / np.sqrt(n_nodes1)\n",
        "        W = self.sigma * np.random.randn(n_nodes1, n_nodes2)\n",
        "        return W\n",
        "\n",
        "    def B(self, n_nodes2):\n",
        "        B = self.sigma * np.random.randn(n_nodes2)\n",
        "        return B\n",
        "\n",
        "class HeInitializer:\n",
        "    def __init__(self, seed=None):\n",
        "        self.seed = seed\n",
        "        np.random.seed(seed)\n",
        "\n",
        "    def W(self, n_nodes1, n_nodes2):\n",
        "        self.sigma = np.sqrt(2 / n_nodes1)\n",
        "        W = self.sigma * np.random.randn(n_nodes1, n_nodes2)\n",
        "        return W\n",
        "\n",
        "    def B(self, n_nodes2):\n",
        "        B = self.sigma * np.random.randn(n_nodes2)\n",
        "        return B"
      ],
      "execution_count": 82,
      "outputs": []
    },
    {
      "cell_type": "code",
      "metadata": {
        "id": "y-29z3miixYx"
      },
      "source": [
        "class FC:\n",
        "    def __init__(self, n_nodes1, n_nodes2, initializer,\n",
        "                 activation, optimizer, bias=True):\n",
        "        self.n_nodes1 = n_nodes1\n",
        "        self.n_nodes2 = n_nodes2\n",
        "        self.initializer = initializer\n",
        "        self.activation = activation\n",
        "        self.optimizer = optimizer\n",
        "        self.bias = bias\n",
        "        self._init_weights()\n",
        "    \n",
        "    def _init_weights(self):\n",
        "        self.W = self.initializer.W(self.n_nodes1, self.n_nodes2)\n",
        "        self.B = self.initializer.B(self.n_nodes2)\n",
        "        \n",
        "    def forward(self, X):\n",
        "        self.input = X\n",
        "        self.A = self.input @ self.W + self.B if self.bias else self.input @ self.W\n",
        "        return self.activation.forward(self.A)\n",
        "\n",
        "    def backward(self, d):\n",
        "        dA = self.activation.backward(d)\n",
        "\n",
        "        self.dW = self.input.T @ dA / len(self.input)\n",
        "        self.dB = np.mean(dA, axis=0)\n",
        "        dZ = dA @ self.W.T\n",
        "        \n",
        "        self.optimizer.update(self)\n",
        "        return dZ"
      ],
      "execution_count": 83,
      "outputs": []
    },
    {
      "cell_type": "code",
      "metadata": {
        "id": "-xlumGBQBEc7"
      },
      "source": [
        "class ScratchCNNClassifier:\n",
        "    def __init__(self, batch_size=1, epochs=10, CNN=[], NN=[],\n",
        "                 random_state=None, verbose=False):\n",
        "        self.batch_size = batch_size\n",
        "        self.epochs = epochs\n",
        "        self.CNN = CNN.copy()\n",
        "        self.NN = NN.copy()\n",
        "        self.random_state = random_state\n",
        "        self.verbose = verbose\n",
        "    \n",
        "    def add_CNN(self, layer):\n",
        "        self.CNN.append(layer)\n",
        "    def add_NN(self, layer):\n",
        "        self.NN.append(layer)\n",
        "\n",
        "    def loss_function(self, y_true, y_proba, tol=1e-7):\n",
        "        L = -np.mean(y_true * np.log(y_proba + tol))\n",
        "        return L\n",
        "    \n",
        "    def _feedforward(self, X):\n",
        "        Z = X.reshape(self.batch_size, 1, -1)\n",
        "        for layer in self.CNN:\n",
        "            Z = layer.forward(Z)\n",
        "        self.cnn_out_shape = Z.shape\n",
        "        Z = Z.reshape(self.batch_size, -1)\n",
        "        for layer in self.NN:\n",
        "            Z = layer.forward(Z)\n",
        "        \n",
        "        return Z\n",
        "    \n",
        "    def _backpropagation(self, d):\n",
        "        dZ = d\n",
        "        for layer in self.NN[::-1]:\n",
        "            dZ = layer.backward(dZ)\n",
        "        dZ = dZ.reshape(self.cnn_out_shape)\n",
        "        for layer in self.CNN[::-1]:\n",
        "            dZ = layer.backward(dZ)\n",
        "        \n",
        "    def fit(self, X, y, X_val=None, y_val=None):\n",
        "        self.train_loss = []\n",
        "        self.val_loss = []\n",
        "        for i in range(self.epochs):\n",
        "            mini_batch = GetMiniBatch(X, y, batch_size=self.batch_size, seed=self.random_state)\n",
        "            loss = 0\n",
        "            for mini_X, mini_y in mini_batch:\n",
        "                Z = self._feedforward(mini_X)\n",
        "                dZ = (Z - mini_y) / self.batch_size\n",
        "                self._backpropagation(dZ)\n",
        "                \n",
        "                # Accumulate loss\n",
        "                l = self.loss_function(mini_y, Z)\n",
        "                loss += l\n",
        "                print(\"Loss\", l)\n",
        "\n",
        "            self.train_loss.append(loss / len(mini_batch))\n",
        "            if X_val is not None and y_val is not None:\n",
        "                self.val_loss.append(self.loss_function(y_val, self.predict_proba(X_val)))\n",
        "\n",
        "            if self.verbose:\n",
        "                print(\"Epoch\", i, \"Loss:\", self.train_loss[-1])\n",
        "\n",
        "        return self\n",
        "    \n",
        "    def predict_proba(self, X):\n",
        "        Z = X[:, np.newaxis, :]\n",
        "        for layer in self.CNN:\n",
        "            Z = layer.forward(Z)\n",
        "        Z = Z.reshape(len(X), -1)\n",
        "        for layer in self.NN:\n",
        "            Z = layer.forward(Z)\n",
        "\n",
        "        return Z\n",
        "\n",
        "    def predict(self, X):\n",
        "        y_proba = self.predict_proba(X)\n",
        "        return np.argmax(y_proba, axis=1)"
      ],
      "execution_count": 84,
      "outputs": []
    },
    {
      "cell_type": "code",
      "metadata": {
        "id": "U_IwOHhqi-1K"
      },
      "source": [
        "from keras.datasets import mnist\n",
        "(X, y), (X_test, y_test) = mnist.load_data()\n",
        "X = X.reshape(-1, 28 * 28)\n",
        "X_test = X_test.reshape(-1, 28 * 28)\n",
        "X = X.astype(np.float)\n",
        "X_test = X_test.astype(np.float)\n",
        "X /= 255\n",
        "X_test /= 255"
      ],
      "execution_count": 85,
      "outputs": []
    },
    {
      "cell_type": "code",
      "metadata": {
        "id": "gt2hKJqen81y"
      },
      "source": [
        "from sklearn.preprocessing import OneHotEncoder\n",
        "enc = OneHotEncoder(handle_unknown='ignore', sparse=False)\n",
        "y_one_hot = enc.fit_transform(y.reshape(-1, 1))\n",
        "y_test_one_hot = enc.transform(y_test.reshape(-1, 1))"
      ],
      "execution_count": 86,
      "outputs": []
    },
    {
      "cell_type": "code",
      "metadata": {
        "colab": {
          "base_uri": "https://localhost:8080/"
        },
        "id": "Tg1xaJPMAej7",
        "outputId": "cbf290b3-d94d-4bb8-f7b4-385c2c82d094"
      },
      "source": [
        "from sklearn.model_selection import train_test_split\n",
        "\n",
        "X_train, X_val, y_train, y_val, y_train_one_hot, y_val_one_hot = train_test_split(X, y, y_one_hot, test_size=0.2, random_state=0)\n",
        "X_train.shape, X_val.shape, y_train.shape, y_val.shape, y_train_one_hot.shape, y_val_one_hot.shape"
      ],
      "execution_count": 87,
      "outputs": [
        {
          "output_type": "execute_result",
          "data": {
            "text/plain": [
              "((48000, 784), (12000, 784), (48000,), (12000,), (48000, 10), (12000, 10))"
            ]
          },
          "metadata": {
            "tags": []
          },
          "execution_count": 87
        }
      ]
    },
    {
      "cell_type": "code",
      "metadata": {
        "id": "933UNuJaACVl"
      },
      "source": [
        "FC1 = FC(15640, 400, initializer=HeInitializer(), activation=ReLU(), optimizer=AdaGrad())\n",
        "FC2 = FC(400, 200, initializer=HeInitializer(), activation=ReLU(), optimizer=AdaGrad())\n",
        "FC3 = FC(200, 10, initializer=SimpleInitializer(), activation=Softmax(), optimizer=AdaGrad())\n",
        "conv1d = SimpleConv1d(out_channel=20, in_channel=1, filter_size=3, padding_size=0, stride_size=1,\n",
        "                      initializer=SimpleInitializerConv1d(), optimizer=SGD(0.01), activation=ReLU())\n",
        "cnn = ScratchCNNClassifier(batch_size=100, epochs=10, verbose=True)\n",
        "cnn.add_CNN(conv1d)\n",
        "cnn.add_NN(FC1)\n",
        "cnn.add_NN(FC2)\n",
        "cnn.add_NN(FC3)"
      ],
      "execution_count": 88,
      "outputs": []
    },
    {
      "cell_type": "code",
      "metadata": {
        "id": "qCnbAdZxC_bD",
        "colab": {
          "base_uri": "https://localhost:8080/"
        },
        "outputId": "a5305aed-21dc-4c2f-ab60-f47830743032"
      },
      "source": [
        "cnn.fit(X_train[:1000], y_train_one_hot[:1000])"
      ],
      "execution_count": 89,
      "outputs": [
        {
          "output_type": "stream",
          "text": [
            "Loss 0.23024350114446476\n",
            "Loss 0.24218113810411696\n",
            "Loss 0.23992110660112276\n",
            "Loss 0.23135841661237183\n",
            "Loss 0.2348100671740502\n",
            "Loss 0.22678622929211656\n",
            "Loss 0.22693439624922956\n",
            "Loss 0.22955770786980628\n",
            "Loss 0.22200256604974822\n",
            "Loss 0.21653173254881966\n",
            "Epoch 0 Loss: 0.23003268616458472\n",
            "Loss 0.2106145636855277\n",
            "Loss 0.20044473293691845\n",
            "Loss 0.20782782738793193\n",
            "Loss 0.3110509784479435\n",
            "Loss 0.2038082168354291\n",
            "Loss 0.18212068396327236\n",
            "Loss 0.16799668203989143\n",
            "Loss 0.1599232725378004\n",
            "Loss 0.15562654640706483\n",
            "Loss 0.13921172365237264\n",
            "Epoch 1 Loss: 0.19386252278941524\n",
            "Loss 0.14604905583335034\n",
            "Loss 0.15686948911086573\n",
            "Loss 0.15670075398858282\n",
            "Loss 0.11356452719052305\n",
            "Loss 0.11364895804157378\n",
            "Loss 0.10577396532928336\n",
            "Loss 0.09547894191066209\n",
            "Loss 0.09687411671851565\n",
            "Loss 0.1174728865813016\n",
            "Loss 0.1208959034469979\n",
            "Epoch 2 Loss: 0.12233285981516565\n",
            "Loss 0.0765455596293084\n",
            "Loss 0.10417640558927778\n",
            "Loss 0.10180456608853213\n",
            "Loss 0.08980919360202944\n",
            "Loss 0.08860774228534928\n",
            "Loss 0.080149168468115\n",
            "Loss 0.07120023278456879\n",
            "Loss 0.06428842287041536\n",
            "Loss 0.062264110732586926\n",
            "Loss 0.06451155855172007\n",
            "Epoch 3 Loss: 0.08033569606019032\n",
            "Loss 0.05525079454344697\n",
            "Loss 0.05770866000455432\n",
            "Loss 0.0694605992788867\n",
            "Loss 0.08229627453658826\n",
            "Loss 0.05892550694347031\n",
            "Loss 0.04490871148111246\n",
            "Loss 0.05075325196508098\n",
            "Loss 0.05115133299051391\n",
            "Loss 0.0641013673173907\n",
            "Loss 0.07201976950123859\n",
            "Epoch 4 Loss: 0.06065762685622832\n",
            "Loss 0.04807172565456142\n",
            "Loss 0.05550356914741716\n",
            "Loss 0.056655615843994825\n",
            "Loss 0.043893327037044474\n",
            "Loss 0.03966267526737445\n",
            "Loss 0.05277517314789834\n",
            "Loss 0.06520746837360722\n",
            "Loss 0.049887987482801745\n",
            "Loss 0.04651081717258733\n",
            "Loss 0.04214415736875238\n",
            "Epoch 5 Loss: 0.05003125164960394\n",
            "Loss 0.03930201720323389\n",
            "Loss 0.037080996631364244\n",
            "Loss 0.03401847181582717\n",
            "Loss 0.045158976252741144\n",
            "Loss 0.03704345288332709\n",
            "Loss 0.054214219432365\n",
            "Loss 0.04890525114788638\n",
            "Loss 0.03513188368330475\n",
            "Loss 0.047177241617679354\n",
            "Loss 0.02906773926342715\n",
            "Epoch 6 Loss: 0.040710024993115615\n",
            "Loss 0.04306936862640833\n",
            "Loss 0.03832068104793237\n",
            "Loss 0.04023904342412092\n",
            "Loss 0.03241642730730606\n",
            "Loss 0.032506257539541575\n",
            "Loss 0.038766366637281266\n",
            "Loss 0.023485721840767932\n",
            "Loss 0.03051273809264999\n",
            "Loss 0.030779415131540783\n",
            "Loss 0.02288534677280951\n",
            "Epoch 7 Loss: 0.03329813664203588\n",
            "Loss 0.029153915176583504\n",
            "Loss 0.036858899270654714\n",
            "Loss 0.03391170966926254\n",
            "Loss 0.026719144129518795\n",
            "Loss 0.028718635117403423\n",
            "Loss 0.02794709484898407\n",
            "Loss 0.02357465853097955\n",
            "Loss 0.02154154616660356\n",
            "Loss 0.025109970742695217\n",
            "Loss 0.03920156824706514\n",
            "Epoch 8 Loss: 0.029273714189975052\n",
            "Loss 0.032412262972527646\n",
            "Loss 0.030495540028537906\n",
            "Loss 0.03188704128277242\n",
            "Loss 0.027568571587989112\n",
            "Loss 0.028263482185011436\n",
            "Loss 0.021816653562856357\n",
            "Loss 0.021251424708772993\n",
            "Loss 0.03194034654942272\n",
            "Loss 0.025540084650528847\n",
            "Loss 0.017154170342006846\n",
            "Epoch 9 Loss: 0.026832957787042627\n"
          ],
          "name": "stdout"
        },
        {
          "output_type": "execute_result",
          "data": {
            "text/plain": [
              "<__main__.ScratchCNNClassifier at 0x7f3b0b314d10>"
            ]
          },
          "metadata": {
            "tags": []
          },
          "execution_count": 89
        }
      ]
    },
    {
      "cell_type": "code",
      "metadata": {
        "id": "-r6heT1hY0go",
        "colab": {
          "base_uri": "https://localhost:8080/",
          "height": 1000
        },
        "outputId": "89cd0436-4891-4b93-fa21-a9528b2eb3e0"
      },
      "source": [
        "evaluate(X_val, y_val, y_val_one_hot, cnn)\n",
        "plot_learning_curve(cnn.train_loss)"
      ],
      "execution_count": 90,
      "outputs": [
        {
          "output_type": "stream",
          "text": [
            "ROC AUC: 0.9901398303040766\n",
            "              precision    recall  f1-score   support\n",
            "\n",
            "           0       0.97      0.91      0.94      1205\n",
            "           1       0.88      0.98      0.92      1379\n",
            "           2       0.90      0.82      0.86      1166\n",
            "           3       0.93      0.80      0.86      1208\n",
            "           4       0.90      0.91      0.90      1153\n",
            "           5       0.76      0.83      0.79      1075\n",
            "           6       0.93      0.93      0.93      1190\n",
            "           7       0.86      0.94      0.90      1228\n",
            "           8       0.83      0.87      0.85      1191\n",
            "           9       0.88      0.81      0.85      1205\n",
            "\n",
            "    accuracy                           0.88     12000\n",
            "   macro avg       0.88      0.88      0.88     12000\n",
            "weighted avg       0.89      0.88      0.88     12000\n",
            "\n"
          ],
          "name": "stdout"
        },
        {
          "output_type": "display_data",
          "data": {
            "image/png": "[encoded data removed]",
            "text/plain": [
              "<Figure size 432x288 with 2 Axes>"
            ]
          },
          "metadata": {
            "tags": [],
            "needs_background": "light"
          }
        },
        {
          "output_type": "display_data",
          "data": {
            "image/png": "[encoded data removed]",
            "text/plain": [
              "<Figure size 1152x576 with 1 Axes>"
            ]
          },
          "metadata": {
            "tags": [],
            "needs_background": "light"
          }
        }
      ]
    }
  ]
}