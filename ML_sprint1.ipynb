{
  "nbformat": 4,
  "nbformat_minor": 0,
  "metadata": {
    "colab": {
      "name": "ML_sprint1.ipynb",
      "provenance": [],
      "collapsed_sections": [],
      "authorship_tag": "ABX9TyPC7eO6r3rE8O7EeGUKRzMx",
      "include_colab_link": true
    },
    "kernelspec": {
      "display_name": "Python 3",
      "name": "python3"
    },
    "language_info": {
      "name": "python"
    }
  },
  "cells": [
    {
      "cell_type": "markdown",
      "metadata": {
        "id": "view-in-github",
        "colab_type": "text"
      },
      "source": [
        "<a href=\"https://colab.research.google.com/github/thanhnguyen2612/diveintocode-ml/blob/master/ML_sprint1.ipynb\" target=\"_parent\"><img src=\"https://colab.research.google.com/assets/colab-badge.svg\" alt=\"Open In Colab\"/></a>"
      ]
    },
    {
      "cell_type": "markdown",
      "metadata": {
        "id": "sa-d7_u0eaP-"
      },
      "source": [
        "# Sprint machine learning flow"
      ]
    },
    {
      "cell_type": "markdown",
      "metadata": {
        "id": "89_0BjRZefZL"
      },
      "source": [
        "## [Problem 1] Cross Validation"
      ]
    },
    {
      "cell_type": "code",
      "metadata": {
        "id": "a-ituW1Z98G8"
      },
      "source": [
        "# !pip install -U scikit-learn"
      ],
      "execution_count": null,
      "outputs": []
    },
    {
      "cell_type": "code",
      "metadata": {
        "id": "UHaDXK-dfIgs"
      },
      "source": [
        "import numpy as np\n",
        "import pandas as pd\n",
        "import matplotlib.pyplot as plt\n",
        "import seaborn as sns\n",
        "%matplotlib inline\n",
        "\n",
        "# Suppress warnings from pandas\n",
        "import warnings\n",
        "warnings.filterwarnings('ignore')"
      ],
      "execution_count": 1,
      "outputs": []
    },
    {
      "cell_type": "code",
      "metadata": {
        "colab": {
          "base_uri": "https://localhost:8080/",
          "height": 346
        },
        "id": "kBjX7BJhfK9J",
        "outputId": "0b7eba0c-542a-4fd3-bf19-6afe023377fb"
      },
      "source": [
        "data = pd.read_csv(\"sample_data/application_train.csv\", index_col='SK_ID_CURR')\n",
        "df = data.drop(\"TARGET\", axis=1)\n",
        "df.head()"
      ],
      "execution_count": 2,
      "outputs": [
        {
          "output_type": "execute_result",
          "data": {
            "text/html": [
              "<div>\n",
              "<style scoped>\n",
              "    .dataframe tbody tr th:only-of-type {\n",
              "        vertical-align: middle;\n",
              "    }\n",
              "\n",
              "    .dataframe tbody tr th {\n",
              "        vertical-align: top;\n",
              "    }\n",
              "\n",
              "    .dataframe thead th {\n",
              "        text-align: right;\n",
              "    }\n",
              "</style>\n",
              "<table border=\"1\" class=\"dataframe\">\n",
              "  <thead>\n",
              "    <tr style=\"text-align: right;\">\n",
              "      <th></th>\n",
              "      <th>NAME_CONTRACT_TYPE</th>\n",
              "      <th>CODE_GENDER</th>\n",
              "      <th>FLAG_OWN_CAR</th>\n",
              "      <th>FLAG_OWN_REALTY</th>\n",
              "      <th>CNT_CHILDREN</th>\n",
              "      <th>AMT_INCOME_TOTAL</th>\n",
              "      <th>AMT_CREDIT</th>\n",
              "      <th>AMT_ANNUITY</th>\n",
              "      <th>AMT_GOODS_PRICE</th>\n",
              "      <th>NAME_TYPE_SUITE</th>\n",
              "      <th>NAME_INCOME_TYPE</th>\n",
              "      <th>NAME_EDUCATION_TYPE</th>\n",
              "      <th>NAME_FAMILY_STATUS</th>\n",
              "      <th>NAME_HOUSING_TYPE</th>\n",
              "      <th>REGION_POPULATION_RELATIVE</th>\n",
              "      <th>DAYS_BIRTH</th>\n",
              "      <th>DAYS_EMPLOYED</th>\n",
              "      <th>DAYS_REGISTRATION</th>\n",
              "      <th>DAYS_ID_PUBLISH</th>\n",
              "      <th>OWN_CAR_AGE</th>\n",
              "      <th>FLAG_MOBIL</th>\n",
              "      <th>FLAG_EMP_PHONE</th>\n",
              "      <th>FLAG_WORK_PHONE</th>\n",
              "      <th>FLAG_CONT_MOBILE</th>\n",
              "      <th>FLAG_PHONE</th>\n",
              "      <th>FLAG_EMAIL</th>\n",
              "      <th>OCCUPATION_TYPE</th>\n",
              "      <th>CNT_FAM_MEMBERS</th>\n",
              "      <th>REGION_RATING_CLIENT</th>\n",
              "      <th>REGION_RATING_CLIENT_W_CITY</th>\n",
              "      <th>WEEKDAY_APPR_PROCESS_START</th>\n",
              "      <th>HOUR_APPR_PROCESS_START</th>\n",
              "      <th>REG_REGION_NOT_LIVE_REGION</th>\n",
              "      <th>REG_REGION_NOT_WORK_REGION</th>\n",
              "      <th>LIVE_REGION_NOT_WORK_REGION</th>\n",
              "      <th>REG_CITY_NOT_LIVE_CITY</th>\n",
              "      <th>REG_CITY_NOT_WORK_CITY</th>\n",
              "      <th>LIVE_CITY_NOT_WORK_CITY</th>\n",
              "      <th>ORGANIZATION_TYPE</th>\n",
              "      <th>EXT_SOURCE_1</th>\n",
              "      <th>...</th>\n",
              "      <th>LIVINGAPARTMENTS_MEDI</th>\n",
              "      <th>LIVINGAREA_MEDI</th>\n",
              "      <th>NONLIVINGAPARTMENTS_MEDI</th>\n",
              "      <th>NONLIVINGAREA_MEDI</th>\n",
              "      <th>FONDKAPREMONT_MODE</th>\n",
              "      <th>HOUSETYPE_MODE</th>\n",
              "      <th>TOTALAREA_MODE</th>\n",
              "      <th>WALLSMATERIAL_MODE</th>\n",
              "      <th>EMERGENCYSTATE_MODE</th>\n",
              "      <th>OBS_30_CNT_SOCIAL_CIRCLE</th>\n",
              "      <th>DEF_30_CNT_SOCIAL_CIRCLE</th>\n",
              "      <th>OBS_60_CNT_SOCIAL_CIRCLE</th>\n",
              "      <th>DEF_60_CNT_SOCIAL_CIRCLE</th>\n",
              "      <th>DAYS_LAST_PHONE_CHANGE</th>\n",
              "      <th>FLAG_DOCUMENT_2</th>\n",
              "      <th>FLAG_DOCUMENT_3</th>\n",
              "      <th>FLAG_DOCUMENT_4</th>\n",
              "      <th>FLAG_DOCUMENT_5</th>\n",
              "      <th>FLAG_DOCUMENT_6</th>\n",
              "      <th>FLAG_DOCUMENT_7</th>\n",
              "      <th>FLAG_DOCUMENT_8</th>\n",
              "      <th>FLAG_DOCUMENT_9</th>\n",
              "      <th>FLAG_DOCUMENT_10</th>\n",
              "      <th>FLAG_DOCUMENT_11</th>\n",
              "      <th>FLAG_DOCUMENT_12</th>\n",
              "      <th>FLAG_DOCUMENT_13</th>\n",
              "      <th>FLAG_DOCUMENT_14</th>\n",
              "      <th>FLAG_DOCUMENT_15</th>\n",
              "      <th>FLAG_DOCUMENT_16</th>\n",
              "      <th>FLAG_DOCUMENT_17</th>\n",
              "      <th>FLAG_DOCUMENT_18</th>\n",
              "      <th>FLAG_DOCUMENT_19</th>\n",
              "      <th>FLAG_DOCUMENT_20</th>\n",
              "      <th>FLAG_DOCUMENT_21</th>\n",
              "      <th>AMT_REQ_CREDIT_BUREAU_HOUR</th>\n",
              "      <th>AMT_REQ_CREDIT_BUREAU_DAY</th>\n",
              "      <th>AMT_REQ_CREDIT_BUREAU_WEEK</th>\n",
              "      <th>AMT_REQ_CREDIT_BUREAU_MON</th>\n",
              "      <th>AMT_REQ_CREDIT_BUREAU_QRT</th>\n",
              "      <th>AMT_REQ_CREDIT_BUREAU_YEAR</th>\n",
              "    </tr>\n",
              "    <tr>\n",
              "      <th>SK_ID_CURR</th>\n",
              "      <th></th>\n",
              "      <th></th>\n",
              "      <th></th>\n",
              "      <th></th>\n",
              "      <th></th>\n",
              "      <th></th>\n",
              "      <th></th>\n",
              "      <th></th>\n",
              "      <th></th>\n",
              "      <th></th>\n",
              "      <th></th>\n",
              "      <th></th>\n",
              "      <th></th>\n",
              "      <th></th>\n",
              "      <th></th>\n",
              "      <th></th>\n",
              "      <th></th>\n",
              "      <th></th>\n",
              "      <th></th>\n",
              "      <th></th>\n",
              "      <th></th>\n",
              "      <th></th>\n",
              "      <th></th>\n",
              "      <th></th>\n",
              "      <th></th>\n",
              "      <th></th>\n",
              "      <th></th>\n",
              "      <th></th>\n",
              "      <th></th>\n",
              "      <th></th>\n",
              "      <th></th>\n",
              "      <th></th>\n",
              "      <th></th>\n",
              "      <th></th>\n",
              "      <th></th>\n",
              "      <th></th>\n",
              "      <th></th>\n",
              "      <th></th>\n",
              "      <th></th>\n",
              "      <th></th>\n",
              "      <th></th>\n",
              "      <th></th>\n",
              "      <th></th>\n",
              "      <th></th>\n",
              "      <th></th>\n",
              "      <th></th>\n",
              "      <th></th>\n",
              "      <th></th>\n",
              "      <th></th>\n",
              "      <th></th>\n",
              "      <th></th>\n",
              "      <th></th>\n",
              "      <th></th>\n",
              "      <th></th>\n",
              "      <th></th>\n",
              "      <th></th>\n",
              "      <th></th>\n",
              "      <th></th>\n",
              "      <th></th>\n",
              "      <th></th>\n",
              "      <th></th>\n",
              "      <th></th>\n",
              "      <th></th>\n",
              "      <th></th>\n",
              "      <th></th>\n",
              "      <th></th>\n",
              "      <th></th>\n",
              "      <th></th>\n",
              "      <th></th>\n",
              "      <th></th>\n",
              "      <th></th>\n",
              "      <th></th>\n",
              "      <th></th>\n",
              "      <th></th>\n",
              "      <th></th>\n",
              "      <th></th>\n",
              "      <th></th>\n",
              "      <th></th>\n",
              "      <th></th>\n",
              "      <th></th>\n",
              "      <th></th>\n",
              "    </tr>\n",
              "  </thead>\n",
              "  <tbody>\n",
              "    <tr>\n",
              "      <th>100002</th>\n",
              "      <td>Cash loans</td>\n",
              "      <td>M</td>\n",
              "      <td>N</td>\n",
              "      <td>Y</td>\n",
              "      <td>0</td>\n",
              "      <td>202500.0</td>\n",
              "      <td>406597.5</td>\n",
              "      <td>24700.5</td>\n",
              "      <td>351000.0</td>\n",
              "      <td>Unaccompanied</td>\n",
              "      <td>Working</td>\n",
              "      <td>Secondary / secondary special</td>\n",
              "      <td>Single / not married</td>\n",
              "      <td>House / apartment</td>\n",
              "      <td>0.018801</td>\n",
              "      <td>-9461</td>\n",
              "      <td>-637</td>\n",
              "      <td>-3648.0</td>\n",
              "      <td>-2120</td>\n",
              "      <td>NaN</td>\n",
              "      <td>1</td>\n",
              "      <td>1</td>\n",
              "      <td>0</td>\n",
              "      <td>1</td>\n",
              "      <td>1</td>\n",
              "      <td>0</td>\n",
              "      <td>Laborers</td>\n",
              "      <td>1.0</td>\n",
              "      <td>2</td>\n",
              "      <td>2</td>\n",
              "      <td>WEDNESDAY</td>\n",
              "      <td>10</td>\n",
              "      <td>0</td>\n",
              "      <td>0</td>\n",
              "      <td>0</td>\n",
              "      <td>0</td>\n",
              "      <td>0</td>\n",
              "      <td>0</td>\n",
              "      <td>Business Entity Type 3</td>\n",
              "      <td>0.083037</td>\n",
              "      <td>...</td>\n",
              "      <td>0.0205</td>\n",
              "      <td>0.0193</td>\n",
              "      <td>0.0000</td>\n",
              "      <td>0.00</td>\n",
              "      <td>reg oper account</td>\n",
              "      <td>block of flats</td>\n",
              "      <td>0.0149</td>\n",
              "      <td>Stone, brick</td>\n",
              "      <td>No</td>\n",
              "      <td>2.0</td>\n",
              "      <td>2.0</td>\n",
              "      <td>2.0</td>\n",
              "      <td>2.0</td>\n",
              "      <td>-1134.0</td>\n",
              "      <td>0</td>\n",
              "      <td>1</td>\n",
              "      <td>0</td>\n",
              "      <td>0</td>\n",
              "      <td>0</td>\n",
              "      <td>0</td>\n",
              "      <td>0</td>\n",
              "      <td>0</td>\n",
              "      <td>0</td>\n",
              "      <td>0</td>\n",
              "      <td>0</td>\n",
              "      <td>0</td>\n",
              "      <td>0</td>\n",
              "      <td>0</td>\n",
              "      <td>0</td>\n",
              "      <td>0</td>\n",
              "      <td>0</td>\n",
              "      <td>0</td>\n",
              "      <td>0</td>\n",
              "      <td>0</td>\n",
              "      <td>0.0</td>\n",
              "      <td>0.0</td>\n",
              "      <td>0.0</td>\n",
              "      <td>0.0</td>\n",
              "      <td>0.0</td>\n",
              "      <td>1.0</td>\n",
              "    </tr>\n",
              "    <tr>\n",
              "      <th>100003</th>\n",
              "      <td>Cash loans</td>\n",
              "      <td>F</td>\n",
              "      <td>N</td>\n",
              "      <td>N</td>\n",
              "      <td>0</td>\n",
              "      <td>270000.0</td>\n",
              "      <td>1293502.5</td>\n",
              "      <td>35698.5</td>\n",
              "      <td>1129500.0</td>\n",
              "      <td>Family</td>\n",
              "      <td>State servant</td>\n",
              "      <td>Higher education</td>\n",
              "      <td>Married</td>\n",
              "      <td>House / apartment</td>\n",
              "      <td>0.003541</td>\n",
              "      <td>-16765</td>\n",
              "      <td>-1188</td>\n",
              "      <td>-1186.0</td>\n",
              "      <td>-291</td>\n",
              "      <td>NaN</td>\n",
              "      <td>1</td>\n",
              "      <td>1</td>\n",
              "      <td>0</td>\n",
              "      <td>1</td>\n",
              "      <td>1</td>\n",
              "      <td>0</td>\n",
              "      <td>Core staff</td>\n",
              "      <td>2.0</td>\n",
              "      <td>1</td>\n",
              "      <td>1</td>\n",
              "      <td>MONDAY</td>\n",
              "      <td>11</td>\n",
              "      <td>0</td>\n",
              "      <td>0</td>\n",
              "      <td>0</td>\n",
              "      <td>0</td>\n",
              "      <td>0</td>\n",
              "      <td>0</td>\n",
              "      <td>School</td>\n",
              "      <td>0.311267</td>\n",
              "      <td>...</td>\n",
              "      <td>0.0787</td>\n",
              "      <td>0.0558</td>\n",
              "      <td>0.0039</td>\n",
              "      <td>0.01</td>\n",
              "      <td>reg oper account</td>\n",
              "      <td>block of flats</td>\n",
              "      <td>0.0714</td>\n",
              "      <td>Block</td>\n",
              "      <td>No</td>\n",
              "      <td>1.0</td>\n",
              "      <td>0.0</td>\n",
              "      <td>1.0</td>\n",
              "      <td>0.0</td>\n",
              "      <td>-828.0</td>\n",
              "      <td>0</td>\n",
              "      <td>1</td>\n",
              "      <td>0</td>\n",
              "      <td>0</td>\n",
              "      <td>0</td>\n",
              "      <td>0</td>\n",
              "      <td>0</td>\n",
              "      <td>0</td>\n",
              "      <td>0</td>\n",
              "      <td>0</td>\n",
              "      <td>0</td>\n",
              "      <td>0</td>\n",
              "      <td>0</td>\n",
              "      <td>0</td>\n",
              "      <td>0</td>\n",
              "      <td>0</td>\n",
              "      <td>0</td>\n",
              "      <td>0</td>\n",
              "      <td>0</td>\n",
              "      <td>0</td>\n",
              "      <td>0.0</td>\n",
              "      <td>0.0</td>\n",
              "      <td>0.0</td>\n",
              "      <td>0.0</td>\n",
              "      <td>0.0</td>\n",
              "      <td>0.0</td>\n",
              "    </tr>\n",
              "    <tr>\n",
              "      <th>100004</th>\n",
              "      <td>Revolving loans</td>\n",
              "      <td>M</td>\n",
              "      <td>Y</td>\n",
              "      <td>Y</td>\n",
              "      <td>0</td>\n",
              "      <td>67500.0</td>\n",
              "      <td>135000.0</td>\n",
              "      <td>6750.0</td>\n",
              "      <td>135000.0</td>\n",
              "      <td>Unaccompanied</td>\n",
              "      <td>Working</td>\n",
              "      <td>Secondary / secondary special</td>\n",
              "      <td>Single / not married</td>\n",
              "      <td>House / apartment</td>\n",
              "      <td>0.010032</td>\n",
              "      <td>-19046</td>\n",
              "      <td>-225</td>\n",
              "      <td>-4260.0</td>\n",
              "      <td>-2531</td>\n",
              "      <td>26.0</td>\n",
              "      <td>1</td>\n",
              "      <td>1</td>\n",
              "      <td>1</td>\n",
              "      <td>1</td>\n",
              "      <td>1</td>\n",
              "      <td>0</td>\n",
              "      <td>Laborers</td>\n",
              "      <td>1.0</td>\n",
              "      <td>2</td>\n",
              "      <td>2</td>\n",
              "      <td>MONDAY</td>\n",
              "      <td>9</td>\n",
              "      <td>0</td>\n",
              "      <td>0</td>\n",
              "      <td>0</td>\n",
              "      <td>0</td>\n",
              "      <td>0</td>\n",
              "      <td>0</td>\n",
              "      <td>Government</td>\n",
              "      <td>NaN</td>\n",
              "      <td>...</td>\n",
              "      <td>NaN</td>\n",
              "      <td>NaN</td>\n",
              "      <td>NaN</td>\n",
              "      <td>NaN</td>\n",
              "      <td>NaN</td>\n",
              "      <td>NaN</td>\n",
              "      <td>NaN</td>\n",
              "      <td>NaN</td>\n",
              "      <td>NaN</td>\n",
              "      <td>0.0</td>\n",
              "      <td>0.0</td>\n",
              "      <td>0.0</td>\n",
              "      <td>0.0</td>\n",
              "      <td>-815.0</td>\n",
              "      <td>0</td>\n",
              "      <td>0</td>\n",
              "      <td>0</td>\n",
              "      <td>0</td>\n",
              "      <td>0</td>\n",
              "      <td>0</td>\n",
              "      <td>0</td>\n",
              "      <td>0</td>\n",
              "      <td>0</td>\n",
              "      <td>0</td>\n",
              "      <td>0</td>\n",
              "      <td>0</td>\n",
              "      <td>0</td>\n",
              "      <td>0</td>\n",
              "      <td>0</td>\n",
              "      <td>0</td>\n",
              "      <td>0</td>\n",
              "      <td>0</td>\n",
              "      <td>0</td>\n",
              "      <td>0</td>\n",
              "      <td>0.0</td>\n",
              "      <td>0.0</td>\n",
              "      <td>0.0</td>\n",
              "      <td>0.0</td>\n",
              "      <td>0.0</td>\n",
              "      <td>0.0</td>\n",
              "    </tr>\n",
              "    <tr>\n",
              "      <th>100006</th>\n",
              "      <td>Cash loans</td>\n",
              "      <td>F</td>\n",
              "      <td>N</td>\n",
              "      <td>Y</td>\n",
              "      <td>0</td>\n",
              "      <td>135000.0</td>\n",
              "      <td>312682.5</td>\n",
              "      <td>29686.5</td>\n",
              "      <td>297000.0</td>\n",
              "      <td>Unaccompanied</td>\n",
              "      <td>Working</td>\n",
              "      <td>Secondary / secondary special</td>\n",
              "      <td>Civil marriage</td>\n",
              "      <td>House / apartment</td>\n",
              "      <td>0.008019</td>\n",
              "      <td>-19005</td>\n",
              "      <td>-3039</td>\n",
              "      <td>-9833.0</td>\n",
              "      <td>-2437</td>\n",
              "      <td>NaN</td>\n",
              "      <td>1</td>\n",
              "      <td>1</td>\n",
              "      <td>0</td>\n",
              "      <td>1</td>\n",
              "      <td>0</td>\n",
              "      <td>0</td>\n",
              "      <td>Laborers</td>\n",
              "      <td>2.0</td>\n",
              "      <td>2</td>\n",
              "      <td>2</td>\n",
              "      <td>WEDNESDAY</td>\n",
              "      <td>17</td>\n",
              "      <td>0</td>\n",
              "      <td>0</td>\n",
              "      <td>0</td>\n",
              "      <td>0</td>\n",
              "      <td>0</td>\n",
              "      <td>0</td>\n",
              "      <td>Business Entity Type 3</td>\n",
              "      <td>NaN</td>\n",
              "      <td>...</td>\n",
              "      <td>NaN</td>\n",
              "      <td>NaN</td>\n",
              "      <td>NaN</td>\n",
              "      <td>NaN</td>\n",
              "      <td>NaN</td>\n",
              "      <td>NaN</td>\n",
              "      <td>NaN</td>\n",
              "      <td>NaN</td>\n",
              "      <td>NaN</td>\n",
              "      <td>2.0</td>\n",
              "      <td>0.0</td>\n",
              "      <td>2.0</td>\n",
              "      <td>0.0</td>\n",
              "      <td>-617.0</td>\n",
              "      <td>0</td>\n",
              "      <td>1</td>\n",
              "      <td>0</td>\n",
              "      <td>0</td>\n",
              "      <td>0</td>\n",
              "      <td>0</td>\n",
              "      <td>0</td>\n",
              "      <td>0</td>\n",
              "      <td>0</td>\n",
              "      <td>0</td>\n",
              "      <td>0</td>\n",
              "      <td>0</td>\n",
              "      <td>0</td>\n",
              "      <td>0</td>\n",
              "      <td>0</td>\n",
              "      <td>0</td>\n",
              "      <td>0</td>\n",
              "      <td>0</td>\n",
              "      <td>0</td>\n",
              "      <td>0</td>\n",
              "      <td>NaN</td>\n",
              "      <td>NaN</td>\n",
              "      <td>NaN</td>\n",
              "      <td>NaN</td>\n",
              "      <td>NaN</td>\n",
              "      <td>NaN</td>\n",
              "    </tr>\n",
              "    <tr>\n",
              "      <th>100007</th>\n",
              "      <td>Cash loans</td>\n",
              "      <td>M</td>\n",
              "      <td>N</td>\n",
              "      <td>Y</td>\n",
              "      <td>0</td>\n",
              "      <td>121500.0</td>\n",
              "      <td>513000.0</td>\n",
              "      <td>21865.5</td>\n",
              "      <td>513000.0</td>\n",
              "      <td>Unaccompanied</td>\n",
              "      <td>Working</td>\n",
              "      <td>Secondary / secondary special</td>\n",
              "      <td>Single / not married</td>\n",
              "      <td>House / apartment</td>\n",
              "      <td>0.028663</td>\n",
              "      <td>-19932</td>\n",
              "      <td>-3038</td>\n",
              "      <td>-4311.0</td>\n",
              "      <td>-3458</td>\n",
              "      <td>NaN</td>\n",
              "      <td>1</td>\n",
              "      <td>1</td>\n",
              "      <td>0</td>\n",
              "      <td>1</td>\n",
              "      <td>0</td>\n",
              "      <td>0</td>\n",
              "      <td>Core staff</td>\n",
              "      <td>1.0</td>\n",
              "      <td>2</td>\n",
              "      <td>2</td>\n",
              "      <td>THURSDAY</td>\n",
              "      <td>11</td>\n",
              "      <td>0</td>\n",
              "      <td>0</td>\n",
              "      <td>0</td>\n",
              "      <td>0</td>\n",
              "      <td>1</td>\n",
              "      <td>1</td>\n",
              "      <td>Religion</td>\n",
              "      <td>NaN</td>\n",
              "      <td>...</td>\n",
              "      <td>NaN</td>\n",
              "      <td>NaN</td>\n",
              "      <td>NaN</td>\n",
              "      <td>NaN</td>\n",
              "      <td>NaN</td>\n",
              "      <td>NaN</td>\n",
              "      <td>NaN</td>\n",
              "      <td>NaN</td>\n",
              "      <td>NaN</td>\n",
              "      <td>0.0</td>\n",
              "      <td>0.0</td>\n",
              "      <td>0.0</td>\n",
              "      <td>0.0</td>\n",
              "      <td>-1106.0</td>\n",
              "      <td>0</td>\n",
              "      <td>0</td>\n",
              "      <td>0</td>\n",
              "      <td>0</td>\n",
              "      <td>0</td>\n",
              "      <td>0</td>\n",
              "      <td>1</td>\n",
              "      <td>0</td>\n",
              "      <td>0</td>\n",
              "      <td>0</td>\n",
              "      <td>0</td>\n",
              "      <td>0</td>\n",
              "      <td>0</td>\n",
              "      <td>0</td>\n",
              "      <td>0</td>\n",
              "      <td>0</td>\n",
              "      <td>0</td>\n",
              "      <td>0</td>\n",
              "      <td>0</td>\n",
              "      <td>0</td>\n",
              "      <td>0.0</td>\n",
              "      <td>0.0</td>\n",
              "      <td>0.0</td>\n",
              "      <td>0.0</td>\n",
              "      <td>0.0</td>\n",
              "      <td>0.0</td>\n",
              "    </tr>\n",
              "  </tbody>\n",
              "</table>\n",
              "<p>5 rows × 120 columns</p>\n",
              "</div>"
            ],
            "text/plain": [
              "           NAME_CONTRACT_TYPE  ... AMT_REQ_CREDIT_BUREAU_YEAR\n",
              "SK_ID_CURR                     ...                           \n",
              "100002             Cash loans  ...                        1.0\n",
              "100003             Cash loans  ...                        0.0\n",
              "100004        Revolving loans  ...                        0.0\n",
              "100006             Cash loans  ...                        NaN\n",
              "100007             Cash loans  ...                        0.0\n",
              "\n",
              "[5 rows x 120 columns]"
            ]
          },
          "metadata": {
            "tags": []
          },
          "execution_count": 2
        }
      ]
    },
    {
      "cell_type": "code",
      "metadata": {
        "colab": {
          "base_uri": "https://localhost:8080/"
        },
        "id": "qH7LRRvpgbVu",
        "outputId": "a3898cab-84af-4bf5-f580-d804996c1c25"
      },
      "source": [
        "from sklearn.model_selection import train_test_split\n",
        "\n",
        "X, y = data.drop('TARGET', axis=1), data['TARGET']\n",
        "X_train, X_val, y_train, y_val = train_test_split(X, y, test_size=0.25, random_state=1)\n",
        "print(X_train.shape, X_val.shape, y_train.shape, y_val.shape)"
      ],
      "execution_count": 3,
      "outputs": [
        {
          "output_type": "stream",
          "text": [
            "(230633, 120) (76878, 120) (230633,) (76878,)\n"
          ],
          "name": "stdout"
        }
      ]
    },
    {
      "cell_type": "markdown",
      "metadata": {
        "id": "DQz_qGEug8h4"
      },
      "source": [
        "### Run baseline model"
      ]
    },
    {
      "cell_type": "code",
      "metadata": {
        "id": "o2-WB4hKwUph"
      },
      "source": [
        "discrete_cols = df.select_dtypes(include='int').columns.tolist()\n",
        "\n",
        "# Bring high cordinality columns to numerical pipeline\n",
        "numerical_cols = df.select_dtypes(include='float').columns.tolist() \\\n",
        "                    + [col for col in discrete_cols if df[col].nunique() >= 30]\n",
        "low_card_discrete_cols = [col for col in discrete_cols if df[col].nunique() < 30]\n",
        "categorical_cols = df.select_dtypes(include='object').columns.tolist()"
      ],
      "execution_count": 4,
      "outputs": []
    },
    {
      "cell_type": "code",
      "metadata": {
        "id": "gtGGbEkNeeYc"
      },
      "source": [
        "from sklearn.impute import SimpleImputer\n",
        "from sklearn.preprocessing import StandardScaler, OneHotEncoder\n",
        "from sklearn.compose import make_column_transformer\n",
        "from sklearn.pipeline import make_pipeline\n",
        "\n",
        "# Column preprocessing\n",
        "numerical_pipeline = make_pipeline(SimpleImputer(strategy=\"median\"),\n",
        "                                   StandardScaler())\n",
        "low_card_discrete_pipeline = make_pipeline(SimpleImputer(strategy=\"most_frequent\"))\n",
        "categorical_pipeline = make_pipeline(SimpleImputer(strategy=\"most_frequent\"),\n",
        "                                     OneHotEncoder(handle_unknown='ignore'))\n",
        "\n",
        "preprocessor = make_column_transformer((numerical_pipeline, numerical_cols),\n",
        "                                       (SimpleImputer(strategy=\"most_frequent\"), low_card_discrete_cols),\n",
        "                                       (categorical_pipeline, categorical_cols))"
      ],
      "execution_count": 5,
      "outputs": []
    },
    {
      "cell_type": "code",
      "metadata": {
        "colab": {
          "base_uri": "https://localhost:8080/"
        },
        "id": "I8OFS9zfgfJ0",
        "outputId": "04b505f7-dfc3-437f-df50-3457ba363290"
      },
      "source": [
        "from sklearn.linear_model import LogisticRegression\n",
        "\n",
        "model = make_pipeline(preprocessor, LogisticRegression(C = 0.0001))\n",
        "model.fit(X_train, y_train)\n",
        "model.score(X_val, y_val)"
      ],
      "execution_count": 6,
      "outputs": [
        {
          "output_type": "execute_result",
          "data": {
            "text/plain": [
              "0.9185722833580479"
            ]
          },
          "metadata": {
            "tags": []
          },
          "execution_count": 6
        }
      ]
    },
    {
      "cell_type": "code",
      "metadata": {
        "colab": {
          "base_uri": "https://localhost:8080/",
          "height": 296
        },
        "id": "B6ORYzbSgySu",
        "outputId": "19a9605f-5a1a-48e2-80e4-3093961d90d0"
      },
      "source": [
        "from sklearn.metrics import roc_auc_score, plot_roc_curve\n",
        "\n",
        "y_score = model.predict_proba(X_val)\n",
        "score = roc_auc_score(y_val, y_score[:,1])\n",
        "print(\"ROC score:\", score)\n",
        "plot_roc_curve(model, X_val, y_val, drop_intermediate=False, name=\"Baseline\")\n",
        "plt.plot([0, 1], [0, 1], linestyle='--', color='r')\n",
        "plt.show()"
      ],
      "execution_count": 7,
      "outputs": [
        {
          "output_type": "stream",
          "text": [
            "ROC score: 0.7379661323213398\n"
          ],
          "name": "stdout"
        },
        {
          "output_type": "display_data",
          "data": {
            "image/png": "[encoded data removed]",
            "text/plain": [
              "<Figure size 432x288 with 1 Axes>"
            ]
          },
          "metadata": {
            "tags": [],
            "needs_background": "light"
          }
        }
      ]
    },
    {
      "cell_type": "markdown",
      "metadata": {
        "id": "BzSEZnJDhAgJ"
      },
      "source": [
        "### Use K-Fold to validate"
      ]
    },
    {
      "cell_type": "code",
      "metadata": {
        "colab": {
          "base_uri": "https://localhost:8080/",
          "height": 1000
        },
        "id": "Z8ZiIJYRgy2k",
        "outputId": "74c801c0-9e8b-4eb4-b756-3e6725f061c6"
      },
      "source": [
        "from sklearn.model_selection import KFold\n",
        "\n",
        "kf = KFold(n_splits=5, shuffle=True, random_state=0)\n",
        "\n",
        "model = make_pipeline(preprocessor, LogisticRegression(C = 0.0001))\n",
        "for train_idx, val_idx in kf.split(X, y):\n",
        "    X_train, X_val = X.iloc[train_idx], X.iloc[val_idx]\n",
        "    y_train, y_val = y.iloc[train_idx], y.iloc[val_idx]\n",
        "    model.fit(X_train, y_train)\n",
        "    model.score(X_val, y_val)\n",
        "\n",
        "    y_score = model.predict_proba(X_val)\n",
        "    score = roc_auc_score(y_val, y_score[:,1])\n",
        "    print(\"ROC score:\", score)\n",
        "    plot_roc_curve(model, X_val, y_val, drop_intermediate=False, name=\"Baseline\")\n",
        "    plt.plot([0, 1], [0, 1], linestyle='--', color='r')\n",
        "    plt.show()"
      ],
      "execution_count": 8,
      "outputs": [
        {
          "output_type": "stream",
          "text": [
            "ROC score: 0.7354664416503978\n"
          ],
          "name": "stdout"
        },
        {
          "output_type": "display_data",
          "data": {
            "image/png": "[encoded data removed]",
            "text/plain": [
              "<Figure size 432x288 with 1 Axes>"
            ]
          },
          "metadata": {
            "tags": [],
            "needs_background": "light"
          }
        },
        {
          "output_type": "stream",
          "text": [
            "ROC score: 0.7403703350960846\n"
          ],
          "name": "stdout"
        },
        {
          "output_type": "display_data",
          "data": {
            "image/png": "[encoded data removed]",
            "text/plain": [
              "<Figure size 432x288 with 1 Axes>"
            ]
          },
          "metadata": {
            "tags": [],
            "needs_background": "light"
          }
        },
        {
          "output_type": "stream",
          "text": [
            "ROC score: 0.7343611659342597\n"
          ],
          "name": "stdout"
        },
        {
          "output_type": "display_data",
          "data": {
            "image/png": "[encoded data removed]",
            "text/plain": [
              "<Figure size 432x288 with 1 Axes>"
            ]
          },
          "metadata": {
            "tags": [],
            "needs_background": "light"
          }
        },
        {
          "output_type": "stream",
          "text": [
            "ROC score: 0.7330116036364821\n"
          ],
          "name": "stdout"
        },
        {
          "output_type": "display_data",
          "data": {
            "image/png": "[encoded data removed]",
            "text/plain": [
              "<Figure size 432x288 with 1 Axes>"
            ]
          },
          "metadata": {
            "tags": [],
            "needs_background": "light"
          }
        },
        {
          "output_type": "stream",
          "text": [
            "ROC score: 0.7362197584170727\n"
          ],
          "name": "stdout"
        },
        {
          "output_type": "display_data",
          "data": {
            "image/png": "[encoded data removed]",
            "text/plain": [
              "<Figure size 432x288 with 1 Axes>"
            ]
          },
          "metadata": {
            "tags": [],
            "needs_background": "light"
          }
        }
      ]
    },
    {
      "cell_type": "markdown",
      "metadata": {
        "id": "O3y12Ftcj5Yy"
      },
      "source": [
        "## [Problem 2] Grid search"
      ]
    },
    {
      "cell_type": "code",
      "metadata": {
        "colab": {
          "base_uri": "https://localhost:8080/"
        },
        "id": "kluqq3Gc6ahq",
        "outputId": "912d82df-cf32-4ad9-91de-828cc4815214"
      },
      "source": [
        "print(model)"
      ],
      "execution_count": 9,
      "outputs": [
        {
          "output_type": "stream",
          "text": [
            "Pipeline(steps=[('columntransformer',\n",
            "                 ColumnTransformer(transformers=[('pipeline-1',\n",
            "                                                  Pipeline(steps=[('simpleimputer',\n",
            "                                                                   SimpleImputer(strategy='median')),\n",
            "                                                                  ('standardscaler',\n",
            "                                                                   StandardScaler())]),\n",
            "                                                  ['AMT_INCOME_TOTAL',\n",
            "                                                   'AMT_CREDIT', 'AMT_ANNUITY',\n",
            "                                                   'AMT_GOODS_PRICE',\n",
            "                                                   'REGION_POPULATION_RELATIVE',\n",
            "                                                   'DAYS_REGISTRATION',\n",
            "                                                   'OWN_CAR_AGE',\n",
            "                                                   'CNT_FAM_MEMBERS',\n",
            "                                                   'EXT_SOURCE_1',\n",
            "                                                   '...\n",
            "                                                   'CODE_GENDER',\n",
            "                                                   'FLAG_OWN_CAR',\n",
            "                                                   'FLAG_OWN_REALTY',\n",
            "                                                   'NAME_TYPE_SUITE',\n",
            "                                                   'NAME_INCOME_TYPE',\n",
            "                                                   'NAME_EDUCATION_TYPE',\n",
            "                                                   'NAME_FAMILY_STATUS',\n",
            "                                                   'NAME_HOUSING_TYPE',\n",
            "                                                   'OCCUPATION_TYPE',\n",
            "                                                   'WEEKDAY_APPR_PROCESS_START',\n",
            "                                                   'ORGANIZATION_TYPE',\n",
            "                                                   'FONDKAPREMONT_MODE',\n",
            "                                                   'HOUSETYPE_MODE',\n",
            "                                                   'WALLSMATERIAL_MODE',\n",
            "                                                   'EMERGENCYSTATE_MODE'])])),\n",
            "                ('logisticregression', LogisticRegression(C=0.0001))])\n"
          ],
          "name": "stdout"
        }
      ]
    },
    {
      "cell_type": "code",
      "metadata": {
        "id": "S68YRhJljm1k",
        "colab": {
          "base_uri": "https://localhost:8080/"
        },
        "outputId": "c7b2a42c-f284-4d95-9d95-b50d8cc750b6"
      },
      "source": [
        "from sklearn.model_selection import GridSearchCV\n",
        "\n",
        "model = make_pipeline(preprocessor, LogisticRegression())\n",
        "params = {'logisticregression__C': [0.0001, 0.0003, 0.001]}\n",
        "\n",
        "grid = GridSearchCV(estimator=model, param_grid=params, scoring=\"roc_auc\", cv=5)\n",
        "grid.fit(X_train, y_train)\n",
        "print(grid.best_params_)"
      ],
      "execution_count": 10,
      "outputs": [
        {
          "output_type": "stream",
          "text": [
            "{'logisticregression__C': 0.001}\n"
          ],
          "name": "stdout"
        }
      ]
    },
    {
      "cell_type": "markdown",
      "metadata": {
        "id": "gUqV1w39zMzD"
      },
      "source": [
        "## [Problem 3] Survey from Kaggle Notebooks"
      ]
    },
    {
      "cell_type": "markdown",
      "metadata": {
        "id": "u4txHA4Wnhbe"
      },
      "source": [
        "1.   The top vote Notebooks: Use polynomial transformation on some columns + domain knowledge for features fed the model. Use Random Forest to discover feature importances.\n",
        "2.   Many used models (RandomForestClassfier or LightGBM, etc.) to extract important features relating to TARGET: [EXT_SOURCE_1, EXT_SOURCE_2, EXT_SOURCE_3, DAYS_BIRTH, DAYS_EMPLOYED, AMT_CREDIT, AMT_ANNUITY, AMT_GOODS_PRICE, DAYS_ID_PUBLISH, DAYS_LAST_PHONE_CHANGE, DAYS_REGISTRATION]\n",
        "3. Use Bayesian optimization to automatically tune hyperparameters of Gradient Boosting Machine model."
      ]
    },
    {
      "cell_type": "markdown",
      "metadata": {
        "id": "nm8zAv7yNwWD"
      },
      "source": [
        "## [Problem 4] Creating a model with high generalization performance"
      ]
    },
    {
      "cell_type": "markdown",
      "metadata": {
        "id": "RC8W6ThwqKN8"
      },
      "source": [
        "### Select important features based on referenced results and tune with GridSearchCV"
      ]
    },
    {
      "cell_type": "code",
      "metadata": {
        "id": "40Mbcc6M9DQQ",
        "colab": {
          "base_uri": "https://localhost:8080/"
        },
        "outputId": "31311387-5f20-44a4-ae0d-a99eb09ca5d3"
      },
      "source": [
        "selected_cols = [\"EXT_SOURCE_1\", \"EXT_SOURCE_2\", \"EXT_SOURCE_3\", \"DAYS_BIRTH\", \n",
        "                 \"DAYS_EMPLOYED\", \"AMT_CREDIT\", \"AMT_ANNUITY\", \"AMT_GOODS_PRICE\", \n",
        "                 \"DAYS_ID_PUBLISH\", \"DAYS_LAST_PHONE_CHANGE\", \"DAYS_REGISTRATION\"]\n",
        "                \n",
        "X, y = data[selected_cols], data['TARGET']\n",
        "X_train, X_val, y_train, y_val = train_test_split(X, y, test_size=0.25, random_state=0)\n",
        "print(X_train.shape, X_val.shape, y_train.shape, y_val.shape)"
      ],
      "execution_count": 11,
      "outputs": [
        {
          "output_type": "stream",
          "text": [
            "(230633, 11) (76878, 11) (230633,) (76878,)\n"
          ],
          "name": "stdout"
        }
      ]
    },
    {
      "cell_type": "code",
      "metadata": {
        "colab": {
          "base_uri": "https://localhost:8080/"
        },
        "id": "xOhQ7039LKvP",
        "outputId": "55ae90e6-dc76-4ef7-8ba0-87677e48694f"
      },
      "source": [
        "# Use Random Forest Classifier\n",
        "from sklearn.ensemble import RandomForestClassifier\n",
        "\n",
        "model = make_pipeline(SimpleImputer(strategy=\"most_frequent\"),\n",
        "                      StandardScaler(),\n",
        "                      RandomForestClassifier(n_estimators=100, random_state=0))\n",
        "print(model)"
      ],
      "execution_count": 12,
      "outputs": [
        {
          "output_type": "stream",
          "text": [
            "Pipeline(steps=[('simpleimputer', SimpleImputer(strategy='most_frequent')),\n",
            "                ('standardscaler', StandardScaler()),\n",
            "                ('randomforestclassifier',\n",
            "                 RandomForestClassifier(random_state=0))])\n"
          ],
          "name": "stdout"
        }
      ]
    },
    {
      "cell_type": "code",
      "metadata": {
        "colab": {
          "base_uri": "https://localhost:8080/"
        },
        "id": "B1--mgq2Mm5X",
        "outputId": "d92e4c58-d62c-4afd-8736-c4fcd63d7ef7"
      },
      "source": [
        "params = {'randomforestclassifier__n_estimators': [50, 100, 150, 250]}\n",
        "\n",
        "grid = GridSearchCV(model, param_grid=params, scoring='roc_auc', cv=5)\n",
        "grid.fit(X_train, y_train)\n",
        "print(grid.best_score_)\n",
        "print(grid.best_params_)"
      ],
      "execution_count": 13,
      "outputs": [
        {
          "output_type": "stream",
          "text": [
            "0.7164200810193072\n",
            "{'randomforestclassifier__n_estimators': 250}\n"
          ],
          "name": "stdout"
        }
      ]
    },
    {
      "cell_type": "markdown",
      "metadata": {
        "id": "1zzPxHjHq3DR"
      },
      "source": [
        "### Automatic model tuning with LightGBM as baseline model"
      ]
    },
    {
      "cell_type": "markdown",
      "metadata": {
        "id": "iCmVv5N2qdU7"
      },
      "source": [
        "#### Baseline LightGBM to understand hyperparameters"
      ]
    },
    {
      "cell_type": "code",
      "metadata": {
        "id": "NUTfjt8IM7PS"
      },
      "source": [
        "import lightgbm as lgb\n",
        "\n",
        "# Training set\n",
        "train_set = lgb.Dataset(X_train, label = y_train, free_raw_data=False)\n",
        "val_set = lgb.Dataset(X_val, label = y_val, free_raw_data=False)"
      ],
      "execution_count": 25,
      "outputs": []
    },
    {
      "cell_type": "code",
      "metadata": {
        "colab": {
          "base_uri": "https://localhost:8080/"
        },
        "id": "POtnZ_Xn1iRz",
        "outputId": "2230837c-99be-477d-8477-6ec1ac7bd51f"
      },
      "source": [
        "# Default hyperparamters\n",
        "model = lgb.LGBMClassifier(random_state=0)\n",
        "hyperparameters = model.get_params()\n",
        "print(hyperparameters)"
      ],
      "execution_count": 23,
      "outputs": [
        {
          "output_type": "stream",
          "text": [
            "{'boosting_type': 'gbdt', 'class_weight': None, 'colsample_bytree': 1.0, 'importance_type': 'split', 'learning_rate': 0.1, 'max_depth': -1, 'min_child_samples': 20, 'min_child_weight': 0.001, 'min_split_gain': 0.0, 'n_estimators': 100, 'n_jobs': -1, 'num_leaves': 31, 'objective': None, 'random_state': 0, 'reg_alpha': 0.0, 'reg_lambda': 0.0, 'silent': True, 'subsample': 1.0, 'subsample_for_bin': 200000, 'subsample_freq': 0}\n"
          ],
          "name": "stdout"
        }
      ]
    },
    {
      "cell_type": "code",
      "metadata": {
        "colab": {
          "base_uri": "https://localhost:8080/"
        },
        "id": "H3J0yXgeSaIn",
        "outputId": "04751b32-f6f5-4700-908b-4c2ac7a4ff6b"
      },
      "source": [
        "# Using early stopping to determine number of estimators.\n",
        "del hyperparameters['n_estimators']\n",
        "\n",
        "# Perform cross validation with early stopping\n",
        "cv_results = lgb.cv(hyperparameters, train_set, num_boost_round=10000, nfold=5, metrics='auc', \n",
        "                    early_stopping_rounds=100, verbose_eval=False, seed=0)\n",
        "\n",
        "# Highest score\n",
        "best = cv_results['auc-mean'][-1]\n",
        "\n",
        "# Standard deviation of best score\n",
        "best_std = cv_results['auc-stdv'][-1]\n",
        "\n",
        "print('The maximium ROC AUC in cross validation was {:.5f} with std of {:.5f}.'.format(best, best_std))\n",
        "print('The ideal number of iterations was {}.'.format(len(cv_results['auc-mean'])))"
      ],
      "execution_count": 24,
      "outputs": [
        {
          "output_type": "stream",
          "text": [
            "The maximium ROC AUC in cross validation was 0.74378 with std of 0.00451.\n",
            "The ideal number of iterations was 95.\n"
          ],
          "name": "stdout"
        }
      ]
    },
    {
      "cell_type": "code",
      "metadata": {
        "colab": {
          "base_uri": "https://localhost:8080/"
        },
        "id": "x80Z6JkWSoJz",
        "outputId": "3e9713de-2fde-42ae-db3a-9321e613685f"
      },
      "source": [
        "# Optimal number of esimators found in cv\n",
        "model.n_estimators = len(cv_results['auc-mean'])\n",
        "\n",
        "# Train and make predicions with model\n",
        "model.fit(X_train, y_train)\n",
        "y_pred = model.predict_proba(X_val)[:, 1]\n",
        "baseline_auc = roc_auc_score(y_val, y_pred)\n",
        "\n",
        "print('The baseline model scores {:.5f} ROC AUC on the test set.'.format(baseline_auc))"
      ],
      "execution_count": 16,
      "outputs": [
        {
          "output_type": "stream",
          "text": [
            "The baseline model scores 0.74739 ROC AUC on the test set.\n"
          ],
          "name": "stdout"
        }
      ]
    },
    {
      "cell_type": "markdown",
      "metadata": {
        "id": "VNizISyGq62L"
      },
      "source": [
        "### Bayes Optimization tuning method"
      ]
    },
    {
      "cell_type": "markdown",
      "metadata": {
        "id": "l-m1sSPBaWri"
      },
      "source": [
        "##### 1. Objective Function"
      ]
    },
    {
      "cell_type": "code",
      "metadata": {
        "id": "Q-jU-aGRTxVy"
      },
      "source": [
        "from hyperopt import STATUS_OK\n",
        "from timeit import default_timer as timer\n",
        "\n",
        "def objective(hyperparameters):\n",
        "    \"\"\"Objective function for Gradient Boosting Machine Hyperparameter Optimization.\n",
        "       Writes a new line to `outfile` on every iteration\"\"\"\n",
        "    \n",
        "    # Keep track of evals\n",
        "    global ITERATION\n",
        "    \n",
        "    ITERATION += 1\n",
        "    \n",
        "    # Using early stopping to find number of trees trained\n",
        "    if 'n_estimators' in hyperparameters:\n",
        "        del hyperparameters['n_estimators']\n",
        "    \n",
        "    # Retrieve the subsample\n",
        "    subsample = hyperparameters['boosting_type'].get('subsample', 1.0)\n",
        "    \n",
        "    # Extract the boosting type and subsample to top level keys\n",
        "    hyperparameters['boosting_type'] = hyperparameters['boosting_type']['boosting_type']\n",
        "    hyperparameters['subsample'] = subsample\n",
        "    \n",
        "    # Make sure parameters that need to be integers are integers\n",
        "    for parameter_name in ['num_leaves', 'subsample_for_bin', 'min_child_samples']:\n",
        "        hyperparameters[parameter_name] = int(hyperparameters[parameter_name])\n",
        "\n",
        "    start = timer()\n",
        "    \n",
        "    # Perform n_folds cross validation\n",
        "    cv_results = lgb.cv(hyperparameters, train_set, num_boost_round = 10000, nfold = 5, \n",
        "                        early_stopping_rounds = 100, metrics = 'auc', seed = 50)\n",
        "\n",
        "    run_time = timer() - start\n",
        "    \n",
        "    # Extract the best score\n",
        "    best_score = cv_results['auc-mean'][-1]\n",
        "    \n",
        "    # Loss must be minimized\n",
        "    loss = 1 - best_score\n",
        "    \n",
        "    # Boosting rounds that returned the highest cv score\n",
        "    n_estimators = len(cv_results['auc-mean'])\n",
        "    \n",
        "    # Add the number of estimators to the hyperparameters\n",
        "    hyperparameters['n_estimators'] = n_estimators\n",
        "\n",
        "    # Dictionary with information for evaluation\n",
        "    return {'loss': loss, 'hyperparameters': hyperparameters, 'iteration': ITERATION,\n",
        "            'train_time': run_time, 'status': STATUS_OK}"
      ],
      "execution_count": 27,
      "outputs": []
    },
    {
      "cell_type": "markdown",
      "metadata": {
        "id": "YIgUgVKzaLQa"
      },
      "source": [
        "##### 2. Domain space: range of input hyperparameters"
      ]
    },
    {
      "cell_type": "code",
      "metadata": {
        "id": "1-8aSUwjYEXO"
      },
      "source": [
        "from hyperopt import hp\n",
        "\n",
        "# Define the search space\n",
        "space = {\n",
        "    'boosting_type': hp.choice('boosting_type', \n",
        "                                            [{'boosting_type': 'gbdt', 'subsample': hp.uniform('gdbt_subsample', 0.5, 1)}, \n",
        "                                             {'boosting_type': 'dart', 'subsample': hp.uniform('dart_subsample', 0.5, 1)},\n",
        "                                             {'boosting_type': 'goss', 'subsample': 1.0}]),\n",
        "    'num_leaves': hp.quniform('num_leaves', 20, 150, 1),\n",
        "    'learning_rate': hp.loguniform('learning_rate', np.log(0.01), np.log(0.5)),\n",
        "    'subsample_for_bin': hp.quniform('subsample_for_bin', 20000, 300000, 20000),\n",
        "    'min_child_samples': hp.quniform('min_child_samples', 20, 500, 5),\n",
        "    'reg_alpha': hp.uniform('reg_alpha', 0.0, 1.0),\n",
        "    'reg_lambda': hp.uniform('reg_lambda', 0.0, 1.0),\n",
        "    'colsample_bytree': hp.uniform('colsample_by_tree', 0.6, 1.0),\n",
        "    'is_unbalance': hp.choice('is_unbalance', [True, False]),\n",
        "}"
      ],
      "execution_count": 28,
      "outputs": []
    },
    {
      "cell_type": "markdown",
      "metadata": {
        "id": "AS3gFiTUaCCJ"
      },
      "source": [
        "##### 3. Optimization algorithm: Tree Parzer Estimator"
      ]
    },
    {
      "cell_type": "code",
      "metadata": {
        "id": "bY78ukDkZ-sv"
      },
      "source": [
        "from hyperopt import tpe\n",
        "\n",
        "tpe_algorithm = tpe.suggest"
      ],
      "execution_count": 29,
      "outputs": []
    },
    {
      "cell_type": "markdown",
      "metadata": {
        "id": "MVc4fUFTbMbl"
      },
      "source": [
        "##### 4. Run optimizer and store results"
      ]
    },
    {
      "cell_type": "code",
      "metadata": {
        "id": "kGSwLpwq39ma"
      },
      "source": [
        "# Training set\n",
        "train_set = lgb.Dataset(X_train, label = y_train, free_raw_data=False)\n",
        "val_set = lgb.Dataset(X_val, label = y_val, free_raw_data=False)"
      ],
      "execution_count": null,
      "outputs": []
    },
    {
      "cell_type": "code",
      "metadata": {
        "colab": {
          "base_uri": "https://localhost:8080/"
        },
        "id": "2mQrif6dbOp7",
        "outputId": "3f712771-1235-4d94-a499-629388845669"
      },
      "source": [
        "from hyperopt import Trials\n",
        "from hyperopt import fmin\n",
        "\n",
        "# Record results\n",
        "trials = Trials()\n",
        "\n",
        "global ITERATION\n",
        "ITERATION = 0\n",
        "\n",
        "# Run optimization\n",
        "best = fmin(fn=objective, space=space, algo=tpe_algorithm, trials=trials, max_evals=5)\n",
        "print(\"Best parameters:\")\n",
        "print(best)\n",
        "\n",
        "trials_dict = sorted(trials.results, key=lambda x: x['loss'])"
      ],
      "execution_count": 30,
      "outputs": [
        {
          "output_type": "stream",
          "text": [
            "100%|██████████| 5/5 [01:21<00:00, 16.26s/it, best loss: 0.25626614303930473]\n",
            "Best parameters:\n",
            "{'boosting_type': 0, 'colsample_by_tree': 0.784412944285295, 'gdbt_subsample': 0.684117327613527, 'is_unbalance': 0, 'learning_rate': 0.19578329781476783, 'min_child_samples': 400.0, 'num_leaves': 35.0, 'reg_alpha': 0.3203738316299357, 'reg_lambda': 0.9569229543216434, 'subsample_for_bin': 180000.0}\n"
          ],
          "name": "stdout"
        }
      ]
    },
    {
      "cell_type": "markdown",
      "metadata": {
        "id": "lLpAbOCBcnIg"
      },
      "source": [
        "Summary results"
      ]
    },
    {
      "cell_type": "code",
      "metadata": {
        "id": "dhq5EeSTn-SL"
      },
      "source": [
        "def evaluate(trials):\n",
        "    scores = [1 - trial['loss'] for trial in trials]\n",
        "    hyp_df = pd.DataFrame({\"SCORE\": scores})\n",
        "\n",
        "    for key in trials[0].keys():\n",
        "        if key in [\"hyperparameters\", \"loss\"]:\n",
        "            continue\n",
        "        hyp_df[key] = [trial[key] for trial in trials]\n",
        "\n",
        "    hyps = [trial['hyperparameters'] for trial in trials]\n",
        "    for param in hyps[0].keys():\n",
        "        hyp_df[param] = [hyp[param] for hyp in hyps]\n",
        "    return hyp_df"
      ],
      "execution_count": 31,
      "outputs": []
    },
    {
      "cell_type": "code",
      "metadata": {
        "id": "gLT4e_1NcmHp",
        "colab": {
          "base_uri": "https://localhost:8080/",
          "height": 218
        },
        "outputId": "4a9ca56f-5734-465f-ed8d-66dfe7a6f9c3"
      },
      "source": [
        "results = evaluate(trials_dict)\n",
        "display(results)"
      ],
      "execution_count": 32,
      "outputs": [
        {
          "output_type": "display_data",
          "data": {
            "text/html": [
              "<div>\n",
              "<style scoped>\n",
              "    .dataframe tbody tr th:only-of-type {\n",
              "        vertical-align: middle;\n",
              "    }\n",
              "\n",
              "    .dataframe tbody tr th {\n",
              "        vertical-align: top;\n",
              "    }\n",
              "\n",
              "    .dataframe thead th {\n",
              "        text-align: right;\n",
              "    }\n",
              "</style>\n",
              "<table border=\"1\" class=\"dataframe\">\n",
              "  <thead>\n",
              "    <tr style=\"text-align: right;\">\n",
              "      <th></th>\n",
              "      <th>SCORE</th>\n",
              "      <th>iteration</th>\n",
              "      <th>train_time</th>\n",
              "      <th>status</th>\n",
              "      <th>boosting_type</th>\n",
              "      <th>colsample_bytree</th>\n",
              "      <th>is_unbalance</th>\n",
              "      <th>learning_rate</th>\n",
              "      <th>min_child_samples</th>\n",
              "      <th>num_leaves</th>\n",
              "      <th>reg_alpha</th>\n",
              "      <th>reg_lambda</th>\n",
              "      <th>subsample_for_bin</th>\n",
              "      <th>subsample</th>\n",
              "      <th>n_estimators</th>\n",
              "    </tr>\n",
              "  </thead>\n",
              "  <tbody>\n",
              "    <tr>\n",
              "      <th>0</th>\n",
              "      <td>0.743734</td>\n",
              "      <td>1</td>\n",
              "      <td>12.037226</td>\n",
              "      <td>ok</td>\n",
              "      <td>gbdt</td>\n",
              "      <td>0.784413</td>\n",
              "      <td>True</td>\n",
              "      <td>0.195783</td>\n",
              "      <td>400</td>\n",
              "      <td>35</td>\n",
              "      <td>0.320374</td>\n",
              "      <td>0.956923</td>\n",
              "      <td>180000</td>\n",
              "      <td>0.684117</td>\n",
              "      <td>36</td>\n",
              "    </tr>\n",
              "    <tr>\n",
              "      <th>1</th>\n",
              "      <td>0.740350</td>\n",
              "      <td>4</td>\n",
              "      <td>15.786562</td>\n",
              "      <td>ok</td>\n",
              "      <td>gbdt</td>\n",
              "      <td>0.661446</td>\n",
              "      <td>True</td>\n",
              "      <td>0.247587</td>\n",
              "      <td>470</td>\n",
              "      <td>103</td>\n",
              "      <td>0.479847</td>\n",
              "      <td>0.999245</td>\n",
              "      <td>40000</td>\n",
              "      <td>0.557398</td>\n",
              "      <td>14</td>\n",
              "    </tr>\n",
              "    <tr>\n",
              "      <th>2</th>\n",
              "      <td>0.734038</td>\n",
              "      <td>5</td>\n",
              "      <td>13.676554</td>\n",
              "      <td>ok</td>\n",
              "      <td>gbdt</td>\n",
              "      <td>0.997184</td>\n",
              "      <td>True</td>\n",
              "      <td>0.346341</td>\n",
              "      <td>85</td>\n",
              "      <td>129</td>\n",
              "      <td>0.037627</td>\n",
              "      <td>0.319687</td>\n",
              "      <td>200000</td>\n",
              "      <td>0.828335</td>\n",
              "      <td>9</td>\n",
              "    </tr>\n",
              "    <tr>\n",
              "      <th>3</th>\n",
              "      <td>0.732881</td>\n",
              "      <td>2</td>\n",
              "      <td>20.514748</td>\n",
              "      <td>ok</td>\n",
              "      <td>goss</td>\n",
              "      <td>0.946716</td>\n",
              "      <td>False</td>\n",
              "      <td>0.055685</td>\n",
              "      <td>465</td>\n",
              "      <td>88</td>\n",
              "      <td>0.585253</td>\n",
              "      <td>0.275456</td>\n",
              "      <td>260000</td>\n",
              "      <td>1.000000</td>\n",
              "      <td>17</td>\n",
              "    </tr>\n",
              "    <tr>\n",
              "      <th>4</th>\n",
              "      <td>0.730868</td>\n",
              "      <td>3</td>\n",
              "      <td>19.231817</td>\n",
              "      <td>ok</td>\n",
              "      <td>goss</td>\n",
              "      <td>0.928569</td>\n",
              "      <td>True</td>\n",
              "      <td>0.079712</td>\n",
              "      <td>160</td>\n",
              "      <td>79</td>\n",
              "      <td>0.884549</td>\n",
              "      <td>0.108501</td>\n",
              "      <td>240000</td>\n",
              "      <td>1.000000</td>\n",
              "      <td>12</td>\n",
              "    </tr>\n",
              "  </tbody>\n",
              "</table>\n",
              "</div>"
            ],
            "text/plain": [
              "      SCORE  iteration  train_time  ... subsample_for_bin subsample  n_estimators\n",
              "0  0.743734          1   12.037226  ...            180000  0.684117            36\n",
              "1  0.740350          4   15.786562  ...             40000  0.557398            14\n",
              "2  0.734038          5   13.676554  ...            200000  0.828335             9\n",
              "3  0.732881          2   20.514748  ...            260000  1.000000            17\n",
              "4  0.730868          3   19.231817  ...            240000  1.000000            12\n",
              "\n",
              "[5 rows x 15 columns]"
            ]
          },
          "metadata": {
            "tags": []
          }
        }
      ]
    },
    {
      "cell_type": "markdown",
      "metadata": {
        "id": "RHS6yzGjrp6o"
      },
      "source": [
        "## [Problem 5] Final model selection\n",
        "[My Kaggle notebook!!!](https://www.kaggle.com/thanhnguyen2612/ml-sprint1)\n",
        "\n",
        "Use these hyperparameters for submitted LightGBM model.\n",
        "\n",
        "\n",
        "*   Score in train data: 0.743734\n",
        "*   Submission score: 0.66682\n",
        "\n"
      ]
    },
    {
      "cell_type": "code",
      "metadata": {
        "colab": {
          "base_uri": "https://localhost:8080/",
          "height": 294
        },
        "id": "y4MAEbJ64PcD",
        "outputId": "f673c3ec-7e46-4719-d1c7-83b37443c9e6"
      },
      "source": [
        "print(\"Best hyperparameters:\")\n",
        "display(trials_dict[0])"
      ],
      "execution_count": 37,
      "outputs": [
        {
          "output_type": "stream",
          "text": [
            "Best hyperparameters:\n"
          ],
          "name": "stdout"
        },
        {
          "output_type": "display_data",
          "data": {
            "text/plain": [
              "{'hyperparameters': {'boosting_type': 'gbdt',\n",
              "  'colsample_bytree': 0.784412944285295,\n",
              "  'is_unbalance': True,\n",
              "  'learning_rate': 0.19578329781476783,\n",
              "  'min_child_samples': 400,\n",
              "  'n_estimators': 36,\n",
              "  'num_leaves': 35,\n",
              "  'reg_alpha': 0.3203738316299357,\n",
              "  'reg_lambda': 0.9569229543216434,\n",
              "  'subsample': 0.684117327613527,\n",
              "  'subsample_for_bin': 180000},\n",
              " 'iteration': 1,\n",
              " 'loss': 0.25626614303930473,\n",
              " 'status': 'ok',\n",
              " 'train_time': 12.037225585001579}"
            ]
          },
          "metadata": {
            "tags": []
          }
        }
      ]
    }
  ]
}