{
  "nbformat": 4,
  "nbformat_minor": 0,
  "metadata": {
    "colab": {
      "name": "ML_Week4_preclass_ass3.ipynb",
      "provenance": [],
      "collapsed_sections": [],
      "authorship_tag": "ABX9TyMyRpI5gGK8xeep+nBCtcgb",
      "include_colab_link": true
    },
    "kernelspec": {
      "name": "python3",
      "display_name": "Python 3"
    },
    "language_info": {
      "name": "python"
    }
  },
  "cells": [
    {
      "cell_type": "markdown",
      "metadata": {
        "id": "view-in-github",
        "colab_type": "text"
      },
      "source": [
        "<a href=\"https://colab.research.google.com/github/thanhnguyen2612/diveintocode-ml/blob/master/ML_Week4_preclass_ass3.ipynb\" target=\"_parent\"><img src=\"https://colab.research.google.com/assets/colab-badge.svg\" alt=\"Open In Colab\"/></a>"
      ]
    },
    {
      "cell_type": "markdown",
      "metadata": {
        "id": "FdImsmMAFW2x"
      },
      "source": [
        "# Introduction to Machine Learning Pre-class assignment 3 Utilization of Object Orientation"
      ]
    },
    {
      "cell_type": "markdown",
      "metadata": {
        "id": "sn86K19GJMR5"
      },
      "source": [
        "## [Problem 1] Enumeration of classes used so far"
      ]
    },
    {
      "cell_type": "markdown",
      "metadata": {
        "id": "uUExPWsuJWtr"
      },
      "source": [
        "*   Pandas library has classes: DataFrame, Series, etc.\n",
        "*   matplotlib has: Figure, Axes, etc.\n",
        "*   sklearn has: StandardScaler, KneighborsClassifier, LinearRegression, SVM, etc.\n",
        "\n",
        "\n"
      ]
    },
    {
      "cell_type": "markdown",
      "metadata": {
        "id": "VNlE_v8MLafi"
      },
      "source": [
        "## [Problem 2] Enumeration of methods and instance variables used so far"
      ]
    },
    {
      "cell_type": "markdown",
      "metadata": {
        "id": "4KMOBoCiLl6A"
      },
      "source": [
        "Some methods used belonging to class:\n",
        "\n",
        "*   DataFrame: head(), tail(), info(), describe(), drop(), select_dtypes(), isnull(), notnull(), etc.\n",
        "*   matplotlib: set_title(), set_xlabel(), set_ylabel(), add_axes(), show(), etc.\n",
        "*   sklearn: fit(), fit_transform(), transform, predict(), accuracy_score(), etc.\n",
        "\n"
      ]
    },
    {
      "cell_type": "markdown",
      "metadata": {
        "id": "PXBq6Gx-NZcL"
      },
      "source": [
        "## [Problem 3] Creating a standardized class by scratch"
      ]
    },
    {
      "cell_type": "markdown",
      "metadata": {
        "id": "LMBv-fy7RJhb"
      },
      "source": [
        "Use sklearn library"
      ]
    },
    {
      "cell_type": "code",
      "metadata": {
        "colab": {
          "base_uri": "https://localhost:8080/"
        },
        "id": "0LO6pmTZRHLc",
        "outputId": "90970a7c-e894-47dd-98ff-64a0be53c989"
      },
      "source": [
        "import numpy as np\n",
        "from sklearn.preprocessing import StandardScaler\n",
        "from sklearn.datasets import load_iris\n",
        "\n",
        "data = load_iris()\n",
        "X = data.data[:10]\n",
        "scaler = StandardScaler()\n",
        "scaler.fit(X)\n",
        "print(\"Mean :\", scaler.mean_)\n",
        "print(\"Variance :\", scaler.var_)\n",
        "X_std = scaler.transform(X)"
      ],
      "execution_count": null,
      "outputs": [
        {
          "output_type": "stream",
          "text": [
            "Mean : [4.86 3.31 1.45 0.22]\n",
            "Variance : [0.0764 0.0849 0.0105 0.0056]\n"
          ],
          "name": "stdout"
        }
      ]
    },
    {
      "cell_type": "markdown",
      "metadata": {
        "id": "tYWzdUU3RQY4"
      },
      "source": [
        "Build from scratch"
      ]
    },
    {
      "cell_type": "code",
      "metadata": {
        "id": "Z5y0ZBXpFL-j"
      },
      "source": [
        "import numpy as np\n",
        "\n",
        "class ScratchStandardScaler():\n",
        "    \"\"\"\n",
        "    Attributes\n",
        "    ----------\n",
        "    mean_ : ndarray, shape(n_features,)\n",
        "    var_ : ndarray, shape(n_features,)\n",
        "    \"\"\"\n",
        "    def fit(self, X):\n",
        "        \"\"\"\n",
        "        Parameters\n",
        "        ----------\n",
        "        X : ndarray, shape (n_samples, n_features)\n",
        "        \"\"\"\n",
        "        self.mean_ = np.mean(X, axis=0)\n",
        "        self.var_ = np.var(X, axis=0)\n",
        "\n",
        "    def transform(self, X):\n",
        "        \"\"\"\n",
        "        Parameters\n",
        "        ----------\n",
        "        X : ndarray, shape (n_samples, n_features)\n",
        "        Returns\n",
        "        ----------\n",
        "        X_scaled : ndarray, shape (n_samples, n_features)\n",
        "        \"\"\"\n",
        "        X_scaled = (X - self.mean_) / np.sqrt(self.var_)\n",
        "        return X_scaled"
      ],
      "execution_count": null,
      "outputs": []
    },
    {
      "cell_type": "code",
      "metadata": {
        "colab": {
          "base_uri": "https://localhost:8080/"
        },
        "id": "mHbWjNcfR-YC",
        "outputId": "9a2bc77d-806b-41a7-fb67-eabf68606268"
      },
      "source": [
        "data = load_iris()\n",
        "X = data.data[:10]\n",
        "\n",
        "scratch_scaler = ScratchStandardScaler()\n",
        "scratch_scaler.fit(X)\n",
        "print(\"Mean : {}\".format(scratch_scaler.mean_))\n",
        "print(\"Mean : {}\".format(scratch_scaler.var_))\n",
        "X_std = scratch_scaler.transform(X)\n",
        "print(X_std)\n",
        "\n",
        "print(\"\\nCompare to sklearn library\")\n",
        "scaler = StandardScaler()\n",
        "scaler.fit(X)\n",
        "print(\"Mean : {}\".format(scaler.mean_))\n",
        "print(\"Mean : {}\".format(scaler.var_))\n",
        "X_std = scaler.transform(X)\n",
        "print(X_std)"
      ],
      "execution_count": null,
      "outputs": [
        {
          "output_type": "stream",
          "text": [
            "Mean : [4.86 3.31 1.45 0.22]\n",
            "Mean : [0.0764 0.0849 0.0105 0.0056]\n",
            "[[ 0.86828953  0.65207831 -0.48795004 -0.26726124]\n",
            " [ 0.14471492 -1.06391725 -0.48795004 -0.26726124]\n",
            " [-0.57885968 -0.37751902 -1.46385011 -0.26726124]\n",
            " [-0.94064699 -0.72071813  0.48795004 -0.26726124]\n",
            " [ 0.50650222  0.99527742 -0.48795004 -0.26726124]\n",
            " [ 1.95365143  2.02487476  2.43975018  2.40535118]\n",
            " [-0.94064699  0.3088792  -0.48795004  1.06904497]\n",
            " [ 0.50650222  0.3088792   0.48795004 -0.26726124]\n",
            " [-1.66422159 -1.40711636 -0.48795004 -0.26726124]\n",
            " [ 0.14471492 -0.72071813  0.48795004 -1.60356745]]\n",
            "\n",
            "Compare to sklearn library\n",
            "Mean : [4.86 3.31 1.45 0.22]\n",
            "Mean : [0.0764 0.0849 0.0105 0.0056]\n",
            "[[ 0.86828953  0.65207831 -0.48795004 -0.26726124]\n",
            " [ 0.14471492 -1.06391725 -0.48795004 -0.26726124]\n",
            " [-0.57885968 -0.37751902 -1.46385011 -0.26726124]\n",
            " [-0.94064699 -0.72071813  0.48795004 -0.26726124]\n",
            " [ 0.50650222  0.99527742 -0.48795004 -0.26726124]\n",
            " [ 1.95365143  2.02487476  2.43975018  2.40535118]\n",
            " [-0.94064699  0.3088792  -0.48795004  1.06904497]\n",
            " [ 0.50650222  0.3088792   0.48795004 -0.26726124]\n",
            " [-1.66422159 -1.40711636 -0.48795004 -0.26726124]\n",
            " [ 0.14471492 -0.72071813  0.48795004 -1.60356745]]\n"
          ],
          "name": "stdout"
        }
      ]
    },
    {
      "cell_type": "markdown",
      "metadata": {
        "id": "iH5jwwhaaMZc"
      },
      "source": [
        "## [Problem 4] Creating a class that performs 4 arithmetic operations"
      ]
    },
    {
      "cell_type": "code",
      "metadata": {
        "id": "YeC7jGLsSC4k",
        "colab": {
          "base_uri": "https://localhost:8080/"
        },
        "outputId": "a163382c-cc9b-4686-d3a3-338847d67eae"
      },
      "source": [
        "class ExampleClass():\n",
        "    \"\"\"\n",
        "    Parameters\n",
        "    ----------\n",
        "    value : float or int\n",
        "    Attributes\n",
        "    ----------\n",
        "    value : float or int\n",
        "    \"\"\"\n",
        "    def __init__(self, value):\n",
        "        assert type(value) in [int, float], \"Initial value must be numeric\"\n",
        "        self.value = value\n",
        "        print(f\"Initial value {self.value} has been set\")\n",
        "\n",
        "    def add(self, value2):\n",
        "        self.value += value2\n",
        "    \n",
        "    def subtract(self, value2):\n",
        "        self.value -= value2\n",
        "    \n",
        "    def multiply(self, value2):\n",
        "        self.value *= value2\n",
        "    \n",
        "    def divide(self, value2):\n",
        "        self.value /= value2\n",
        "\n",
        "example = ExampleClass(5)\n",
        "print(\"value : {}\".format(example.value))\n",
        "example.add(3)\n",
        "print(\"value : {}\".format(example.value))\n",
        "example.subtract(3)\n",
        "print(\"value : {}\".format(example.value))\n",
        "example.multiply(3)\n",
        "print(\"value : {}\".format(example.value))\n",
        "example.divide(2)\n",
        "print(\"value : {}\".format(example.value))"
      ],
      "execution_count": 29,
      "outputs": [
        {
          "output_type": "stream",
          "text": [
            "Initial value 5 has been set\n",
            "value : 5\n",
            "value : 8\n",
            "value : 5\n",
            "value : 15\n",
            "value : 7.5\n"
          ],
          "name": "stdout"
        }
      ]
    },
    {
      "cell_type": "code",
      "metadata": {
        "colab": {
          "base_uri": "https://localhost:8080/",
          "height": 334
        },
        "id": "CnylqMhwbk6f",
        "outputId": "93a5e9c2-0b8c-4b7e-e7cc-5ec5530ff684"
      },
      "source": [
        "print(\"Test invalid input\")\n",
        "error = ExampleClass('2')\n",
        "print(\"value: {}\".format(example.value))"
      ],
      "execution_count": 30,
      "outputs": [
        {
          "output_type": "stream",
          "text": [
            "Test invalid input\n"
          ],
          "name": "stdout"
        },
        {
          "output_type": "error",
          "ename": "AssertionError",
          "evalue": "ignored",
          "traceback": [
            "\u001b[0;31m---------------------------------------------------------------------------\u001b[0m",
            "\u001b[0;31mAssertionError\u001b[0m                            Traceback (most recent call last)",
            "\u001b[0;32m<ipython-input-30-82d597632ed5>\u001b[0m in \u001b[0;36m<module>\u001b[0;34m()\u001b[0m\n\u001b[1;32m      1\u001b[0m \u001b[0mprint\u001b[0m\u001b[0;34m(\u001b[0m\u001b[0;34m\"Test invalid input\"\u001b[0m\u001b[0;34m)\u001b[0m\u001b[0;34m\u001b[0m\u001b[0;34m\u001b[0m\u001b[0m\n\u001b[0;32m----> 2\u001b[0;31m \u001b[0merror\u001b[0m \u001b[0;34m=\u001b[0m \u001b[0mExampleClass\u001b[0m\u001b[0;34m(\u001b[0m\u001b[0;34m'2'\u001b[0m\u001b[0;34m)\u001b[0m\u001b[0;34m\u001b[0m\u001b[0;34m\u001b[0m\u001b[0m\n\u001b[0m\u001b[1;32m      3\u001b[0m \u001b[0mprint\u001b[0m\u001b[0;34m(\u001b[0m\u001b[0;34m\"value: {}\"\u001b[0m\u001b[0;34m.\u001b[0m\u001b[0mformat\u001b[0m\u001b[0;34m(\u001b[0m\u001b[0mexample\u001b[0m\u001b[0;34m.\u001b[0m\u001b[0mvalue\u001b[0m\u001b[0;34m)\u001b[0m\u001b[0;34m)\u001b[0m\u001b[0;34m\u001b[0m\u001b[0;34m\u001b[0m\u001b[0m\n",
            "\u001b[0;32m<ipython-input-29-522c1255e244>\u001b[0m in \u001b[0;36m__init__\u001b[0;34m(self, value)\u001b[0m\n\u001b[1;32m      9\u001b[0m     \"\"\"\n\u001b[1;32m     10\u001b[0m     \u001b[0;32mdef\u001b[0m \u001b[0m__init__\u001b[0m\u001b[0;34m(\u001b[0m\u001b[0mself\u001b[0m\u001b[0;34m,\u001b[0m \u001b[0mvalue\u001b[0m\u001b[0;34m)\u001b[0m\u001b[0;34m:\u001b[0m\u001b[0;34m\u001b[0m\u001b[0;34m\u001b[0m\u001b[0m\n\u001b[0;32m---> 11\u001b[0;31m         \u001b[0;32massert\u001b[0m \u001b[0mtype\u001b[0m\u001b[0;34m(\u001b[0m\u001b[0mvalue\u001b[0m\u001b[0;34m)\u001b[0m \u001b[0;32min\u001b[0m \u001b[0;34m[\u001b[0m\u001b[0mint\u001b[0m\u001b[0;34m,\u001b[0m \u001b[0mfloat\u001b[0m\u001b[0;34m]\u001b[0m\u001b[0;34m,\u001b[0m \u001b[0;34m\"Initial value must be numeric\"\u001b[0m\u001b[0;34m\u001b[0m\u001b[0;34m\u001b[0m\u001b[0m\n\u001b[0m\u001b[1;32m     12\u001b[0m         \u001b[0mself\u001b[0m\u001b[0;34m.\u001b[0m\u001b[0mvalue\u001b[0m \u001b[0;34m=\u001b[0m \u001b[0mvalue\u001b[0m\u001b[0;34m\u001b[0m\u001b[0;34m\u001b[0m\u001b[0m\n\u001b[1;32m     13\u001b[0m         \u001b[0mprint\u001b[0m\u001b[0;34m(\u001b[0m\u001b[0;34mf\"Initial value {self.value} has been set\"\u001b[0m\u001b[0;34m)\u001b[0m\u001b[0;34m\u001b[0m\u001b[0;34m\u001b[0m\u001b[0m\n",
            "\u001b[0;31mAssertionError\u001b[0m: Initial value must be numeric"
          ]
        }
      ]
    }
  ]
}