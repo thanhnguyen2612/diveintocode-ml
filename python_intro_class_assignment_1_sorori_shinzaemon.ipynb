{
  "nbformat": 4,
  "nbformat_minor": 0,
  "metadata": {
    "colab": {
      "name": "python_intro_class_assignment_1_sorori_shinzaemon.ipynb",
      "provenance": [],
      "collapsed_sections": [],
      "authorship_tag": "ABX9TyNb2I9nuXUyZekkmKZJJ+gf",
      "include_colab_link": true
    },
    "kernelspec": {
      "name": "python3",
      "display_name": "Python 3"
    }
  },
  "cells": [
    {
      "cell_type": "markdown",
      "metadata": {
        "id": "view-in-github",
        "colab_type": "text"
      },
      "source": [
        "<a href=\"https://colab.research.google.com/github/thanhnguyen2612/diveintocode-ml/blob/master/python_intro_class_assignment_1_sorori_shinzaemon.ipynb\" target=\"_parent\"><img src=\"https://colab.research.google.com/assets/colab-badge.svg\" alt=\"Open In Colab\"/></a>"
      ]
    },
    {
      "cell_type": "markdown",
      "metadata": {
        "id": "tlX_7cA7W4qE"
      },
      "source": [
        "# Python Introductory Class assignment 1 Sorori Shinzaemon Problem"
      ]
    },
    {
      "cell_type": "markdown",
      "metadata": {
        "id": "wx4l88W1XGV6"
      },
      "source": [
        "## [Problem 1] Number of grains of rice on the 100th day"
      ]
    },
    {
      "cell_type": "code",
      "metadata": {
        "colab": {
          "base_uri": "https://localhost:8080/",
          "height": 404
        },
        "id": "yE2GbDzMWqCP",
        "outputId": "2be294c3-fee9-40d3-dc08-42689f7b5fbc"
      },
      "source": [
        "import matplotlib.pyplot as plt\n",
        "%matplotlib inline\n",
        "\n",
        "rice_grains = [1]     # 1 grain of rice the first day\n",
        "for i in range(99):   # Calculate number of rice grains 99 following days\n",
        "    rice_grains.append(rice_grains[-1] * 2)\n",
        "\n",
        "# Draw line graph\n",
        "plt.figure(figsize=(10, 6))\n",
        "plt.title(\"Number of rice grains in 100 days\")\n",
        "plt.xlabel(\"Day\")\n",
        "plt.ylabel(\"Number of grains\")\n",
        "plt.plot(rice_grains, linewidth=4)\n",
        "plt.show()"
      ],
      "execution_count": 48,
      "outputs": [
        {
          "output_type": "display_data",
          "data": {
            "image/png": "[encoded data removed]",
            "text/plain": [
              "<Figure size 720x432 with 1 Axes>"
            ]
          },
          "metadata": {
            "tags": [],
            "needs_background": "light"
          }
        }
      ]
    },
    {
      "cell_type": "markdown",
      "metadata": {
        "id": "PCKnuG8TZ4Ck"
      },
      "source": [
        "## [Problem 2] Number of rice grains outside of the 100th day"
      ]
    },
    {
      "cell_type": "code",
      "metadata": {
        "colab": {
          "base_uri": "https://localhost:8080/",
          "height": 404
        },
        "id": "qKZm088dZ1LJ",
        "outputId": "d2bb2822-a083-4990-af35-399ef74bec21"
      },
      "source": [
        "def compute_sorori_shinzaemon(day=100):\n",
        "    \"\"\"\n",
        "    A function that verifies the anecdote of rice by Sorori Shinzaemon. Calculate the number of rice grains per day.\n",
        "    Parameteres\n",
        "    --------------\n",
        "    day: int\n",
        "        Number of days to get rice (default : 100)\n",
        "    Returns\n",
        "    --------------\n",
        "    list_n_grains : list\n",
        "        List of the number of rice you get one day (the length of the list is equal to day)\n",
        "    list_total_grains : list\n",
        "        List of the total number of rice you will receive by a certain day (the length of the list will be equal to day)\n",
        "    \"\"\"\n",
        "    list_n_grains = [1]\n",
        "    list_total_grains = [list_n_grains[-1]]\n",
        "    for i in range(day - 1):\n",
        "        list_n_grains.append(list_n_grains[-1] * 2)\n",
        "        list_total_grains.append(list_total_grains[-1] + list_n_grains[-1])\n",
        "\n",
        "    return list_n_grains, list_total_grains\n",
        "\n",
        "list_n_grains, list_total_grains = compute_sorori_shinzaemon(day=80)\n",
        "plt.figure(figsize=(10, 6))\n",
        "plt.title(\"Number of rice grains in 100 days\")\n",
        "plt.xlabel(\"Day\")\n",
        "plt.ylabel(\"Number of grains\")\n",
        "plt.plot(list_n_grains, linewidth=4)\n",
        "plt.show()"
      ],
      "execution_count": 49,
      "outputs": [
        {
          "output_type": "display_data",
          "data": {
            "image/png": "[encoded data removed]",
            "text/plain": [
              "<Figure size 720x432 with 1 Axes>"
            ]
          },
          "metadata": {
            "tags": [],
            "needs_background": "light"
          }
        }
      ]
    },
    {
      "cell_type": "markdown",
      "metadata": {
        "id": "86IwkTsSoBcT"
      },
      "source": [
        "## [Problem 3] How many people can live for how many days with the rice we get?"
      ]
    },
    {
      "cell_type": "code",
      "metadata": {
        "colab": {
          "base_uri": "https://localhost:8080/"
        },
        "id": "JjffCdLboAky",
        "outputId": "deb22225-615f-490e-dd75-d03ee8c6f7a2"
      },
      "source": [
        "CALORIES_PER_RICE_GRAIN = 0.031         # Calories amount in 1 grain of rice (from google: \"calories in 1 grain of rice\")\n",
        "CALORIES_PER_PERSON = 2000              # Calories needed for a person a day (from google: about 2000-3000 calories a day)\n",
        "\n",
        "def days_to_live(num_rice_grains, num_people):\n",
        "    total_calories_need_per_day = num_people * CALORIES_PER_PERSON      # Total calories amount for these people to live a day\n",
        "    total_calories_provide = num_rice_grains * CALORIES_PER_RICE_GRAIN  # Total calories provided by the amount of rice grains\n",
        "    return total_calories_provide // total_calories_need_per_day\n",
        "\n",
        "print(f\"After {len(list_total_grains)} days storing rice, 10 billion people can live {days_to_live(list_total_grains[-1], 1000000000)} days\")"
      ],
      "execution_count": 50,
      "outputs": [
        {
          "output_type": "stream",
          "text": [
            "After 80 days storing rice, 10 billion people can live 18738350204.0 days\n"
          ],
          "name": "stdout"
        }
      ]
    }
  ]
}