{
  "nbformat": 4,
  "nbformat_minor": 0,
  "metadata": {
    "colab": {
      "name": "ML_sprint8.ipynb",
      "provenance": [],
      "toc_visible": true,
      "authorship_tag": "ABX9TyNhnsJ/wYg69jCAVfqQfC3V",
      "include_colab_link": true
    },
    "kernelspec": {
      "name": "python3",
      "display_name": "Python 3"
    },
    "language_info": {
      "name": "python"
    }
  },
  "cells": [
    {
      "cell_type": "markdown",
      "metadata": {
        "id": "view-in-github",
        "colab_type": "text"
      },
      "source": [
        "<a href=\"https://colab.research.google.com/github/thanhnguyen2612/diveintocode-ml/blob/master/ML_sprint8.ipynb\" target=\"_parent\"><img src=\"https://colab.research.google.com/assets/colab-badge.svg\" alt=\"Open In Colab\"/></a>"
      ]
    },
    {
      "cell_type": "markdown",
      "metadata": {
        "id": "3fMhxF1WGqPi"
      },
      "source": [
        "# Ensemble learning"
      ]
    },
    {
      "cell_type": "markdown",
      "metadata": {
        "id": "5dirdCuBGuvC"
      },
      "source": [
        "## Preparation"
      ]
    },
    {
      "cell_type": "code",
      "metadata": {
        "id": "LxnuWoJvGoFj"
      },
      "source": [
        "import numpy as np\n",
        "import pandas as pd\n",
        "import matplotlib.pyplot as plt\n",
        "import seaborn as sns\n",
        "%matplotlib inline"
      ],
      "execution_count": 180,
      "outputs": []
    },
    {
      "cell_type": "code",
      "metadata": {
        "colab": {
          "base_uri": "https://localhost:8080/",
          "height": 253
        },
        "id": "MEEuQobrG3L1",
        "outputId": "ce77fa0d-f672-4d86-87a7-a870fc030fca"
      },
      "source": [
        "pd.set_option('float_format', '{:f}'.format)\n",
        "plt.rcParams.update({'font.size': 16})\n",
        "\n",
        "df = pd.read_csv(\"train.csv\")\n",
        "df.head()"
      ],
      "execution_count": 181,
      "outputs": [
        {
          "output_type": "execute_result",
          "data": {
            "text/html": [
              "<div>\n",
              "<style scoped>\n",
              "    .dataframe tbody tr th:only-of-type {\n",
              "        vertical-align: middle;\n",
              "    }\n",
              "\n",
              "    .dataframe tbody tr th {\n",
              "        vertical-align: top;\n",
              "    }\n",
              "\n",
              "    .dataframe thead th {\n",
              "        text-align: right;\n",
              "    }\n",
              "</style>\n",
              "<table border=\"1\" class=\"dataframe\">\n",
              "  <thead>\n",
              "    <tr style=\"text-align: right;\">\n",
              "      <th></th>\n",
              "      <th>Id</th>\n",
              "      <th>MSSubClass</th>\n",
              "      <th>MSZoning</th>\n",
              "      <th>LotFrontage</th>\n",
              "      <th>LotArea</th>\n",
              "      <th>Street</th>\n",
              "      <th>Alley</th>\n",
              "      <th>LotShape</th>\n",
              "      <th>LandContour</th>\n",
              "      <th>Utilities</th>\n",
              "      <th>LotConfig</th>\n",
              "      <th>LandSlope</th>\n",
              "      <th>Neighborhood</th>\n",
              "      <th>Condition1</th>\n",
              "      <th>Condition2</th>\n",
              "      <th>BldgType</th>\n",
              "      <th>HouseStyle</th>\n",
              "      <th>OverallQual</th>\n",
              "      <th>OverallCond</th>\n",
              "      <th>YearBuilt</th>\n",
              "      <th>YearRemodAdd</th>\n",
              "      <th>RoofStyle</th>\n",
              "      <th>RoofMatl</th>\n",
              "      <th>Exterior1st</th>\n",
              "      <th>Exterior2nd</th>\n",
              "      <th>MasVnrType</th>\n",
              "      <th>MasVnrArea</th>\n",
              "      <th>ExterQual</th>\n",
              "      <th>ExterCond</th>\n",
              "      <th>Foundation</th>\n",
              "      <th>BsmtQual</th>\n",
              "      <th>BsmtCond</th>\n",
              "      <th>BsmtExposure</th>\n",
              "      <th>BsmtFinType1</th>\n",
              "      <th>BsmtFinSF1</th>\n",
              "      <th>BsmtFinType2</th>\n",
              "      <th>BsmtFinSF2</th>\n",
              "      <th>BsmtUnfSF</th>\n",
              "      <th>TotalBsmtSF</th>\n",
              "      <th>Heating</th>\n",
              "      <th>...</th>\n",
              "      <th>CentralAir</th>\n",
              "      <th>Electrical</th>\n",
              "      <th>1stFlrSF</th>\n",
              "      <th>2ndFlrSF</th>\n",
              "      <th>LowQualFinSF</th>\n",
              "      <th>GrLivArea</th>\n",
              "      <th>BsmtFullBath</th>\n",
              "      <th>BsmtHalfBath</th>\n",
              "      <th>FullBath</th>\n",
              "      <th>HalfBath</th>\n",
              "      <th>BedroomAbvGr</th>\n",
              "      <th>KitchenAbvGr</th>\n",
              "      <th>KitchenQual</th>\n",
              "      <th>TotRmsAbvGrd</th>\n",
              "      <th>Functional</th>\n",
              "      <th>Fireplaces</th>\n",
              "      <th>FireplaceQu</th>\n",
              "      <th>GarageType</th>\n",
              "      <th>GarageYrBlt</th>\n",
              "      <th>GarageFinish</th>\n",
              "      <th>GarageCars</th>\n",
              "      <th>GarageArea</th>\n",
              "      <th>GarageQual</th>\n",
              "      <th>GarageCond</th>\n",
              "      <th>PavedDrive</th>\n",
              "      <th>WoodDeckSF</th>\n",
              "      <th>OpenPorchSF</th>\n",
              "      <th>EnclosedPorch</th>\n",
              "      <th>3SsnPorch</th>\n",
              "      <th>ScreenPorch</th>\n",
              "      <th>PoolArea</th>\n",
              "      <th>PoolQC</th>\n",
              "      <th>Fence</th>\n",
              "      <th>MiscFeature</th>\n",
              "      <th>MiscVal</th>\n",
              "      <th>MoSold</th>\n",
              "      <th>YrSold</th>\n",
              "      <th>SaleType</th>\n",
              "      <th>SaleCondition</th>\n",
              "      <th>SalePrice</th>\n",
              "    </tr>\n",
              "  </thead>\n",
              "  <tbody>\n",
              "    <tr>\n",
              "      <th>0</th>\n",
              "      <td>1</td>\n",
              "      <td>60</td>\n",
              "      <td>RL</td>\n",
              "      <td>65.000000</td>\n",
              "      <td>8450</td>\n",
              "      <td>Pave</td>\n",
              "      <td>NaN</td>\n",
              "      <td>Reg</td>\n",
              "      <td>Lvl</td>\n",
              "      <td>AllPub</td>\n",
              "      <td>Inside</td>\n",
              "      <td>Gtl</td>\n",
              "      <td>CollgCr</td>\n",
              "      <td>Norm</td>\n",
              "      <td>Norm</td>\n",
              "      <td>1Fam</td>\n",
              "      <td>2Story</td>\n",
              "      <td>7</td>\n",
              "      <td>5</td>\n",
              "      <td>2003</td>\n",
              "      <td>2003</td>\n",
              "      <td>Gable</td>\n",
              "      <td>CompShg</td>\n",
              "      <td>VinylSd</td>\n",
              "      <td>VinylSd</td>\n",
              "      <td>BrkFace</td>\n",
              "      <td>196.000000</td>\n",
              "      <td>Gd</td>\n",
              "      <td>TA</td>\n",
              "      <td>PConc</td>\n",
              "      <td>Gd</td>\n",
              "      <td>TA</td>\n",
              "      <td>No</td>\n",
              "      <td>GLQ</td>\n",
              "      <td>706</td>\n",
              "      <td>Unf</td>\n",
              "      <td>0</td>\n",
              "      <td>150</td>\n",
              "      <td>856</td>\n",
              "      <td>GasA</td>\n",
              "      <td>...</td>\n",
              "      <td>Y</td>\n",
              "      <td>SBrkr</td>\n",
              "      <td>856</td>\n",
              "      <td>854</td>\n",
              "      <td>0</td>\n",
              "      <td>1710</td>\n",
              "      <td>1</td>\n",
              "      <td>0</td>\n",
              "      <td>2</td>\n",
              "      <td>1</td>\n",
              "      <td>3</td>\n",
              "      <td>1</td>\n",
              "      <td>Gd</td>\n",
              "      <td>8</td>\n",
              "      <td>Typ</td>\n",
              "      <td>0</td>\n",
              "      <td>NaN</td>\n",
              "      <td>Attchd</td>\n",
              "      <td>2003.000000</td>\n",
              "      <td>RFn</td>\n",
              "      <td>2</td>\n",
              "      <td>548</td>\n",
              "      <td>TA</td>\n",
              "      <td>TA</td>\n",
              "      <td>Y</td>\n",
              "      <td>0</td>\n",
              "      <td>61</td>\n",
              "      <td>0</td>\n",
              "      <td>0</td>\n",
              "      <td>0</td>\n",
              "      <td>0</td>\n",
              "      <td>NaN</td>\n",
              "      <td>NaN</td>\n",
              "      <td>NaN</td>\n",
              "      <td>0</td>\n",
              "      <td>2</td>\n",
              "      <td>2008</td>\n",
              "      <td>WD</td>\n",
              "      <td>Normal</td>\n",
              "      <td>208500</td>\n",
              "    </tr>\n",
              "    <tr>\n",
              "      <th>1</th>\n",
              "      <td>2</td>\n",
              "      <td>20</td>\n",
              "      <td>RL</td>\n",
              "      <td>80.000000</td>\n",
              "      <td>9600</td>\n",
              "      <td>Pave</td>\n",
              "      <td>NaN</td>\n",
              "      <td>Reg</td>\n",
              "      <td>Lvl</td>\n",
              "      <td>AllPub</td>\n",
              "      <td>FR2</td>\n",
              "      <td>Gtl</td>\n",
              "      <td>Veenker</td>\n",
              "      <td>Feedr</td>\n",
              "      <td>Norm</td>\n",
              "      <td>1Fam</td>\n",
              "      <td>1Story</td>\n",
              "      <td>6</td>\n",
              "      <td>8</td>\n",
              "      <td>1976</td>\n",
              "      <td>1976</td>\n",
              "      <td>Gable</td>\n",
              "      <td>CompShg</td>\n",
              "      <td>MetalSd</td>\n",
              "      <td>MetalSd</td>\n",
              "      <td>None</td>\n",
              "      <td>0.000000</td>\n",
              "      <td>TA</td>\n",
              "      <td>TA</td>\n",
              "      <td>CBlock</td>\n",
              "      <td>Gd</td>\n",
              "      <td>TA</td>\n",
              "      <td>Gd</td>\n",
              "      <td>ALQ</td>\n",
              "      <td>978</td>\n",
              "      <td>Unf</td>\n",
              "      <td>0</td>\n",
              "      <td>284</td>\n",
              "      <td>1262</td>\n",
              "      <td>GasA</td>\n",
              "      <td>...</td>\n",
              "      <td>Y</td>\n",
              "      <td>SBrkr</td>\n",
              "      <td>1262</td>\n",
              "      <td>0</td>\n",
              "      <td>0</td>\n",
              "      <td>1262</td>\n",
              "      <td>0</td>\n",
              "      <td>1</td>\n",
              "      <td>2</td>\n",
              "      <td>0</td>\n",
              "      <td>3</td>\n",
              "      <td>1</td>\n",
              "      <td>TA</td>\n",
              "      <td>6</td>\n",
              "      <td>Typ</td>\n",
              "      <td>1</td>\n",
              "      <td>TA</td>\n",
              "      <td>Attchd</td>\n",
              "      <td>1976.000000</td>\n",
              "      <td>RFn</td>\n",
              "      <td>2</td>\n",
              "      <td>460</td>\n",
              "      <td>TA</td>\n",
              "      <td>TA</td>\n",
              "      <td>Y</td>\n",
              "      <td>298</td>\n",
              "      <td>0</td>\n",
              "      <td>0</td>\n",
              "      <td>0</td>\n",
              "      <td>0</td>\n",
              "      <td>0</td>\n",
              "      <td>NaN</td>\n",
              "      <td>NaN</td>\n",
              "      <td>NaN</td>\n",
              "      <td>0</td>\n",
              "      <td>5</td>\n",
              "      <td>2007</td>\n",
              "      <td>WD</td>\n",
              "      <td>Normal</td>\n",
              "      <td>181500</td>\n",
              "    </tr>\n",
              "    <tr>\n",
              "      <th>2</th>\n",
              "      <td>3</td>\n",
              "      <td>60</td>\n",
              "      <td>RL</td>\n",
              "      <td>68.000000</td>\n",
              "      <td>11250</td>\n",
              "      <td>Pave</td>\n",
              "      <td>NaN</td>\n",
              "      <td>IR1</td>\n",
              "      <td>Lvl</td>\n",
              "      <td>AllPub</td>\n",
              "      <td>Inside</td>\n",
              "      <td>Gtl</td>\n",
              "      <td>CollgCr</td>\n",
              "      <td>Norm</td>\n",
              "      <td>Norm</td>\n",
              "      <td>1Fam</td>\n",
              "      <td>2Story</td>\n",
              "      <td>7</td>\n",
              "      <td>5</td>\n",
              "      <td>2001</td>\n",
              "      <td>2002</td>\n",
              "      <td>Gable</td>\n",
              "      <td>CompShg</td>\n",
              "      <td>VinylSd</td>\n",
              "      <td>VinylSd</td>\n",
              "      <td>BrkFace</td>\n",
              "      <td>162.000000</td>\n",
              "      <td>Gd</td>\n",
              "      <td>TA</td>\n",
              "      <td>PConc</td>\n",
              "      <td>Gd</td>\n",
              "      <td>TA</td>\n",
              "      <td>Mn</td>\n",
              "      <td>GLQ</td>\n",
              "      <td>486</td>\n",
              "      <td>Unf</td>\n",
              "      <td>0</td>\n",
              "      <td>434</td>\n",
              "      <td>920</td>\n",
              "      <td>GasA</td>\n",
              "      <td>...</td>\n",
              "      <td>Y</td>\n",
              "      <td>SBrkr</td>\n",
              "      <td>920</td>\n",
              "      <td>866</td>\n",
              "      <td>0</td>\n",
              "      <td>1786</td>\n",
              "      <td>1</td>\n",
              "      <td>0</td>\n",
              "      <td>2</td>\n",
              "      <td>1</td>\n",
              "      <td>3</td>\n",
              "      <td>1</td>\n",
              "      <td>Gd</td>\n",
              "      <td>6</td>\n",
              "      <td>Typ</td>\n",
              "      <td>1</td>\n",
              "      <td>TA</td>\n",
              "      <td>Attchd</td>\n",
              "      <td>2001.000000</td>\n",
              "      <td>RFn</td>\n",
              "      <td>2</td>\n",
              "      <td>608</td>\n",
              "      <td>TA</td>\n",
              "      <td>TA</td>\n",
              "      <td>Y</td>\n",
              "      <td>0</td>\n",
              "      <td>42</td>\n",
              "      <td>0</td>\n",
              "      <td>0</td>\n",
              "      <td>0</td>\n",
              "      <td>0</td>\n",
              "      <td>NaN</td>\n",
              "      <td>NaN</td>\n",
              "      <td>NaN</td>\n",
              "      <td>0</td>\n",
              "      <td>9</td>\n",
              "      <td>2008</td>\n",
              "      <td>WD</td>\n",
              "      <td>Normal</td>\n",
              "      <td>223500</td>\n",
              "    </tr>\n",
              "    <tr>\n",
              "      <th>3</th>\n",
              "      <td>4</td>\n",
              "      <td>70</td>\n",
              "      <td>RL</td>\n",
              "      <td>60.000000</td>\n",
              "      <td>9550</td>\n",
              "      <td>Pave</td>\n",
              "      <td>NaN</td>\n",
              "      <td>IR1</td>\n",
              "      <td>Lvl</td>\n",
              "      <td>AllPub</td>\n",
              "      <td>Corner</td>\n",
              "      <td>Gtl</td>\n",
              "      <td>Crawfor</td>\n",
              "      <td>Norm</td>\n",
              "      <td>Norm</td>\n",
              "      <td>1Fam</td>\n",
              "      <td>2Story</td>\n",
              "      <td>7</td>\n",
              "      <td>5</td>\n",
              "      <td>1915</td>\n",
              "      <td>1970</td>\n",
              "      <td>Gable</td>\n",
              "      <td>CompShg</td>\n",
              "      <td>Wd Sdng</td>\n",
              "      <td>Wd Shng</td>\n",
              "      <td>None</td>\n",
              "      <td>0.000000</td>\n",
              "      <td>TA</td>\n",
              "      <td>TA</td>\n",
              "      <td>BrkTil</td>\n",
              "      <td>TA</td>\n",
              "      <td>Gd</td>\n",
              "      <td>No</td>\n",
              "      <td>ALQ</td>\n",
              "      <td>216</td>\n",
              "      <td>Unf</td>\n",
              "      <td>0</td>\n",
              "      <td>540</td>\n",
              "      <td>756</td>\n",
              "      <td>GasA</td>\n",
              "      <td>...</td>\n",
              "      <td>Y</td>\n",
              "      <td>SBrkr</td>\n",
              "      <td>961</td>\n",
              "      <td>756</td>\n",
              "      <td>0</td>\n",
              "      <td>1717</td>\n",
              "      <td>1</td>\n",
              "      <td>0</td>\n",
              "      <td>1</td>\n",
              "      <td>0</td>\n",
              "      <td>3</td>\n",
              "      <td>1</td>\n",
              "      <td>Gd</td>\n",
              "      <td>7</td>\n",
              "      <td>Typ</td>\n",
              "      <td>1</td>\n",
              "      <td>Gd</td>\n",
              "      <td>Detchd</td>\n",
              "      <td>1998.000000</td>\n",
              "      <td>Unf</td>\n",
              "      <td>3</td>\n",
              "      <td>642</td>\n",
              "      <td>TA</td>\n",
              "      <td>TA</td>\n",
              "      <td>Y</td>\n",
              "      <td>0</td>\n",
              "      <td>35</td>\n",
              "      <td>272</td>\n",
              "      <td>0</td>\n",
              "      <td>0</td>\n",
              "      <td>0</td>\n",
              "      <td>NaN</td>\n",
              "      <td>NaN</td>\n",
              "      <td>NaN</td>\n",
              "      <td>0</td>\n",
              "      <td>2</td>\n",
              "      <td>2006</td>\n",
              "      <td>WD</td>\n",
              "      <td>Abnorml</td>\n",
              "      <td>140000</td>\n",
              "    </tr>\n",
              "    <tr>\n",
              "      <th>4</th>\n",
              "      <td>5</td>\n",
              "      <td>60</td>\n",
              "      <td>RL</td>\n",
              "      <td>84.000000</td>\n",
              "      <td>14260</td>\n",
              "      <td>Pave</td>\n",
              "      <td>NaN</td>\n",
              "      <td>IR1</td>\n",
              "      <td>Lvl</td>\n",
              "      <td>AllPub</td>\n",
              "      <td>FR2</td>\n",
              "      <td>Gtl</td>\n",
              "      <td>NoRidge</td>\n",
              "      <td>Norm</td>\n",
              "      <td>Norm</td>\n",
              "      <td>1Fam</td>\n",
              "      <td>2Story</td>\n",
              "      <td>8</td>\n",
              "      <td>5</td>\n",
              "      <td>2000</td>\n",
              "      <td>2000</td>\n",
              "      <td>Gable</td>\n",
              "      <td>CompShg</td>\n",
              "      <td>VinylSd</td>\n",
              "      <td>VinylSd</td>\n",
              "      <td>BrkFace</td>\n",
              "      <td>350.000000</td>\n",
              "      <td>Gd</td>\n",
              "      <td>TA</td>\n",
              "      <td>PConc</td>\n",
              "      <td>Gd</td>\n",
              "      <td>TA</td>\n",
              "      <td>Av</td>\n",
              "      <td>GLQ</td>\n",
              "      <td>655</td>\n",
              "      <td>Unf</td>\n",
              "      <td>0</td>\n",
              "      <td>490</td>\n",
              "      <td>1145</td>\n",
              "      <td>GasA</td>\n",
              "      <td>...</td>\n",
              "      <td>Y</td>\n",
              "      <td>SBrkr</td>\n",
              "      <td>1145</td>\n",
              "      <td>1053</td>\n",
              "      <td>0</td>\n",
              "      <td>2198</td>\n",
              "      <td>1</td>\n",
              "      <td>0</td>\n",
              "      <td>2</td>\n",
              "      <td>1</td>\n",
              "      <td>4</td>\n",
              "      <td>1</td>\n",
              "      <td>Gd</td>\n",
              "      <td>9</td>\n",
              "      <td>Typ</td>\n",
              "      <td>1</td>\n",
              "      <td>TA</td>\n",
              "      <td>Attchd</td>\n",
              "      <td>2000.000000</td>\n",
              "      <td>RFn</td>\n",
              "      <td>3</td>\n",
              "      <td>836</td>\n",
              "      <td>TA</td>\n",
              "      <td>TA</td>\n",
              "      <td>Y</td>\n",
              "      <td>192</td>\n",
              "      <td>84</td>\n",
              "      <td>0</td>\n",
              "      <td>0</td>\n",
              "      <td>0</td>\n",
              "      <td>0</td>\n",
              "      <td>NaN</td>\n",
              "      <td>NaN</td>\n",
              "      <td>NaN</td>\n",
              "      <td>0</td>\n",
              "      <td>12</td>\n",
              "      <td>2008</td>\n",
              "      <td>WD</td>\n",
              "      <td>Normal</td>\n",
              "      <td>250000</td>\n",
              "    </tr>\n",
              "  </tbody>\n",
              "</table>\n",
              "<p>5 rows × 81 columns</p>\n",
              "</div>"
            ],
            "text/plain": [
              "   Id  MSSubClass MSZoning  ...  SaleType  SaleCondition SalePrice\n",
              "0   1          60       RL  ...        WD         Normal    208500\n",
              "1   2          20       RL  ...        WD         Normal    181500\n",
              "2   3          60       RL  ...        WD         Normal    223500\n",
              "3   4          70       RL  ...        WD        Abnorml    140000\n",
              "4   5          60       RL  ...        WD         Normal    250000\n",
              "\n",
              "[5 rows x 81 columns]"
            ]
          },
          "metadata": {
            "tags": []
          },
          "execution_count": 181
        }
      ]
    },
    {
      "cell_type": "code",
      "metadata": {
        "id": "4gWK0OKQHQby"
      },
      "source": [
        "from sklearn.model_selection import train_test_split\n",
        "\n",
        "def preprocessing(X, y, preprocessor=None, test_size=0.2, random_state=None):\n",
        "    X_train, X_val, y_train, y_val = train_test_split(X, y, test_size=test_size,\n",
        "                                                      random_state=random_state)\n",
        "    if preprocessor is not None:\n",
        "        X_train = preprocessor.fit_transform(X_train)\n",
        "        X_val = preprocessor.transform(X_val)\n",
        "    return X_train, X_val, y_train.values, y_val.values"
      ],
      "execution_count": 182,
      "outputs": []
    },
    {
      "cell_type": "code",
      "metadata": {
        "colab": {
          "base_uri": "https://localhost:8080/"
        },
        "id": "0Z8TSw_wHBz0",
        "outputId": "bf13e2eb-efb2-4753-ccb9-e7e914722896"
      },
      "source": [
        "from sklearn.preprocessing import StandardScaler\n",
        "\n",
        "X, y = df[[\"GrLivArea\", \"YearBuilt\"]], df[\"SalePrice\"]\n",
        "X_train, X_val, y_train, y_val = preprocessing(X, y, StandardScaler(), random_state=0)\n",
        "\n",
        "X_train.shape, X_val.shape, y_train.shape, y_val.shape"
      ],
      "execution_count": 183,
      "outputs": [
        {
          "output_type": "execute_result",
          "data": {
            "text/plain": [
              "((1168, 2), (292, 2), (1168,), (292,))"
            ]
          },
          "metadata": {
            "tags": []
          },
          "execution_count": 183
        }
      ]
    },
    {
      "cell_type": "markdown",
      "metadata": {
        "id": "MzjvwWKfIWxS"
      },
      "source": [
        "## [Problem 1] Blending scratch mounting"
      ]
    },
    {
      "cell_type": "code",
      "metadata": {
        "id": "Q6SYYBsRIVml"
      },
      "source": [
        "class ScratchBlendingRegressor():\n",
        "    \"\"\"\n",
        "    @Attributes:\n",
        "        models: list of models used for blending\n",
        "        weighting: whether or not weighting the estimation results\n",
        "    \"\"\"\n",
        "    def __init__(self, models, weights=[]):\n",
        "        self.models = models\n",
        "        if len(weights) > 0:\n",
        "            weights = np.array(weights) / np.sum(weights)\n",
        "        self.weights = weights\n",
        "    \n",
        "    def fit(self, X, y):\n",
        "        for i, model in enumerate(self.models):\n",
        "            model.fit(X, y)\n",
        "        return self\n",
        "        \n",
        "    def predict(self, X):\n",
        "        y_preds = np.zeros((X.shape[0], len(self.models)))\n",
        "        for i, model in enumerate(self.models):\n",
        "            y_preds[:, i] = model.predict(X)\n",
        "\n",
        "        if len(self.weights) == len(self.models):\n",
        "            return y_preds @ self.weights\n",
        "        else:\n",
        "            # Simply take average\n",
        "            return y_preds.mean(axis=1)"
      ],
      "execution_count": 184,
      "outputs": []
    },
    {
      "cell_type": "code",
      "metadata": {
        "id": "C26NjfT7xf7k"
      },
      "source": [
        "from sklearn.dummy import DummyRegressor\n",
        "from sklearn.metrics import mean_squared_error\n",
        "\n",
        "def train_and_evaluate(X_train, X_val, y_train, y_val, model=DummyRegressor()):\n",
        "    model.fit(X_train, y_train)\n",
        "    y_pred = model.predict(X_val)\n",
        "    return mean_squared_error(y_val, y_pred)\n",
        "\n",
        "def plot_comparison(model_scores, title=\"Compare results\"):\n",
        "    mse = []\n",
        "    model_names = []\n",
        "    for name, score in model_scores:\n",
        "        model_names.append(name)\n",
        "        mse.append(score)\n",
        "    mse = np.array(mse)\n",
        "    model_names = np.array(model_names)\n",
        "\n",
        "    normalized_mse = mse / np.sum(mse)\n",
        "    idx = np.argsort(mse)\n",
        "    sort_names = model_names[idx]\n",
        "    df = pd.DataFrame(index=sort_names, columns=[\"mse\"])\n",
        "    df.loc[sort_names, \"mse\"] = mse[idx]\n",
        "\n",
        "    plt.figure(figsize=(10, 6))\n",
        "    plt.title(title)\n",
        "    plt.barh(range(len(idx)), normalized_mse[idx[::-1]], color='b')\n",
        "    plt.yticks(range(len(idx)), sort_names[::-1])\n",
        "    plt.xlabel(\"Mean squared error\")\n",
        "    plt.show()\n",
        "    return df"
      ],
      "execution_count": 185,
      "outputs": []
    },
    {
      "cell_type": "markdown",
      "metadata": {
        "id": "nBFM-wOuj67e"
      },
      "source": [
        "### Models with default hyperparameters"
      ]
    },
    {
      "cell_type": "code",
      "metadata": {
        "id": "8TIogR1k27g1"
      },
      "source": [
        "from sklearn.linear_model import LinearRegression\n",
        "from sklearn.svm import SVR\n",
        "from sklearn.tree import DecisionTreeRegressor\n",
        "\n",
        "blend_models = [\n",
        "    LinearRegression(),\n",
        "    SVR(),\n",
        "    DecisionTreeRegressor()\n",
        "]\n",
        "weights = [0.5, 0.15, 0.35]\n",
        "models = [\n",
        "    (\"Linear Regression\", LinearRegression()),\n",
        "    (\"SVR\", SVR()),\n",
        "    (\"Decision Tree\", DecisionTreeRegressor()),\n",
        "    (\"Normal/Avg Blending\", ScratchBlendingRegressor(blend_models)),\n",
        "    (\"Weighted Blending\", ScratchBlendingRegressor(blend_models, weights))\n",
        "]\n",
        "model_scores = [(model[0], train_and_evaluate(X_train, X_val, y_train, y_val, model[1]))\n",
        "                for model in models]"
      ],
      "execution_count": 186,
      "outputs": []
    },
    {
      "cell_type": "code",
      "metadata": {
        "id": "iWhgo0LM8mcL",
        "colab": {
          "base_uri": "https://localhost:8080/",
          "height": 606
        },
        "outputId": "d3a56f28-fed7-4170-b60a-05afe21300a5"
      },
      "source": [
        "plot_comparison(model_scores)"
      ],
      "execution_count": 187,
      "outputs": [
        {
          "output_type": "display_data",
          "data": {
            "image/png": "[encoded data removed]",
            "text/plain": [
              "<Figure size 720x432 with 1 Axes>"
            ]
          },
          "metadata": {
            "tags": [],
            "needs_background": "light"
          }
        },
        {
          "output_type": "execute_result",
          "data": {
            "text/html": [
              "<div>\n",
              "<style scoped>\n",
              "    .dataframe tbody tr th:only-of-type {\n",
              "        vertical-align: middle;\n",
              "    }\n",
              "\n",
              "    .dataframe tbody tr th {\n",
              "        vertical-align: top;\n",
              "    }\n",
              "\n",
              "    .dataframe thead th {\n",
              "        text-align: right;\n",
              "    }\n",
              "</style>\n",
              "<table border=\"1\" class=\"dataframe\">\n",
              "  <thead>\n",
              "    <tr style=\"text-align: right;\">\n",
              "      <th></th>\n",
              "      <th>mse</th>\n",
              "    </tr>\n",
              "  </thead>\n",
              "  <tbody>\n",
              "    <tr>\n",
              "      <th>Weighted Blending</th>\n",
              "      <td>2631198277.664351</td>\n",
              "    </tr>\n",
              "    <tr>\n",
              "      <th>Normal/Avg Blending</th>\n",
              "      <td>2854173839.709363</td>\n",
              "    </tr>\n",
              "    <tr>\n",
              "      <th>Linear Regression</th>\n",
              "      <td>2942066921.672107</td>\n",
              "    </tr>\n",
              "    <tr>\n",
              "      <th>Decision Tree</th>\n",
              "      <td>3307764785.583714</td>\n",
              "    </tr>\n",
              "    <tr>\n",
              "      <th>SVR</th>\n",
              "      <td>7221625115.268777</td>\n",
              "    </tr>\n",
              "  </tbody>\n",
              "</table>\n",
              "</div>"
            ],
            "text/plain": [
              "                                  mse\n",
              "Weighted Blending   2631198277.664351\n",
              "Normal/Avg Blending 2854173839.709363\n",
              "Linear Regression   2942066921.672107\n",
              "Decision Tree       3307764785.583714\n",
              "SVR                 7221625115.268777"
            ]
          },
          "metadata": {
            "tags": []
          },
          "execution_count": 187
        }
      ]
    },
    {
      "cell_type": "markdown",
      "metadata": {
        "id": "99W_6NC1kCyU"
      },
      "source": [
        "### Models with selected hyperparamters"
      ]
    },
    {
      "cell_type": "code",
      "metadata": {
        "id": "fvVxY5bVfhI8"
      },
      "source": [
        "models = [\n",
        "    (\"Linear Regression\", LinearRegression()),\n",
        "    (\"Linear SVR\", SVR(kernel='linear')),\n",
        "    (\"Poly SVR\", SVR(kernel='poly')),\n",
        "    (\"MAE Decision Tree\", DecisionTreeRegressor(criterion='mae')),\n",
        "    (\"MSE Decision Tree\", DecisionTreeRegressor(criterion='mse')),\n",
        "]\n",
        "blend_list = [model[1] for model in models]\n",
        "models.append((\"Normal/Avg Blending\", ScratchBlendingRegressor(blend_list)))\n",
        "model_scores = [(model[0], train_and_evaluate(X_train, X_val, y_train, y_val, model[1]))\n",
        "                for model in models]"
      ],
      "execution_count": 188,
      "outputs": []
    },
    {
      "cell_type": "code",
      "metadata": {
        "colab": {
          "base_uri": "https://localhost:8080/",
          "height": 637
        },
        "id": "k0oYBHro39fh",
        "outputId": "6f48baa1-2a6e-4d3d-dad3-3dedbb5f3961"
      },
      "source": [
        "plot_comparison(model_scores)"
      ],
      "execution_count": 189,
      "outputs": [
        {
          "output_type": "display_data",
          "data": {
            "image/png": "[encoded data removed]",
            "text/plain": [
              "<Figure size 720x432 with 1 Axes>"
            ]
          },
          "metadata": {
            "tags": [],
            "needs_background": "light"
          }
        },
        {
          "output_type": "execute_result",
          "data": {
            "text/html": [
              "<div>\n",
              "<style scoped>\n",
              "    .dataframe tbody tr th:only-of-type {\n",
              "        vertical-align: middle;\n",
              "    }\n",
              "\n",
              "    .dataframe tbody tr th {\n",
              "        vertical-align: top;\n",
              "    }\n",
              "\n",
              "    .dataframe thead th {\n",
              "        text-align: right;\n",
              "    }\n",
              "</style>\n",
              "<table border=\"1\" class=\"dataframe\">\n",
              "  <thead>\n",
              "    <tr style=\"text-align: right;\">\n",
              "      <th></th>\n",
              "      <th>mse</th>\n",
              "    </tr>\n",
              "  </thead>\n",
              "  <tbody>\n",
              "    <tr>\n",
              "      <th>Linear Regression</th>\n",
              "      <td>2942066921.672107</td>\n",
              "    </tr>\n",
              "    <tr>\n",
              "      <th>MSE Decision Tree</th>\n",
              "      <td>3102421482.676180</td>\n",
              "    </tr>\n",
              "    <tr>\n",
              "      <th>Normal/Avg Blending</th>\n",
              "      <td>3209905472.901355</td>\n",
              "    </tr>\n",
              "    <tr>\n",
              "      <th>MAE Decision Tree</th>\n",
              "      <td>4073140300.253425</td>\n",
              "    </tr>\n",
              "    <tr>\n",
              "      <th>Poly SVR</th>\n",
              "      <td>7003035861.122121</td>\n",
              "    </tr>\n",
              "    <tr>\n",
              "      <th>Linear SVR</th>\n",
              "      <td>7092012854.934424</td>\n",
              "    </tr>\n",
              "  </tbody>\n",
              "</table>\n",
              "</div>"
            ],
            "text/plain": [
              "                                  mse\n",
              "Linear Regression   2942066921.672107\n",
              "MSE Decision Tree   3102421482.676180\n",
              "Normal/Avg Blending 3209905472.901355\n",
              "MAE Decision Tree   4073140300.253425\n",
              "Poly SVR            7003035861.122121\n",
              "Linear SVR          7092012854.934424"
            ]
          },
          "metadata": {
            "tags": []
          },
          "execution_count": 189
        }
      ]
    },
    {
      "cell_type": "markdown",
      "metadata": {
        "id": "WNzY5lr7CIqw"
      },
      "source": [
        "### Decision Tree with different hyperparameter"
      ]
    },
    {
      "cell_type": "code",
      "metadata": {
        "id": "kUC1cz98C0kM"
      },
      "source": [
        "params = {\n",
        "    \"criterion\": [\"mae\", \"mse\"],\n",
        "    \"max_depth\": [50, 100, 200, 500]\n",
        "}\n",
        "models = []\n",
        "for crit in params[\"criterion\"]:\n",
        "    for depth in params[\"max_depth\"]:\n",
        "        name = f\"{crit.upper()} Decision Tree ({depth})\"        \n",
        "        models.append((name, DecisionTreeRegressor(criterion=crit,\n",
        "                                                   max_depth=depth,\n",
        "                                                   random_state=0)))\n",
        "blend_list = [model[1] for model in models]\n",
        "models.append((\"Normal/Avg Blending\", ScratchBlendingRegressor(blend_list)))\n",
        "model_scores = [(model[0], train_and_evaluate(X_train, X_val, y_train, y_val, model[1]))\n",
        "                for model in models]"
      ],
      "execution_count": 190,
      "outputs": []
    },
    {
      "cell_type": "code",
      "metadata": {
        "colab": {
          "base_uri": "https://localhost:8080/",
          "height": 730
        },
        "id": "xfI7nsUeEArf",
        "outputId": "6c2a734e-9845-4f2d-c141-7217c6a0489a"
      },
      "source": [
        "plot_comparison(model_scores)"
      ],
      "execution_count": 191,
      "outputs": [
        {
          "output_type": "display_data",
          "data": {
            "image/png": "[encoded data removed]",
            "text/plain": [
              "<Figure size 720x432 with 1 Axes>"
            ]
          },
          "metadata": {
            "tags": [],
            "needs_background": "light"
          }
        },
        {
          "output_type": "execute_result",
          "data": {
            "text/html": [
              "<div>\n",
              "<style scoped>\n",
              "    .dataframe tbody tr th:only-of-type {\n",
              "        vertical-align: middle;\n",
              "    }\n",
              "\n",
              "    .dataframe tbody tr th {\n",
              "        vertical-align: top;\n",
              "    }\n",
              "\n",
              "    .dataframe thead th {\n",
              "        text-align: right;\n",
              "    }\n",
              "</style>\n",
              "<table border=\"1\" class=\"dataframe\">\n",
              "  <thead>\n",
              "    <tr style=\"text-align: right;\">\n",
              "      <th></th>\n",
              "      <th>mse</th>\n",
              "    </tr>\n",
              "  </thead>\n",
              "  <tbody>\n",
              "    <tr>\n",
              "      <th>Normal/Avg Blending</th>\n",
              "      <td>2831257060.628805</td>\n",
              "    </tr>\n",
              "    <tr>\n",
              "      <th>MSE Decision Tree (50)</th>\n",
              "      <td>3015859667.659056</td>\n",
              "    </tr>\n",
              "    <tr>\n",
              "      <th>MSE Decision Tree (100)</th>\n",
              "      <td>3015859667.659056</td>\n",
              "    </tr>\n",
              "    <tr>\n",
              "      <th>MSE Decision Tree (200)</th>\n",
              "      <td>3015859667.659056</td>\n",
              "    </tr>\n",
              "    <tr>\n",
              "      <th>MSE Decision Tree (500)</th>\n",
              "      <td>3015859667.659056</td>\n",
              "    </tr>\n",
              "    <tr>\n",
              "      <th>MAE Decision Tree (50)</th>\n",
              "      <td>4082065212.020548</td>\n",
              "    </tr>\n",
              "    <tr>\n",
              "      <th>MAE Decision Tree (100)</th>\n",
              "      <td>4082065212.020548</td>\n",
              "    </tr>\n",
              "    <tr>\n",
              "      <th>MAE Decision Tree (200)</th>\n",
              "      <td>4082065212.020548</td>\n",
              "    </tr>\n",
              "    <tr>\n",
              "      <th>MAE Decision Tree (500)</th>\n",
              "      <td>4082065212.020548</td>\n",
              "    </tr>\n",
              "  </tbody>\n",
              "</table>\n",
              "</div>"
            ],
            "text/plain": [
              "                                      mse\n",
              "Normal/Avg Blending     2831257060.628805\n",
              "MSE Decision Tree (50)  3015859667.659056\n",
              "MSE Decision Tree (100) 3015859667.659056\n",
              "MSE Decision Tree (200) 3015859667.659056\n",
              "MSE Decision Tree (500) 3015859667.659056\n",
              "MAE Decision Tree (50)  4082065212.020548\n",
              "MAE Decision Tree (100) 4082065212.020548\n",
              "MAE Decision Tree (200) 4082065212.020548\n",
              "MAE Decision Tree (500) 4082065212.020548"
            ]
          },
          "metadata": {
            "tags": []
          },
          "execution_count": 191
        }
      ]
    },
    {
      "cell_type": "markdown",
      "metadata": {
        "id": "AbWAQKIMELZI"
      },
      "source": [
        "## [Problem 2] Scratch mounting of bagging"
      ]
    },
    {
      "cell_type": "code",
      "metadata": {
        "id": "3uJy6ztgETQZ"
      },
      "source": [
        "from sklearn.model_selection import train_test_split\n",
        "from sklearn.base import clone\n",
        "from sklearn.metrics import mean_squared_error\n",
        "from sklearn.tree import DecisionTreeRegressor\n",
        "\n",
        "class ScratchBaggingRegressor():\n",
        "    \"\"\"\n",
        "    @Attributes:\n",
        "        base_estimator: base estimator used for training different subsets\n",
        "        n_estimators: number of estimators\n",
        "        max_samples: in range of [0, 1], proportion of subset over whole dataset\n",
        "    \"\"\"\n",
        "    def __init__(self, base_estimator=DecisionTreeRegressor(), n_estimators=10,\n",
        "                 max_samples=0.5, random_state=None, verbose=False):\n",
        "        self.base_estimator = base_estimator\n",
        "        self.n_estimators = n_estimators\n",
        "        self.max_samples = max_samples\n",
        "        self.random_state = random_state\n",
        "        self.verbose = verbose\n",
        "    \n",
        "    def _gen_seeds(self, N):\n",
        "        np.random.seed(self.random_state)\n",
        "        self.seeds = np.random.choice(N, self.n_estimators, replace=False)\n",
        "    \n",
        "    def _evaluate_estimator(self, X, y, estimator):\n",
        "        y_pred = estimator.predict(X)\n",
        "        return mean_squared_error(y, y_pred)\n",
        "    \n",
        "    def fit(self, X, y):\n",
        "        self._gen_seeds(X.shape[0])\n",
        "        self.estimators = []\n",
        "        for i in range(self.n_estimators):\n",
        "            X_train, X_val, y_train, y_val = train_test_split(X, y, train_size=self.max_samples,\n",
        "                                                              random_state=self.seeds[i])\n",
        "            estimator = clone(self.base_estimator)\n",
        "            estimator.fit(X_train, y_train)\n",
        "            self.estimators.append(estimator)\n",
        "\n",
        "            if self.verbose:\n",
        "                mse = self._evaluate_estimator(X_val, y_val, estimator)\n",
        "                print(\"Estimator\", i, \"MSE\", mse)\n",
        "        return self\n",
        "    \n",
        "    def predict(self, X):\n",
        "        y_preds = np.zeros((X.shape[0], len(self.estimators)))\n",
        "        for i, estimator in enumerate(self.estimators):\n",
        "            y_preds[:, i] = estimator.predict(X)\n",
        "        return y_preds.mean(axis=1)"
      ],
      "execution_count": 192,
      "outputs": []
    },
    {
      "cell_type": "markdown",
      "metadata": {
        "id": "F4wcx4g-FgP9"
      },
      "source": [
        "### Running scratch"
      ]
    },
    {
      "cell_type": "code",
      "metadata": {
        "id": "G9Nztd7ktmmS"
      },
      "source": [
        "base_lr = LinearRegression()\n",
        "base_svr = SVR()\n",
        "base_dtree = DecisionTreeRegressor(random_state=0)\n",
        "models = [\n",
        "    (\"Linear Regression\", base_lr),\n",
        "    (\"SVR\", base_svr),\n",
        "    (\"Decision Tree\", base_dtree),\n",
        "    (\"Bagging Linear Regression\", ScratchBaggingRegressor(base_estimator=base_lr,\n",
        "                                                          random_state=0)),\n",
        "    (\"Bagging SVR\", ScratchBaggingRegressor(base_estimator=base_svr,\n",
        "                                            random_state=0)),\n",
        "    (\"Bagging Decision Tree\", ScratchBaggingRegressor(base_estimator=base_dtree,\n",
        "                                                      random_state=0)),\n",
        "]\n",
        "\n",
        "model_scores = [(model[0], train_and_evaluate(X_train, X_val, y_train, y_val, model[1]))\n",
        "                for model in models]"
      ],
      "execution_count": 193,
      "outputs": []
    },
    {
      "cell_type": "code",
      "metadata": {
        "colab": {
          "base_uri": "https://localhost:8080/",
          "height": 637
        },
        "id": "U4Q7ZuaG4q1H",
        "outputId": "529585f7-0154-4fd1-dea3-e9148abcb4c5"
      },
      "source": [
        "plot_comparison(model_scores, \"Scratch results\")"
      ],
      "execution_count": 194,
      "outputs": [
        {
          "output_type": "display_data",
          "data": {
            "image/png": "[encoded data removed]",
            "text/plain": [
              "<Figure size 720x432 with 1 Axes>"
            ]
          },
          "metadata": {
            "tags": [],
            "needs_background": "light"
          }
        },
        {
          "output_type": "execute_result",
          "data": {
            "text/html": [
              "<div>\n",
              "<style scoped>\n",
              "    .dataframe tbody tr th:only-of-type {\n",
              "        vertical-align: middle;\n",
              "    }\n",
              "\n",
              "    .dataframe tbody tr th {\n",
              "        vertical-align: top;\n",
              "    }\n",
              "\n",
              "    .dataframe thead th {\n",
              "        text-align: right;\n",
              "    }\n",
              "</style>\n",
              "<table border=\"1\" class=\"dataframe\">\n",
              "  <thead>\n",
              "    <tr style=\"text-align: right;\">\n",
              "      <th></th>\n",
              "      <th>mse</th>\n",
              "    </tr>\n",
              "  </thead>\n",
              "  <tbody>\n",
              "    <tr>\n",
              "      <th>Bagging Decision Tree</th>\n",
              "      <td>1885705942.594179</td>\n",
              "    </tr>\n",
              "    <tr>\n",
              "      <th>Bagging Linear Regression</th>\n",
              "      <td>2941713866.676823</td>\n",
              "    </tr>\n",
              "    <tr>\n",
              "      <th>Linear Regression</th>\n",
              "      <td>2942066921.672107</td>\n",
              "    </tr>\n",
              "    <tr>\n",
              "      <th>Decision Tree</th>\n",
              "      <td>3015859667.659056</td>\n",
              "    </tr>\n",
              "    <tr>\n",
              "      <th>SVR</th>\n",
              "      <td>7221625115.268777</td>\n",
              "    </tr>\n",
              "    <tr>\n",
              "      <th>Bagging SVR</th>\n",
              "      <td>7246792511.012195</td>\n",
              "    </tr>\n",
              "  </tbody>\n",
              "</table>\n",
              "</div>"
            ],
            "text/plain": [
              "                                        mse\n",
              "Bagging Decision Tree     1885705942.594179\n",
              "Bagging Linear Regression 2941713866.676823\n",
              "Linear Regression         2942066921.672107\n",
              "Decision Tree             3015859667.659056\n",
              "SVR                       7221625115.268777\n",
              "Bagging SVR               7246792511.012195"
            ]
          },
          "metadata": {
            "tags": []
          },
          "execution_count": 194
        }
      ]
    },
    {
      "cell_type": "markdown",
      "metadata": {
        "id": "qRdmamawFlN_"
      },
      "source": [
        "### Running Sklearn to compare"
      ]
    },
    {
      "cell_type": "code",
      "metadata": {
        "id": "sZK6p9dFpcRp"
      },
      "source": [
        "from sklearn.ensemble import BaggingRegressor\n",
        "\n",
        "models = [\n",
        "    (\"Linear Regression\", base_lr),\n",
        "    (\"SVR\", base_svr),\n",
        "    (\"Decision Tree\", base_dtree),\n",
        "    (\"Bagging Linear Regression\", BaggingRegressor(base_estimator=base_lr, random_state=0)),\n",
        "    (\"Bagging SVR\", BaggingRegressor(base_estimator=base_svr, random_state=0)),\n",
        "    (\"Bagging Decision Tree\", BaggingRegressor(base_estimator=base_dtree, random_state=0)),\n",
        "]\n",
        "\n",
        "model_scores = [(model[0], train_and_evaluate(X_train, X_val, y_train, y_val, model[1]))\n",
        "                for model in models]"
      ],
      "execution_count": 195,
      "outputs": []
    },
    {
      "cell_type": "code",
      "metadata": {
        "colab": {
          "base_uri": "https://localhost:8080/",
          "height": 637
        },
        "id": "Ll7K4IDLp57w",
        "outputId": "ee5de5bd-e3ae-4653-d24e-15e4c25c29fe"
      },
      "source": [
        "plot_comparison(model_scores, \"Sklearn results\")"
      ],
      "execution_count": 196,
      "outputs": [
        {
          "output_type": "display_data",
          "data": {
            "image/png": "[encoded data removed]",
            "text/plain": [
              "<Figure size 720x432 with 1 Axes>"
            ]
          },
          "metadata": {
            "tags": [],
            "needs_background": "light"
          }
        },
        {
          "output_type": "execute_result",
          "data": {
            "text/html": [
              "<div>\n",
              "<style scoped>\n",
              "    .dataframe tbody tr th:only-of-type {\n",
              "        vertical-align: middle;\n",
              "    }\n",
              "\n",
              "    .dataframe tbody tr th {\n",
              "        vertical-align: top;\n",
              "    }\n",
              "\n",
              "    .dataframe thead th {\n",
              "        text-align: right;\n",
              "    }\n",
              "</style>\n",
              "<table border=\"1\" class=\"dataframe\">\n",
              "  <thead>\n",
              "    <tr style=\"text-align: right;\">\n",
              "      <th></th>\n",
              "      <th>mse</th>\n",
              "    </tr>\n",
              "  </thead>\n",
              "  <tbody>\n",
              "    <tr>\n",
              "      <th>Bagging Decision Tree</th>\n",
              "      <td>1904987777.051497</td>\n",
              "    </tr>\n",
              "    <tr>\n",
              "      <th>Linear Regression</th>\n",
              "      <td>2942066921.672107</td>\n",
              "    </tr>\n",
              "    <tr>\n",
              "      <th>Bagging Linear Regression</th>\n",
              "      <td>2979450668.084227</td>\n",
              "    </tr>\n",
              "    <tr>\n",
              "      <th>Decision Tree</th>\n",
              "      <td>3015859667.659056</td>\n",
              "    </tr>\n",
              "    <tr>\n",
              "      <th>SVR</th>\n",
              "      <td>7221625115.268777</td>\n",
              "    </tr>\n",
              "    <tr>\n",
              "      <th>Bagging SVR</th>\n",
              "      <td>7243935599.277979</td>\n",
              "    </tr>\n",
              "  </tbody>\n",
              "</table>\n",
              "</div>"
            ],
            "text/plain": [
              "                                        mse\n",
              "Bagging Decision Tree     1904987777.051497\n",
              "Linear Regression         2942066921.672107\n",
              "Bagging Linear Regression 2979450668.084227\n",
              "Decision Tree             3015859667.659056\n",
              "SVR                       7221625115.268777\n",
              "Bagging SVR               7243935599.277979"
            ]
          },
          "metadata": {
            "tags": []
          },
          "execution_count": 196
        }
      ]
    },
    {
      "cell_type": "markdown",
      "metadata": {
        "id": "6Ta6h1gx5PP-"
      },
      "source": [
        "## [Problem 3] Stacking scratch mounting"
      ]
    },
    {
      "cell_type": "code",
      "metadata": {
        "id": "UQfZ7OQ15Iu_"
      },
      "source": [
        "from sklearn.linear_model import LinearRegression\n",
        "from sklearn.model_selection import KFold\n",
        "from sklearn.base import clone\n",
        "from sklearn.metrics import mean_squared_error\n",
        "\n",
        "class ScratchStackingRegressor():\n",
        "    \"\"\"\n",
        "    A 2-stage stacking regressor:\n",
        "        Stage 1: train on estimator from list of estimators\n",
        "        Stage 2: train blend data on final estimator\n",
        "    @Attributes:\n",
        "        estimators: list of estimators with each element if a tuple of (name, estimator)\n",
        "        final_estimator: aggregator model\n",
        "        cv: number of data pieces to be divided\n",
        "    \"\"\"\n",
        "    def __init__(self, estimators, final_estimator=LinearRegression(),\n",
        "                 cv=3, random_state=None, verbose=False):\n",
        "        self.estimators = estimators\n",
        "        self.final_estimator = final_estimator\n",
        "        self.cv = cv\n",
        "        self.random_state = random_state\n",
        "        self.verbose = verbose\n",
        "    \n",
        "    def fit(self, X, y):\n",
        "        self.models = list()\n",
        "        blends = list()\n",
        "        # Base learning\n",
        "        kf = KFold(n_splits=self.cv, shuffle=True,\n",
        "                   random_state=self.random_state)\n",
        "        for i, (train_idx, test_idx) in enumerate(kf.split(X, y)):\n",
        "            blend_data = np.empty((len(test_idx), len(self.estimators) + 1))\n",
        "            trained_models = []\n",
        "            for j, (name, estimator) in enumerate(self.estimators):\n",
        "                model = clone(estimator)\n",
        "                model.fit(X[train_idx], y[train_idx])\n",
        "                y_pred = model.predict(X[test_idx])\n",
        "\n",
        "                blend_data[:, j] = y_pred\n",
        "                trained_models.append(model)\n",
        "\n",
        "                # Print learning process if verbose is set to True\n",
        "                if self.verbose:\n",
        "                    mse = mean_squared_error(y[test_idx], y_pred)\n",
        "                    print(f\"KFold {i + 1} {name:30} {mse}\")\n",
        "\n",
        "            blend_data[:, -1] = y[test_idx]\n",
        "            blends.append(blend_data)\n",
        "            self.models.append(trained_models)\n",
        "\n",
        "        self.blend_data = np.vstack(blends)\n",
        "\n",
        "        # Meta learning\n",
        "        self.final_estimator.fit(self.blend_data[:,:-1], self.blend_data[:,-1])\n",
        "\n",
        "        return self\n",
        "    \n",
        "    def predict(self, X):\n",
        "        blend_test = np.zeros((X.shape[0], len(self.estimators)))\n",
        "        for row_models in self.models:\n",
        "            base_pred = np.zeros_like(blend_test)\n",
        "            for i, model in enumerate(row_models):\n",
        "                base_pred[:, i] = model.predict(X)\n",
        "            blend_test += base_pred\n",
        "        blend_test /= self.cv\n",
        "\n",
        "        return self.final_estimator.predict(blend_test)"
      ],
      "execution_count": 197,
      "outputs": []
    },
    {
      "cell_type": "code",
      "metadata": {
        "id": "HPkggh39k6jb"
      },
      "source": [
        "from sklearn.ensemble import StackingRegressor\n",
        "\n",
        "models = [\n",
        "    (\"Linear Regression\", base_lr),\n",
        "    (\"SVR\", base_svr),\n",
        "    (\"Decision Tree\", base_dtree)\n",
        "]\n",
        "scratch_stack = ScratchStackingRegressor(estimators=models, cv=5)\n",
        "sklearn_stack = StackingRegressor(estimators=models, final_estimator=LinearRegression(), cv=5)\n",
        "\n",
        "model_list = [\n",
        "    (\"Linear Regression\", base_lr),\n",
        "    (\"SVR\", base_svr),\n",
        "    (\"Decision Tree\", base_dtree),\n",
        "    (\"Scratch Stacking Regressor\", scratch_stack),\n",
        "    (\"Sklearn Stacking Regressor\", sklearn_stack)\n",
        "]\n",
        "model_scores = [(model[0], train_and_evaluate(X_train, X_val, y_train, y_val, model[1]))\n",
        "                for model in model_list]"
      ],
      "execution_count": 198,
      "outputs": []
    },
    {
      "cell_type": "code",
      "metadata": {
        "colab": {
          "base_uri": "https://localhost:8080/",
          "height": 606
        },
        "id": "hyyBqwI7WW7X",
        "outputId": "459fd841-a77b-444f-e22a-2c8d217e4255"
      },
      "source": [
        "plot_comparison(model_scores)"
      ],
      "execution_count": 199,
      "outputs": [
        {
          "output_type": "display_data",
          "data": {
            "image/png": "[encoded data removed]",
            "text/plain": [
              "<Figure size 720x432 with 1 Axes>"
            ]
          },
          "metadata": {
            "tags": [],
            "needs_background": "light"
          }
        },
        {
          "output_type": "execute_result",
          "data": {
            "text/html": [
              "<div>\n",
              "<style scoped>\n",
              "    .dataframe tbody tr th:only-of-type {\n",
              "        vertical-align: middle;\n",
              "    }\n",
              "\n",
              "    .dataframe tbody tr th {\n",
              "        vertical-align: top;\n",
              "    }\n",
              "\n",
              "    .dataframe thead th {\n",
              "        text-align: right;\n",
              "    }\n",
              "</style>\n",
              "<table border=\"1\" class=\"dataframe\">\n",
              "  <thead>\n",
              "    <tr style=\"text-align: right;\">\n",
              "      <th></th>\n",
              "      <th>mse</th>\n",
              "    </tr>\n",
              "  </thead>\n",
              "  <tbody>\n",
              "    <tr>\n",
              "      <th>Sklearn Stacking Regressor</th>\n",
              "      <td>2510492547.850051</td>\n",
              "    </tr>\n",
              "    <tr>\n",
              "      <th>Scratch Stacking Regressor</th>\n",
              "      <td>2513024901.264619</td>\n",
              "    </tr>\n",
              "    <tr>\n",
              "      <th>Linear Regression</th>\n",
              "      <td>2942066921.672107</td>\n",
              "    </tr>\n",
              "    <tr>\n",
              "      <th>Decision Tree</th>\n",
              "      <td>3015859667.659056</td>\n",
              "    </tr>\n",
              "    <tr>\n",
              "      <th>SVR</th>\n",
              "      <td>7221625115.268777</td>\n",
              "    </tr>\n",
              "  </tbody>\n",
              "</table>\n",
              "</div>"
            ],
            "text/plain": [
              "                                         mse\n",
              "Sklearn Stacking Regressor 2510492547.850051\n",
              "Scratch Stacking Regressor 2513024901.264619\n",
              "Linear Regression          2942066921.672107\n",
              "Decision Tree              3015859667.659056\n",
              "SVR                        7221625115.268777"
            ]
          },
          "metadata": {
            "tags": []
          },
          "execution_count": 199
        }
      ]
    },
    {
      "cell_type": "markdown",
      "metadata": {
        "id": "v5RH8tV3C1IF"
      },
      "source": [
        "## Experiment\n",
        "\n",
        "Try with complex mix of models, final_estimator is LinearRegression"
      ]
    },
    {
      "cell_type": "code",
      "metadata": {
        "id": "KtReWMOBAi6E"
      },
      "source": [
        "from sklearn.neighbors import KNeighborsRegressor\n",
        "from sklearn.ensemble import RandomForestRegressor\n",
        "\n",
        "models = [\n",
        "    (\"Linear Regression\", LinearRegression()),\n",
        "    (\"SVR\", SVR()),\n",
        "    (\"Decision Tree\", DecisionTreeRegressor()),\n",
        "    (\"KNeighbors\", KNeighborsRegressor()),\n",
        "    (\"Random Forest\", RandomForestRegressor())\n",
        "]\n",
        "scratch_stack = ScratchStackingRegressor(estimators=models, cv=10)\n",
        "sklearn_stack = StackingRegressor(estimators=models, final_estimator=LinearRegression(), cv=10)\n",
        "\n",
        "model_list = models.copy()\n",
        "model_list.append((\"Scratch Stacking Regressor\", scratch_stack))\n",
        "model_list.append((\"Sklearn Stacking Regressor\", sklearn_stack))\n",
        "\n",
        "model_scores = [(model[0], train_and_evaluate(X_train, X_val, y_train, y_val, model[1]))\n",
        "                for model in model_list]"
      ],
      "execution_count": 200,
      "outputs": []
    },
    {
      "cell_type": "code",
      "metadata": {
        "colab": {
          "base_uri": "https://localhost:8080/",
          "height": 668
        },
        "id": "KL2BCLwGCicI",
        "outputId": "8ad5981d-47a5-4fe5-f416-bb58752762aa"
      },
      "source": [
        "plot_comparison(model_scores)"
      ],
      "execution_count": 201,
      "outputs": [
        {
          "output_type": "display_data",
          "data": {
            "image/png": "[encoded data removed]",
            "text/plain": [
              "<Figure size 720x432 with 1 Axes>"
            ]
          },
          "metadata": {
            "tags": [],
            "needs_background": "light"
          }
        },
        {
          "output_type": "execute_result",
          "data": {
            "text/html": [
              "<div>\n",
              "<style scoped>\n",
              "    .dataframe tbody tr th:only-of-type {\n",
              "        vertical-align: middle;\n",
              "    }\n",
              "\n",
              "    .dataframe tbody tr th {\n",
              "        vertical-align: top;\n",
              "    }\n",
              "\n",
              "    .dataframe thead th {\n",
              "        text-align: right;\n",
              "    }\n",
              "</style>\n",
              "<table border=\"1\" class=\"dataframe\">\n",
              "  <thead>\n",
              "    <tr style=\"text-align: right;\">\n",
              "      <th></th>\n",
              "      <th>mse</th>\n",
              "    </tr>\n",
              "  </thead>\n",
              "  <tbody>\n",
              "    <tr>\n",
              "      <th>Random Forest</th>\n",
              "      <td>1888687587.741518</td>\n",
              "    </tr>\n",
              "    <tr>\n",
              "      <th>Sklearn Stacking Regressor</th>\n",
              "      <td>1991361390.330312</td>\n",
              "    </tr>\n",
              "    <tr>\n",
              "      <th>Scratch Stacking Regressor</th>\n",
              "      <td>2022801688.947981</td>\n",
              "    </tr>\n",
              "    <tr>\n",
              "      <th>KNeighbors</th>\n",
              "      <td>2147632008.770137</td>\n",
              "    </tr>\n",
              "    <tr>\n",
              "      <th>Linear Regression</th>\n",
              "      <td>2942066921.672107</td>\n",
              "    </tr>\n",
              "    <tr>\n",
              "      <th>Decision Tree</th>\n",
              "      <td>3163458837.528919</td>\n",
              "    </tr>\n",
              "    <tr>\n",
              "      <th>SVR</th>\n",
              "      <td>7221625115.268777</td>\n",
              "    </tr>\n",
              "  </tbody>\n",
              "</table>\n",
              "</div>"
            ],
            "text/plain": [
              "                                         mse\n",
              "Random Forest              1888687587.741518\n",
              "Sklearn Stacking Regressor 1991361390.330312\n",
              "Scratch Stacking Regressor 2022801688.947981\n",
              "KNeighbors                 2147632008.770137\n",
              "Linear Regression          2942066921.672107\n",
              "Decision Tree              3163458837.528919\n",
              "SVR                        7221625115.268777"
            ]
          },
          "metadata": {
            "tags": []
          },
          "execution_count": 201
        }
      ]
    },
    {
      "cell_type": "markdown",
      "metadata": {
        "id": "s9_PEPOzC_6Q"
      },
      "source": [
        "Change final_estimator to RidgeCV - default of Sklearn, but set default hyperparameters."
      ]
    },
    {
      "cell_type": "code",
      "metadata": {
        "id": "UTUW2Fb1CyOv"
      },
      "source": [
        "from sklearn.linear_model import RidgeCV\n",
        "\n",
        "models = [\n",
        "    (\"Linear Regression\", LinearRegression()),\n",
        "    (\"SVR\", SVR()),\n",
        "    (\"Decision Tree\", DecisionTreeRegressor()),\n",
        "    (\"KNeighbors\", KNeighborsRegressor()),\n",
        "    (\"Random Forest\", RandomForestRegressor())\n",
        "]\n",
        "scratch_stack = ScratchStackingRegressor(estimators=models, final_estimator=RidgeCV(), cv=10)\n",
        "sklearn_stack = StackingRegressor(estimators=models, cv=10)\n",
        "\n",
        "model_list = models.copy()\n",
        "model_list.append((\"Scratch Stacking Regressor\", scratch_stack))\n",
        "model_list.append((\"Sklearn Stacking Regressor\", sklearn_stack))\n",
        "\n",
        "model_scores = [(model[0], train_and_evaluate(X_train, X_val, y_train, y_val, model[1]))\n",
        "                for model in model_list]"
      ],
      "execution_count": 202,
      "outputs": []
    },
    {
      "cell_type": "code",
      "metadata": {
        "colab": {
          "base_uri": "https://localhost:8080/",
          "height": 668
        },
        "id": "a0nJt5dMDfB7",
        "outputId": "e0657169-0483-49f1-db13-1868208d74ee"
      },
      "source": [
        "plot_comparison(model_scores)"
      ],
      "execution_count": 203,
      "outputs": [
        {
          "output_type": "display_data",
          "data": {
            "image/png": "[encoded data removed]",
            "text/plain": [
              "<Figure size 720x432 with 1 Axes>"
            ]
          },
          "metadata": {
            "tags": [],
            "needs_background": "light"
          }
        },
        {
          "output_type": "execute_result",
          "data": {
            "text/html": [
              "<div>\n",
              "<style scoped>\n",
              "    .dataframe tbody tr th:only-of-type {\n",
              "        vertical-align: middle;\n",
              "    }\n",
              "\n",
              "    .dataframe tbody tr th {\n",
              "        vertical-align: top;\n",
              "    }\n",
              "\n",
              "    .dataframe thead th {\n",
              "        text-align: right;\n",
              "    }\n",
              "</style>\n",
              "<table border=\"1\" class=\"dataframe\">\n",
              "  <thead>\n",
              "    <tr style=\"text-align: right;\">\n",
              "      <th></th>\n",
              "      <th>mse</th>\n",
              "    </tr>\n",
              "  </thead>\n",
              "  <tbody>\n",
              "    <tr>\n",
              "      <th>Random Forest</th>\n",
              "      <td>1820819473.283647</td>\n",
              "    </tr>\n",
              "    <tr>\n",
              "      <th>Sklearn Stacking Regressor</th>\n",
              "      <td>2014159313.231989</td>\n",
              "    </tr>\n",
              "    <tr>\n",
              "      <th>Scratch Stacking Regressor</th>\n",
              "      <td>2103842881.110054</td>\n",
              "    </tr>\n",
              "    <tr>\n",
              "      <th>KNeighbors</th>\n",
              "      <td>2147632008.770137</td>\n",
              "    </tr>\n",
              "    <tr>\n",
              "      <th>Linear Regression</th>\n",
              "      <td>2942066921.672107</td>\n",
              "    </tr>\n",
              "    <tr>\n",
              "      <th>Decision Tree</th>\n",
              "      <td>3055024544.039193</td>\n",
              "    </tr>\n",
              "    <tr>\n",
              "      <th>SVR</th>\n",
              "      <td>7221625115.268777</td>\n",
              "    </tr>\n",
              "  </tbody>\n",
              "</table>\n",
              "</div>"
            ],
            "text/plain": [
              "                                         mse\n",
              "Random Forest              1820819473.283647\n",
              "Sklearn Stacking Regressor 2014159313.231989\n",
              "Scratch Stacking Regressor 2103842881.110054\n",
              "KNeighbors                 2147632008.770137\n",
              "Linear Regression          2942066921.672107\n",
              "Decision Tree              3055024544.039193\n",
              "SVR                        7221625115.268777"
            ]
          },
          "metadata": {
            "tags": []
          },
          "execution_count": 203
        }
      ]
    }
  ]
}