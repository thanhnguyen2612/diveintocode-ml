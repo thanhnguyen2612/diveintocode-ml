{
  "nbformat": 4,
  "nbformat_minor": 0,
  "metadata": {
    "colab": {
      "name": "python_intro_class_assignment3_chestnut_bun.ipynb",
      "provenance": [],
      "collapsed_sections": [],
      "authorship_tag": "ABX9TyMf+8YPtM9EnhmkiXqU3GZU",
      "include_colab_link": true
    },
    "kernelspec": {
      "name": "python3",
      "display_name": "Python 3"
    }
  },
  "cells": [
    {
      "cell_type": "markdown",
      "metadata": {
        "id": "view-in-github",
        "colab_type": "text"
      },
      "source": [
        "<a href=\"https://colab.research.google.com/github/thanhnguyen2612/diveintocode-ml/blob/master/python_intro_class_assignment3_chestnut_bun.ipynb\" target=\"_parent\"><img src=\"https://colab.research.google.com/assets/colab-badge.svg\" alt=\"Open In Colab\"/></a>"
      ]
    },
    {
      "cell_type": "markdown",
      "metadata": {
        "id": "b5p-aXtw4gmF"
      },
      "source": [
        "# Python introductory Class Assignment 3 the chestnut bun problem\n",
        "## [Problem] The day when chestnut buns cover the solar system"
      ]
    },
    {
      "cell_type": "code",
      "metadata": {
        "id": "StBzgcBu4XJb",
        "colab": {
          "base_uri": "https://localhost:8080/"
        },
        "outputId": "f71b4044-7922-485a-cd2f-af9b6a42bb89"
      },
      "source": [
        "import math\n",
        "\n",
        "DOUBLE_TIME = 5     # Time interval everytime \"Byevine\" activates\n",
        "\n",
        "def time_to_cover(bun_volume, space_volume):\n",
        "    \"\"\"\n",
        "    @Param\n",
        "        bun_volume: volume of an object to be sprinkled by \"Byevine\"\n",
        "        space_volume: volume of the space to fill up with 'bun'\n",
        "    @Return\n",
        "        How long to cover the space\n",
        "    \"\"\"\n",
        "    return math.ceil(math.log2(space_volume / bun_volume)) * DOUBLE_TIME\n",
        "\n",
        "CHESTNUT_BUN_VOLUME = 0.000268\n",
        "SOLAR_SYSTEM_VOLUME = 4/3 * math.pi * (287.46 * 1000000000)**3 * 10**9      # In m^3\n",
        "times = time_to_cover(CHESTNUT_BUN_VOLUME, SOLAR_SYSTEM_VOLUME)\n",
        "print(f\"Need {times} minutes to cover the solar system\")"
      ],
      "execution_count": 26,
      "outputs": [
        {
          "output_type": "stream",
          "text": [
            "Need 795 minutes to cover the solar system\n"
          ],
          "name": "stdout"
        }
      ]
    },
    {
      "cell_type": "markdown",
      "metadata": {
        "id": "CL3A9KiyCIC8"
      },
      "source": [
        "## Plot a line graph tracking volume of all chestnut bun"
      ]
    },
    {
      "cell_type": "code",
      "metadata": {
        "colab": {
          "base_uri": "https://localhost:8080/",
          "height": 404
        },
        "id": "zPknjIYECHfE",
        "outputId": "0ee656a6-df26-42fd-829f-ac41df62b8d8"
      },
      "source": [
        "import matplotlib.pyplot as plt\n",
        "\n",
        "# Store volume of buns everytime \"Byevine\" active\n",
        "volume_buns = [CHESTNUT_BUN_VOLUME]\n",
        "intervals = [0]\n",
        "for i in range(times // DOUBLE_TIME - 1):\n",
        "    volume_buns.append(volume_buns[-1] * 2)\n",
        "    intervals.append(intervals[-1] + DOUBLE_TIME)\n",
        "\n",
        "plt.figure(figsize=(10, 6))\n",
        "plt.title(\"Byevine tracker\")\n",
        "plt.xlabel(\"Time in minutes\")\n",
        "plt.ylabel(\"Volume of chestnut bun in m^3\")\n",
        "plt.plot(intervals, volume_buns, linewidth=4)\n",
        "plt.show()"
      ],
      "execution_count": 27,
      "outputs": [
        {
          "output_type": "display_data",
          "data": {
            "image/png": "[encoded data removed]",
            "text/plain": [
              "<Figure size 720x432 with 1 Axes>"
            ]
          },
          "metadata": {
            "tags": [],
            "needs_background": "light"
          }
        }
      ]
    }
  ]
}