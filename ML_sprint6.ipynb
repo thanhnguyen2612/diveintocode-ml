{
  "nbformat": 4,
  "nbformat_minor": 0,
  "metadata": {
    "colab": {
      "name": "ML_sprint6.ipynb",
      "provenance": [],
      "authorship_tag": "ABX9TyPtcbDZcHFlYJkAME3OVc/Y",
      "include_colab_link": true
    },
    "kernelspec": {
      "name": "python3",
      "display_name": "Python 3"
    },
    "language_info": {
      "name": "python"
    }
  },
  "cells": [
    {
      "cell_type": "markdown",
      "metadata": {
        "id": "view-in-github",
        "colab_type": "text"
      },
      "source": [
        "<a href=\"https://colab.research.google.com/github/thanhnguyen2612/diveintocode-ml/blob/master/ML_sprint6.ipynb\" target=\"_parent\"><img src=\"https://colab.research.google.com/assets/colab-badge.svg\" alt=\"Open In Colab\"/></a>"
      ]
    },
    {
      "cell_type": "markdown",
      "metadata": {
        "id": "Kvop9b9LX2vg"
      },
      "source": [
        "# Decision Tree"
      ]
    },
    {
      "cell_type": "code",
      "metadata": {
        "id": "6McxfEf7i6sk"
      },
      "source": [
        "import numpy as np\n",
        "import matplotlib.pyplot as plt\n",
        "import seaborn as sns\n",
        "%matplotlib inline"
      ],
      "execution_count": 334,
      "outputs": []
    },
    {
      "cell_type": "code",
      "metadata": {
        "id": "yy-MAk7fnoHv"
      },
      "source": [
        "import statistics\n",
        "\n",
        "class ScratchDecesionTreeClassifierDepth1():\n",
        "    \"\"\"\n",
        "    Depth 1 decision tree classifier scratch implementation\n",
        "    Parameters\n",
        "    ----------\n",
        "    verbose : bool\n",
        "      True to output the learning process\n",
        "    \"\"\"\n",
        "    def __init__(self, verbose=False):\n",
        "        # Record hyperparameters as attributes\n",
        "        self.verbose = verbose\n",
        "    \n",
        "    def _gini_index(self, c_samples, n_samples):\n",
        "        \"\"\"\n",
        "        @Params:\n",
        "            c_samples: list of number of samples belonging to a class\n",
        "            n_samples: total number of samples\n",
        "        @Return:\n",
        "            Gini impurity index\n",
        "        \"\"\"\n",
        "        return 1 - sum((c / n_samples) ** 2 for c in c_samples)\n",
        "    \n",
        "    def _information_gain(self, l_samples, r_samples):\n",
        "        \"\"\"\n",
        "        @Params:\n",
        "            l_samples: left node distribution\n",
        "            r_samples: right node distribution\n",
        "        @Return:\n",
        "            Information gain index\n",
        "        \"\"\"\n",
        "        n_l_samples = sum(l_samples)\n",
        "        n_r_samples = sum(r_samples)\n",
        "        n_samples = n_l_samples + n_r_samples\n",
        "\n",
        "        I_left = gini_index(l_samples, n_l_samples)\n",
        "        I_right = gini_index(r_samples, n_r_samples)\n",
        "        I_parent = gini_index(l_samples + r_samples, n_samples)\n",
        "        \n",
        "        IG = I_parent - n_l_samples/n_samples*I_left - n_r_samples/n_samples*I_right\n",
        "        return IG\n",
        "    \n",
        "    def _choose_threshold(self, X, y):\n",
        "        \"\"\"\n",
        "        @Params:\n",
        "            X: a column feature\n",
        "            y: labels\n",
        "        @Return:\n",
        "            Best information gain and corresponding threshold\n",
        "        \"\"\"\n",
        "        info_gains = []\n",
        "        thresholds = np.unique(X)\n",
        "\n",
        "        for threshold in thresholds:\n",
        "            l_node = y[X < threshold]\n",
        "            r_node = y[X >= threshold]\n",
        "\n",
        "            if len(l_node) == 0 or len(r_node) == 0:\n",
        "                continue\n",
        "\n",
        "            l_samples = np.array([(l_node == self.ylabel[0]).sum(),\n",
        "                                  (l_node == self.ylabel[1]).sum()])\n",
        "            r_samples = np.array([(r_node == self.ylabel[0]).sum(),\n",
        "                                  (r_node == self.ylabel[1]).sum()])\n",
        "            info_gains.append(self._information_gain(l_samples, r_samples))\n",
        "\n",
        "        return max(info_gains), thresholds[info_gains.index(max(info_gains))]\n",
        "\n",
        "    def fit(self, X, y):\n",
        "        \"\"\"\n",
        "        Learn the decision tree classifier\n",
        "        Parameters\n",
        "        ----------\n",
        "        X : The following forms of ndarray, shape (n_samples, n_features)\n",
        "            Features of training data\n",
        "        y : The following form of ndarray, shape (n_samples,)\n",
        "            Correct answer value of training data\n",
        "        \"\"\"\n",
        "        self.ylabel = np.unique(y)\n",
        "\n",
        "        info_gains = []\n",
        "        thresholds = []\n",
        "        for i in range(X.shape[1]):\n",
        "            info_gain, threshold = self._choose_threshold(X[:,i], y)\n",
        "            info_gains.append(info_gain)\n",
        "            thresholds.append(threshold)\n",
        "\n",
        "            # Output the learning process when verbose is set to True\n",
        "            if self.verbose:\n",
        "                print(f\"Column {i}: InfoGain({info_gain}) - Threshold({threshold})\")\n",
        "        \n",
        "        self.info_gain = max(info_gains)\n",
        "        self.index = info_gains.index(self.info_gain)\n",
        "        self.threshold = thresholds[self.index]\n",
        "        self.l_label = statistics.mode(y[X[:, self.index] < self.threshold])\n",
        "        self.r_label = statistics.mode(y[X[:, self.index] >= self.threshold])\n",
        "\n",
        "    def predict(self, X):\n",
        "        \"\"\"\n",
        "        Estimate the label using a decision tree classifier\n",
        "        \"\"\"\n",
        "        return np.where(X[:, self.index] >= self.threshold, self.r_label, self.l_label)"
      ],
      "execution_count": 335,
      "outputs": []
    },
    {
      "cell_type": "markdown",
      "metadata": {
        "id": "vxqOGMwQgn8o"
      },
      "source": [
        "## [Problem 1] Function for finding impureness"
      ]
    },
    {
      "cell_type": "code",
      "metadata": {
        "id": "V5AfLDolYjjy"
      },
      "source": [
        "def gini_index(c_samples, n_samples):\n",
        "    \"\"\"\n",
        "    @Params:\n",
        "        c_samples: list of number of samples belonging to a class\n",
        "        n_samples: total number of samples\n",
        "    @Return:\n",
        "        Gini impurity index\n",
        "    \"\"\"\n",
        "    gini = 1 - sum((c / n_samples) ** 2 for c in c_samples)\n",
        "    return gini"
      ],
      "execution_count": 336,
      "outputs": []
    },
    {
      "cell_type": "code",
      "metadata": {
        "colab": {
          "base_uri": "https://localhost:8080/"
        },
        "id": "POjMEifmk-lX",
        "outputId": "52e6a0bf-6adb-432f-aeb6-c66d704bc089"
      },
      "source": [
        "print(gini_index([15, 15], 30))\n",
        "print(gini_index([15, 15, 15], 45))\n",
        "print(gini_index([18, 12], 30))\n",
        "print(gini_index([30, 0], 30))"
      ],
      "execution_count": 337,
      "outputs": [
        {
          "output_type": "stream",
          "text": [
            "0.5\n",
            "0.6666666666666667\n",
            "0.48\n",
            "0.0\n"
          ],
          "name": "stdout"
        }
      ]
    },
    {
      "cell_type": "markdown",
      "metadata": {
        "id": "qmiHC13vlSJE"
      },
      "source": [
        "## [Problem 2] Function for finding information gain"
      ]
    },
    {
      "cell_type": "code",
      "metadata": {
        "id": "6Ug8w4RolS4B"
      },
      "source": [
        "def information_gain(l_samples, r_samples):\n",
        "    \"\"\"\n",
        "    @Params:\n",
        "        l_samples: left node distribution\n",
        "        r_samples: right node distribution\n",
        "    @Return:\n",
        "        Information gain index\n",
        "    \"\"\"\n",
        "    n_l_samples = sum(l_samples)\n",
        "    n_r_samples = sum(r_samples)\n",
        "    n_samples = n_l_samples + n_r_samples\n",
        "\n",
        "    I_left = gini_index(l_samples, n_l_samples)\n",
        "    I_right = gini_index(r_samples, n_r_samples)\n",
        "    I_parent = gini_index(l_samples + r_samples, n_samples)\n",
        "    \n",
        "    IG = I_parent - n_l_samples/n_samples*I_left - n_r_samples/n_samples*I_right\n",
        "    return IG"
      ],
      "execution_count": 338,
      "outputs": []
    },
    {
      "cell_type": "code",
      "metadata": {
        "colab": {
          "base_uri": "https://localhost:8080/"
        },
        "id": "dOEVHnWHncvP",
        "outputId": "bb73c826-e8e8-4217-dc02-1ad5de27e933"
      },
      "source": [
        "information_gain(np.array([10, 30]), np.array([20, 5]))"
      ],
      "execution_count": 339,
      "outputs": [
        {
          "output_type": "execute_result",
          "data": {
            "text/plain": [
              "0.14319526627218937"
            ]
          },
          "metadata": {
            "tags": []
          },
          "execution_count": 339
        }
      ]
    },
    {
      "cell_type": "markdown",
      "metadata": {
        "id": "2psfSFQ7rDR2"
      },
      "source": [
        "## [Problem 3] Learning"
      ]
    },
    {
      "cell_type": "code",
      "metadata": {
        "id": "M5BlPmxtV8vl"
      },
      "source": [
        "def choose_threshold(X, y):\n",
        "    ylabel = np.unique(y)\n",
        "    info_gains = []\n",
        "    thresholds = np.unique(X)\n",
        "\n",
        "    for threshold in thresholds[1:]:\n",
        "        l_node = y[X < threshold]\n",
        "        r_node = y[X >= threshold]\n",
        "\n",
        "        l_samples = np.array([(l_node == ylabel[0]).sum(),\n",
        "                                (l_node == ylabel[1]).sum()])\n",
        "        r_samples = np.array([(r_node == ylabel[0]).sum(),\n",
        "                                (r_node == ylabel[1]).sum()])\n",
        "        info_gains.append(information_gain(l_samples, r_samples))\n",
        "\n",
        "    return max(info_gains), thresholds[info_gains.index(max(info_gains))]\n",
        "\n",
        "def train(X, y):\n",
        "    info_gains = []\n",
        "    thresholds = []\n",
        "    for i in range(X.shape[1]):\n",
        "        info_gain, threshold = choose_threshold(X[:,i], y)\n",
        "        info_gains.append(info_gain)\n",
        "        thresholds.append(threshold)\n",
        "    \n",
        "    best_info_gain = max(info_gains)\n",
        "    index = info_gains.index(best_info_gain)\n",
        "    threshold = thresholds[index]\n",
        "    r_label = statistics.mode(y[X[:, index] >= threshold])\n",
        "    l_label = statistics.mode(y[X[:, index] < threshold])\n",
        "    return best_info_gain, threshold, l_label, r_label, index"
      ],
      "execution_count": 340,
      "outputs": []
    },
    {
      "cell_type": "markdown",
      "metadata": {
        "id": "HxXDQ3l9akD1"
      },
      "source": [
        "### Load Simple Dataset 2 and compare with Sklearn"
      ]
    },
    {
      "cell_type": "code",
      "metadata": {
        "colab": {
          "base_uri": "https://localhost:8080/"
        },
        "id": "L3t_G3uDXXXB",
        "outputId": "def04ab7-9bb9-492b-dc3b-d0fe8b8679da"
      },
      "source": [
        "X = np.array([\n",
        "    [-0.44699 , -2.8073  ],[-1.4621  , -2.4586  ],\n",
        "    [ 0.10645 ,  1.9242  ],[-3.5944  , -4.0112  ],\n",
        "    [-0.9888  ,  4.5718  ],[-3.1625  , -3.9606  ],\n",
        "    [ 0.56421 ,  0.72888 ],[-0.60216 ,  8.4636  ],\n",
        "    [-0.61251 , -0.75345 ],[-0.73535 , -2.2718  ],\n",
        "    [-0.80647 , -2.2135  ],[ 0.86291 ,  2.3946  ],\n",
        "    [-3.1108  ,  0.15394 ],[-2.9362  ,  2.5462  ],\n",
        "    [-0.57242 , -2.9915  ],[ 1.4771  ,  3.4896  ],\n",
        "    [ 0.58619 ,  0.37158 ],[ 0.6017  ,  4.3439  ],\n",
        "    [-2.1086  ,  8.3428  ],[-4.1013  , -4.353   ],\n",
        "    [-1.9948  , -1.3927  ],[ 0.35084 , -0.031994],\n",
        "    [ 0.96765 ,  7.8929  ],[-1.281   , 15.6824  ],\n",
        "    [ 0.96765 , 10.083   ],[ 1.3763  ,  1.3347  ],\n",
        "    [-2.234   , -2.5323  ],[-2.9452  , -1.8219  ],\n",
        "    [ 0.14654 , -0.28733 ],[ 0.5461  ,  5.8245  ],\n",
        "    [-0.65259 ,  9.3444  ],[ 0.59912 ,  5.3524  ],\n",
        "    [ 0.50214 , -0.31818 ],[-3.0603  , -3.6461  ],\n",
        "    [-6.6797  ,  0.67661 ],[-2.353   , -0.72261 ],\n",
        "    [ 1.1319  ,  2.4023  ],[-0.12243 ,  9.0162  ],\n",
        "    [-2.5677  , 13.1779  ],[ 0.057313,  5.4681  ],\n",
        "])\n",
        "y = np.array([0, 0, 0, 0, 0, 0, 0, 0, 0, 0, 0, 0, 0, 0, 0, 0, 0, 0, 0, 0, 1, 1,\n",
        "              1, 1, 1, 1, 1, 1, 1, 1, 1, 1, 1, 1, 1, 1, 1, 1, 1, 1])\n",
        "print(X.shape, y.shape)"
      ],
      "execution_count": 341,
      "outputs": [
        {
          "output_type": "stream",
          "text": [
            "(40, 2) (40,)\n"
          ],
          "name": "stdout"
        }
      ]
    },
    {
      "cell_type": "code",
      "metadata": {
        "colab": {
          "base_uri": "https://localhost:8080/"
        },
        "id": "jyPsdR1wfUcy",
        "outputId": "9e48e933-c9cc-4fa3-b4b1-3cac5c8cb665"
      },
      "source": [
        "info_gain, threshold, l_label, r_label, idx = train(X, y)\n",
        "print(f\"Feature {idx}: InfoGain({info_gain}) - Threshold ({threshold})\")"
      ],
      "execution_count": 342,
      "outputs": [
        {
          "output_type": "stream",
          "text": [
            "Feature 1: InfoGain(0.07680250783699061) - Threshold (4.5718)\n"
          ],
          "name": "stdout"
        }
      ]
    },
    {
      "cell_type": "code",
      "metadata": {
        "colab": {
          "base_uri": "https://localhost:8080/"
        },
        "id": "xYGwOrVqa8WS",
        "outputId": "7bb1b185-446e-456b-9bc9-305c2c1d5e1c"
      },
      "source": [
        "from sklearn.tree import DecisionTreeClassifier\n",
        "\n",
        "sklearn_tree = DecisionTreeClassifier(max_depth=1, random_state=0)\n",
        "sklearn_tree.fit(X, y)"
      ],
      "execution_count": 343,
      "outputs": [
        {
          "output_type": "execute_result",
          "data": {
            "text/plain": [
              "DecisionTreeClassifier(ccp_alpha=0.0, class_weight=None, criterion='gini',\n",
              "                       max_depth=1, max_features=None, max_leaf_nodes=None,\n",
              "                       min_impurity_decrease=0.0, min_impurity_split=None,\n",
              "                       min_samples_leaf=1, min_samples_split=2,\n",
              "                       min_weight_fraction_leaf=0.0, presort='deprecated',\n",
              "                       random_state=0, splitter='best')"
            ]
          },
          "metadata": {
            "tags": []
          },
          "execution_count": 343
        }
      ]
    },
    {
      "cell_type": "code",
      "metadata": {
        "colab": {
          "base_uri": "https://localhost:8080/"
        },
        "id": "X7OAP0nVcpG7",
        "outputId": "aa98b863-81cf-4b63-d637-498a6bc430bd"
      },
      "source": [
        "f, t = sklearn_tree.tree_.feature[0], sklearn_tree.tree_.threshold[0]\n",
        "print(f\"Feature {f}: Threshold {t}\")"
      ],
      "execution_count": 344,
      "outputs": [
        {
          "output_type": "stream",
          "text": [
            "Feature 1: Threshold 4.962100028991699\n"
          ],
          "name": "stdout"
        }
      ]
    },
    {
      "cell_type": "markdown",
      "metadata": {
        "id": "s-QUdpWTDaRG"
      },
      "source": [
        "## [Problem 4] Estimate"
      ]
    },
    {
      "cell_type": "code",
      "metadata": {
        "id": "89VOZi3tDptc"
      },
      "source": [
        "def predict(X, idx, threshold, l_label, r_label):\n",
        "    return np.where(X[:, idx] >= threshold, r_label, l_label)"
      ],
      "execution_count": 345,
      "outputs": []
    },
    {
      "cell_type": "code",
      "metadata": {
        "id": "_z3D_CZ0DayZ"
      },
      "source": [
        "from sklearn.model_selection import train_test_split\n",
        "\n",
        "X_train, X_val, y_train, y_val = train_test_split(X, y, test_size=0.2, random_state=0)"
      ],
      "execution_count": 346,
      "outputs": []
    },
    {
      "cell_type": "code",
      "metadata": {
        "colab": {
          "base_uri": "https://localhost:8080/"
        },
        "id": "Nj8T6iZdNngt",
        "outputId": "f866ca9a-bb5e-4ee4-836f-b75918f2d2d9"
      },
      "source": [
        "info_gain, threshold, l_label, r_label, idx = train(X, y)\n",
        "print(f\"Feature {idx}: InfoGain({info_gain}) - Threshold ({threshold})\")\n",
        "y_pred = predict(X_val, idx, threshold, l_label, r_label)\n",
        "print(classification_report(y_val, y_pred))"
      ],
      "execution_count": 347,
      "outputs": [
        {
          "output_type": "stream",
          "text": [
            "Feature 1: InfoGain(0.07680250783699061) - Threshold (4.5718)\n",
            "              precision    recall  f1-score   support\n",
            "\n",
            "           0       0.50      0.75      0.60         4\n",
            "           1       0.50      0.25      0.33         4\n",
            "\n",
            "    accuracy                           0.50         8\n",
            "   macro avg       0.50      0.50      0.47         8\n",
            "weighted avg       0.50      0.50      0.47         8\n",
            "\n"
          ],
          "name": "stdout"
        }
      ]
    },
    {
      "cell_type": "code",
      "metadata": {
        "colab": {
          "base_uri": "https://localhost:8080/"
        },
        "id": "JUrizC3TOedZ",
        "outputId": "3d292889-27d8-408a-935b-0bfe6d1c2df5"
      },
      "source": [
        "sklearn_tree = DecisionTreeClassifier(max_depth=1, random_state=0)\n",
        "sklearn_tree.fit(X_train, y_train)\n",
        "y_pred = sklearn_tree.predict(X_val)\n",
        "print(classification_report(y_val, y_pred))"
      ],
      "execution_count": 348,
      "outputs": [
        {
          "output_type": "stream",
          "text": [
            "              precision    recall  f1-score   support\n",
            "\n",
            "           0       0.50      1.00      0.67         4\n",
            "           1       0.00      0.00      0.00         4\n",
            "\n",
            "    accuracy                           0.50         8\n",
            "   macro avg       0.25      0.50      0.33         8\n",
            "weighted avg       0.25      0.50      0.33         8\n",
            "\n"
          ],
          "name": "stdout"
        },
        {
          "output_type": "stream",
          "text": [
            "/usr/local/lib/python3.7/dist-packages/sklearn/metrics/_classification.py:1272: UndefinedMetricWarning: Precision and F-score are ill-defined and being set to 0.0 in labels with no predicted samples. Use `zero_division` parameter to control this behavior.\n",
            "  _warn_prf(average, modifier, msg_start, len(result))\n"
          ],
          "name": "stderr"
        }
      ]
    },
    {
      "cell_type": "markdown",
      "metadata": {
        "id": "lX_8Z0PmPMpY"
      },
      "source": [
        "## [Problem 5] Learning and estimation"
      ]
    },
    {
      "cell_type": "code",
      "metadata": {
        "id": "SSKc6v0sOwxp"
      },
      "source": [
        "from sklearn.model_selection import train_test_split\n",
        "from sklearn.metrics import classification_report, confusion_matrix\n",
        "\n",
        "def preprocess(X, y, preprocessor=None, test_size=0.2, random_state=None):\n",
        "    X_train, X_val, y_train, y_val = train_test_split(X, y, test_size=test_size,\n",
        "                                                      random_state=random_state)\n",
        "    if preprocessor is not None:\n",
        "        X_train = preprocessor.fit_transform(X_train)\n",
        "        X_val = preprocessor.transform(X_val)\n",
        "    return X_train, X_val, y_train, y_val\n",
        "\n",
        "def train_and_validate(X_train, X_val, y_train, y_val, model):\n",
        "    model.fit(X_train, y_train)\n",
        "    y_pred = model.predict(X_val)\n",
        "    print(classification_report(y_val, y_pred))\n",
        "    sns.heatmap(confusion_matrix(y_val, y_pred), cmap=plt.cm.Blues, annot=True)"
      ],
      "execution_count": 349,
      "outputs": []
    },
    {
      "cell_type": "code",
      "metadata": {
        "id": "U0rzyQqjPbfA"
      },
      "source": [
        "X_train, X_val, y_train, y_val = preprocess(X, y, random_state=0)"
      ],
      "execution_count": 350,
      "outputs": []
    },
    {
      "cell_type": "code",
      "metadata": {
        "colab": {
          "base_uri": "https://localhost:8080/",
          "height": 510
        },
        "id": "ErNTvFxbPrd9",
        "outputId": "39358d47-2744-4969-8271-4c3899e2e3ec"
      },
      "source": [
        "scratch_clf = ScratchDecesionTreeClassifierDepth1(verbose=True)\n",
        "train_and_validate(X_train, X_val, y_train, y_val, scratch_clf)"
      ],
      "execution_count": 351,
      "outputs": [
        {
          "output_type": "stream",
          "text": [
            "Column 0: InfoGain(0.03333333333333338) - Threshold(-3.1108)\n",
            "Column 1: InfoGain(0.0925925925925925) - Threshold(8.4636)\n",
            "              precision    recall  f1-score   support\n",
            "\n",
            "           0       0.50      1.00      0.67         4\n",
            "           1       0.00      0.00      0.00         4\n",
            "\n",
            "    accuracy                           0.50         8\n",
            "   macro avg       0.25      0.50      0.33         8\n",
            "weighted avg       0.25      0.50      0.33         8\n",
            "\n"
          ],
          "name": "stdout"
        },
        {
          "output_type": "stream",
          "text": [
            "/usr/local/lib/python3.7/dist-packages/sklearn/metrics/_classification.py:1272: UndefinedMetricWarning: Precision and F-score are ill-defined and being set to 0.0 in labels with no predicted samples. Use `zero_division` parameter to control this behavior.\n",
            "  _warn_prf(average, modifier, msg_start, len(result))\n"
          ],
          "name": "stderr"
        },
        {
          "output_type": "display_data",
          "data": {
            "image/png": "[encoded data removed]",
            "text/plain": [
              "<Figure size 432x288 with 2 Axes>"
            ]
          },
          "metadata": {
            "tags": [],
            "needs_background": "light"
          }
        }
      ]
    },
    {
      "cell_type": "code",
      "metadata": {
        "colab": {
          "base_uri": "https://localhost:8080/",
          "height": 476
        },
        "id": "OO5ptYN9P6FP",
        "outputId": "e5429ed4-9db1-4fde-e2b0-0be9cf8f7b18"
      },
      "source": [
        "sklearn_clf = DecisionTreeClassifier(max_depth=1, random_state=0)\n",
        "train_and_validate(X_train, X_val, y_train, y_val, sklearn_clf)"
      ],
      "execution_count": 352,
      "outputs": [
        {
          "output_type": "stream",
          "text": [
            "/usr/local/lib/python3.7/dist-packages/sklearn/metrics/_classification.py:1272: UndefinedMetricWarning: Precision and F-score are ill-defined and being set to 0.0 in labels with no predicted samples. Use `zero_division` parameter to control this behavior.\n",
            "  _warn_prf(average, modifier, msg_start, len(result))\n"
          ],
          "name": "stderr"
        },
        {
          "output_type": "stream",
          "text": [
            "              precision    recall  f1-score   support\n",
            "\n",
            "           0       0.50      1.00      0.67         4\n",
            "           1       0.00      0.00      0.00         4\n",
            "\n",
            "    accuracy                           0.50         8\n",
            "   macro avg       0.25      0.50      0.33         8\n",
            "weighted avg       0.25      0.50      0.33         8\n",
            "\n"
          ],
          "name": "stdout"
        },
        {
          "output_type": "display_data",
          "data": {
            "image/png": "[encoded data removed]",
            "text/plain": [
              "<Figure size 432x288 with 2 Axes>"
            ]
          },
          "metadata": {
            "tags": [],
            "needs_background": "light"
          }
        }
      ]
    },
    {
      "cell_type": "markdown",
      "metadata": {
        "id": "WEiSBRINRFUB"
      },
      "source": [
        "## [Problem 6] Visualization of decision area"
      ]
    },
    {
      "cell_type": "code",
      "metadata": {
        "id": "Wv42WU1eQLFE"
      },
      "source": [
        "from matplotlib.colors import ListedColormap\n",
        "from matplotlib.patches import Patch\n",
        "\n",
        "def decision_region(X, y, model, step=0.01,\n",
        "                    title=\"Decision region\",\n",
        "                    xlabel=\"xlabel\",\n",
        "                    ylabel=\"ylabel\",\n",
        "                    targets=[0, 1],\n",
        "                    figsize=(12, 12)):\n",
        "    # Setting\n",
        "    scatter_colors = [\"red\", \"blue\"]\n",
        "    contourf_colors = [\"pink\", \"skyblue\"]\n",
        "    n_class = len(targets)\n",
        "\n",
        "    mesh_f0, mesh_f1 = np.meshgrid(np.arange(np.min(X[:,0]) - 0.5, np.max(X[:,0]) + 0.5, step),\n",
        "                                   np.arange(np.min(X[:,1]) - 0.5, np.max(X[:,1]) + 0.5, step))\n",
        "    mesh = np.c_[np.ravel(mesh_f0), np.ravel(mesh_f1)]\n",
        "    y_pred = model.predict(mesh).reshape(mesh_f0.shape)\n",
        "    \n",
        "    # Plot\n",
        "    plt.figure(figsize=figsize)\n",
        "    plt.title(title)\n",
        "    plt.xlabel(xlabel)\n",
        "    plt.ylabel(ylabel)\n",
        "    plt.contourf(mesh_f0, mesh_f1, y_pred, n_class - 1, cmap=ListedColormap(contourf_colors))\n",
        "    plt.contour(mesh_f0, mesh_f1, y_pred, n_class - 1, colors='y', alpha=0.5)\n",
        "\n",
        "    for i, target in enumerate(set(y)):\n",
        "        plt.scatter(X[y == target][:, 0], X[y == target][:, 1],\n",
        "                    s=80, color=scatter_colors[i], label=targets[i], marker='o')\n",
        "    patches = [Patch(color=scatter_colors[i], label=targets[i]) for i in range(n_class)]\n",
        "    plt.legend(handles=patches)\n",
        "    plt.legend()\n",
        "    plt.show()"
      ],
      "execution_count": 353,
      "outputs": []
    },
    {
      "cell_type": "code",
      "metadata": {
        "colab": {
          "base_uri": "https://localhost:8080/",
          "height": 730
        },
        "id": "QSHzLbtWRU_u",
        "outputId": "84c13015-47aa-43eb-877a-5b45da796add"
      },
      "source": [
        "decision_region(X, y, scratch_clf, title=\"Decision Region - Scratch\")"
      ],
      "execution_count": 354,
      "outputs": [
        {
          "output_type": "display_data",
          "data": {
            "image/png": "[encoded data removed]",
            "text/plain": [
              "<Figure size 864x864 with 1 Axes>"
            ]
          },
          "metadata": {
            "tags": [],
            "needs_background": "light"
          }
        }
      ]
    },
    {
      "cell_type": "code",
      "metadata": {
        "colab": {
          "base_uri": "https://localhost:8080/",
          "height": 730
        },
        "id": "ISZy1YsERY4_",
        "outputId": "f776fc73-f32f-48b9-a347-9cbf680e1deb"
      },
      "source": [
        "decision_region(X, y, sklearn_clf, title=\"Decision Region - Sklearn\")"
      ],
      "execution_count": 355,
      "outputs": [
        {
          "output_type": "display_data",
          "data": {
            "image/png": "[encoded data removed]",
            "text/plain": [
              "<Figure size 864x864 with 1 Axes>"
            ]
          },
          "metadata": {
            "tags": [],
            "needs_background": "light"
          }
        }
      ]
    },
    {
      "cell_type": "markdown",
      "metadata": {
        "id": "oG-Fe-nORpwW"
      },
      "source": [
        "## [Problem 7] (Advance assignment) Creation of a decision tree classifier class with a depth of 2"
      ]
    },
    {
      "cell_type": "code",
      "metadata": {
        "id": "073kkgHbRpI_"
      },
      "source": [
        "class Node():\n",
        "    \"\"\"\n",
        "    Depth 1 decision tree classifier scratch implementation\n",
        "    Parameters\n",
        "    ----------\n",
        "    verbose : bool\n",
        "      True to output the learning process\n",
        "    \"\"\"\n",
        "    def __init__(self, max_depth=-1, verbose=False):\n",
        "        # Record hyperparameters as attributes\n",
        "        self.max_depth = max_depth\n",
        "        self.feature_index = None\n",
        "        self.l_node = None\n",
        "        self.r_node = None\n",
        "        self.verbose = verbose\n",
        "    \n",
        "    def _gini_index(self, c_samples, n_samples):\n",
        "        \"\"\"\n",
        "        @Params:\n",
        "            c_samples: list of number of samples belonging to a class\n",
        "            n_samples: total number of samples\n",
        "        @Return:\n",
        "            Gini impurity index\n",
        "        \"\"\"\n",
        "        return 1 - sum((c / n_samples) ** 2 for c in c_samples)\n",
        "    \n",
        "    def _information_gain(self, l_samples, r_samples):\n",
        "        \"\"\"\n",
        "        @Params:\n",
        "            l_samples: left node distribution\n",
        "            r_samples: right node distribution\n",
        "        @Return:\n",
        "            Information gain index\n",
        "        \"\"\"\n",
        "        n_l_samples = sum(l_samples)\n",
        "        n_r_samples = sum(r_samples)\n",
        "        n_samples = n_l_samples + n_r_samples\n",
        "\n",
        "        I_left = gini_index(l_samples, n_l_samples)\n",
        "        I_right = gini_index(r_samples, n_r_samples)\n",
        "        I_parent = gini_index(l_samples + r_samples, n_samples)\n",
        "        \n",
        "        IG = I_parent - n_l_samples/n_samples*I_left - n_r_samples/n_samples*I_right\n",
        "        return IG\n",
        "    \n",
        "    def _choose_threshold(self, X, y):\n",
        "        \"\"\"\n",
        "        @Params:\n",
        "            X: a column feature\n",
        "            y: labels\n",
        "        @Return:\n",
        "            Best information gain and corresponding threshold\n",
        "        \"\"\"\n",
        "        info_gains = []\n",
        "        thresholds = np.unique(X)\n",
        "        thresholds = thresholds[thresholds > thresholds.min()]\n",
        "\n",
        "        for threshold in thresholds:\n",
        "            l_node = y[X < threshold]\n",
        "            r_node = y[X >= threshold]\n",
        "\n",
        "            l_samples = np.array([(l_node == self.ylabel[0]).sum(),\n",
        "                                  (l_node == self.ylabel[1]).sum()])\n",
        "            r_samples = np.array([(r_node == self.ylabel[0]).sum(),\n",
        "                                  (r_node == self.ylabel[1]).sum()])\n",
        "            info_gains.append(self._information_gain(l_samples, r_samples))\n",
        "\n",
        "        return max(info_gains), thresholds[info_gains.index(max(info_gains))]\n",
        "\n",
        "    def fit(self, X, y, depth=0):\n",
        "        \"\"\"\n",
        "        Learn the decision tree classifier\n",
        "        Parameters\n",
        "        ----------\n",
        "        X : The following forms of ndarray, shape (n_samples, n_features)\n",
        "            Features of training data\n",
        "        y : The following form of ndarray, shape (n_samples,)\n",
        "            Correct answer value of training data\n",
        "        \"\"\"\n",
        "        self.ylabel = np.unique(y)\n",
        "\n",
        "        # End if belong to 1 class, no more split\n",
        "        if len(self.ylabel) == 1:\n",
        "            self.label = self.ylabel[0]\n",
        "            return None\n",
        "\n",
        "        if self.max_depth == 0:\n",
        "            self.label = statistics.mode(y)\n",
        "            return None\n",
        "\n",
        "        info_gains = []\n",
        "        thresholds = []\n",
        "        for i in range(X.shape[1]):\n",
        "            info_gain, threshold = self._choose_threshold(X[:,i], y)\n",
        "            info_gains.append(info_gain)\n",
        "            thresholds.append(threshold)\n",
        "\n",
        "            # Output the learning process when verbose is set to True\n",
        "            if self.verbose:\n",
        "                print(\"Depth\", depth,\n",
        "                      \"Feature\", i,\n",
        "                      \"Threshold\", threshold,\n",
        "                      \"Info_Gain\", info_gain)\n",
        "        \n",
        "        self.info_gain = max(info_gains)\n",
        "        self.feature_index = info_gains.index(self.info_gain)\n",
        "        self.threshold = thresholds[self.feature_index]\n",
        "\n",
        "        # Split left node, recursive\n",
        "        X_left = X[X[:, self.feature_index] < self.threshold]\n",
        "        y_left = y[X[:, self.feature_index] < self.threshold]\n",
        "        self.l_node = Node(self.max_depth - 1, self.verbose)\n",
        "        self.l_node.fit(X_left, y_left, depth + 1)\n",
        "\n",
        "        # Split right node, recursive\n",
        "        X_right = X[X[:, self.feature_index] >= self.threshold]\n",
        "        y_right = y[X[:, self.feature_index] >= self.threshold]\n",
        "        self.r_node = Node(self.max_depth - 1, self.verbose)\n",
        "        self.r_node.fit(X_right, y_right, depth + 1)\n",
        "\n",
        "    def predict(self, X):\n",
        "        \"\"\"\n",
        "        Estimate the label using a decision tree classifier\n",
        "        \"\"\"\n",
        "        if self.feature_index is None or self.max_depth == 0:\n",
        "            return self.label\n",
        "        \n",
        "        if X[self.feature_index] < self.threshold:\n",
        "            return self.l_node.predict(X)\n",
        "        return self.r_node.predict(X)\n",
        "\n",
        "class ScratchDecisionTreeClassifier():\n",
        "    def __init__(self, max_depth=-1, verbose=False):\n",
        "        self.max_depth = max_depth\n",
        "        self.verbose = verbose\n",
        "        self.root = Node(max_depth=max_depth, verbose=verbose)\n",
        "    \n",
        "    def fit(self, X, y):\n",
        "        self.root.fit(X, y)\n",
        "    \n",
        "    def predict(self, X):\n",
        "        y_pred = np.array([self.root.predict(x) for x in X])\n",
        "        return y_pred"
      ],
      "execution_count": 356,
      "outputs": []
    },
    {
      "cell_type": "code",
      "metadata": {
        "colab": {
          "base_uri": "https://localhost:8080/",
          "height": 1000
        },
        "id": "yCZcVNAJj8NL",
        "outputId": "2991b357-b9c4-462a-ffd5-9a7f7271855e"
      },
      "source": [
        "scratch_clf = ScratchDecisionTreeClassifier(max_depth=2, verbose=True)\n",
        "train_and_validate(X_train, X_val, y_train, y_val, scratch_clf)\n",
        "decision_region(X, y, scratch_clf)"
      ],
      "execution_count": 357,
      "outputs": [
        {
          "output_type": "stream",
          "text": [
            "Depth 0 Feature 0 Threshold -3.0603 Info_Gain 0.03333333333333338\n",
            "Depth 0 Feature 1 Threshold 9.0162 Info_Gain 0.0925925925925925\n",
            "Depth 1 Feature 0 Threshold 0.057313 Info_Gain 0.04363753731945469\n",
            "Depth 1 Feature 1 Threshold -3.6461 Info_Gain 0.041495198902606334\n",
            "              precision    recall  f1-score   support\n",
            "\n",
            "           0       0.67      0.50      0.57         4\n",
            "           1       0.60      0.75      0.67         4\n",
            "\n",
            "    accuracy                           0.62         8\n",
            "   macro avg       0.63      0.62      0.62         8\n",
            "weighted avg       0.63      0.62      0.62         8\n",
            "\n"
          ],
          "name": "stdout"
        },
        {
          "output_type": "display_data",
          "data": {
            "image/png": "[encoded data removed]",
            "text/plain": [
              "<Figure size 432x288 with 2 Axes>"
            ]
          },
          "metadata": {
            "tags": [],
            "needs_background": "light"
          }
        },
        {
          "output_type": "display_data",
          "data": {
            "image/png": "[encoded data removed]",
            "text/plain": [
              "<Figure size 864x864 with 1 Axes>"
            ]
          },
          "metadata": {
            "tags": [],
            "needs_background": "light"
          }
        }
      ]
    },
    {
      "cell_type": "code",
      "metadata": {
        "colab": {
          "base_uri": "https://localhost:8080/",
          "height": 1000
        },
        "id": "L4z_G-xPkHYP",
        "outputId": "09e4c6ee-2302-4171-b535-ba941c61d881"
      },
      "source": [
        "sklearn_clf = DecisionTreeClassifier(max_depth=2, random_state=0)\n",
        "train_and_validate(X_train, X_val, y_train, y_val, sklearn_clf)\n",
        "decision_region(X, y, sklearn_clf)"
      ],
      "execution_count": 358,
      "outputs": [
        {
          "output_type": "stream",
          "text": [
            "              precision    recall  f1-score   support\n",
            "\n",
            "           0       0.67      0.50      0.57         4\n",
            "           1       0.60      0.75      0.67         4\n",
            "\n",
            "    accuracy                           0.62         8\n",
            "   macro avg       0.63      0.62      0.62         8\n",
            "weighted avg       0.63      0.62      0.62         8\n",
            "\n"
          ],
          "name": "stdout"
        },
        {
          "output_type": "display_data",
          "data": {
            "image/png": "[encoded data removed]",
            "text/plain": [
              "<Figure size 432x288 with 2 Axes>"
            ]
          },
          "metadata": {
            "tags": [],
            "needs_background": "light"
          }
        },
        {
          "output_type": "display_data",
          "data": {
            "image/png": "[encoded data removed]",
            "text/plain": [
              "<Figure size 864x864 with 1 Axes>"
            ]
          },
          "metadata": {
            "tags": [],
            "needs_background": "light"
          }
        }
      ]
    },
    {
      "cell_type": "markdown",
      "metadata": {
        "id": "O6BLatULxVA8"
      },
      "source": [
        "## [Problem 8] (Advance assignment) Creation of decision tree classifier class with unlimited depth"
      ]
    },
    {
      "cell_type": "code",
      "metadata": {
        "colab": {
          "base_uri": "https://localhost:8080/",
          "height": 1000
        },
        "id": "Fdngr03rxaLI",
        "outputId": "9943a053-d26d-46c1-c2af-6a44ad928e4f"
      },
      "source": [
        "scratch_clf = ScratchDecisionTreeClassifier()\n",
        "train_and_validate(X_train, X_val, y_train, y_val, scratch_clf)\n",
        "decision_region(X, y, scratch_clf)"
      ],
      "execution_count": 359,
      "outputs": [
        {
          "output_type": "stream",
          "text": [
            "              precision    recall  f1-score   support\n",
            "\n",
            "           0       0.75      0.75      0.75         4\n",
            "           1       0.75      0.75      0.75         4\n",
            "\n",
            "    accuracy                           0.75         8\n",
            "   macro avg       0.75      0.75      0.75         8\n",
            "weighted avg       0.75      0.75      0.75         8\n",
            "\n"
          ],
          "name": "stdout"
        },
        {
          "output_type": "display_data",
          "data": {
            "image/png": "[encoded data removed]",
            "text/plain": [
              "<Figure size 432x288 with 2 Axes>"
            ]
          },
          "metadata": {
            "tags": [],
            "needs_background": "light"
          }
        },
        {
          "output_type": "display_data",
          "data": {
            "image/png": "[encoded data removed]",
            "text/plain": [
              "<Figure size 864x864 with 1 Axes>"
            ]
          },
          "metadata": {
            "tags": [],
            "needs_background": "light"
          }
        }
      ]
    },
    {
      "cell_type": "code",
      "metadata": {
        "colab": {
          "base_uri": "https://localhost:8080/",
          "height": 1000
        },
        "id": "z5qYsXU-xinp",
        "outputId": "ee6987ea-32cb-4063-ab4a-4935d4b05047"
      },
      "source": [
        "sklearn_clf = DecisionTreeClassifier(random_state=0)\n",
        "train_and_validate(X_train, X_val, y_train, y_val, sklearn_clf)\n",
        "decision_region(X, y, sklearn_clf)"
      ],
      "execution_count": 360,
      "outputs": [
        {
          "output_type": "stream",
          "text": [
            "              precision    recall  f1-score   support\n",
            "\n",
            "           0       0.75      0.75      0.75         4\n",
            "           1       0.75      0.75      0.75         4\n",
            "\n",
            "    accuracy                           0.75         8\n",
            "   macro avg       0.75      0.75      0.75         8\n",
            "weighted avg       0.75      0.75      0.75         8\n",
            "\n"
          ],
          "name": "stdout"
        },
        {
          "output_type": "display_data",
          "data": {
            "image/png": "[encoded data removed]",
            "text/plain": [
              "<Figure size 432x288 with 2 Axes>"
            ]
          },
          "metadata": {
            "tags": [],
            "needs_background": "light"
          }
        },
        {
          "output_type": "display_data",
          "data": {
            "image/png": "[encoded data removed]",
            "text/plain": [
              "<Figure size 864x864 with 1 Axes>"
            ]
          },
          "metadata": {
            "tags": [],
            "needs_background": "light"
          }
        }
      ]
    }
  ]
}