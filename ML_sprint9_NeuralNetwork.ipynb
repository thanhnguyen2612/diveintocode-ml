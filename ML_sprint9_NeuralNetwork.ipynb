{
  "nbformat": 4,
  "nbformat_minor": 0,
  "metadata": {
    "colab": {
      "name": "ML_sprint9_NeuralNetwork.ipynb",
      "provenance": [],
      "collapsed_sections": [],
      "authorship_tag": "ABX9TyOWpmYfwQs9guREn+vUNzcv",
      "include_colab_link": true
    },
    "kernelspec": {
      "name": "python3",
      "display_name": "Python 3"
    },
    "language_info": {
      "name": "python"
    }
  },
  "cells": [
    {
      "cell_type": "markdown",
      "metadata": {
        "id": "view-in-github",
        "colab_type": "text"
      },
      "source": [
        "<a href=\"https://colab.research.google.com/github/thanhnguyen2612/diveintocode-ml/blob/master/ML_sprint9_NeuralNetwork.ipynb\" target=\"_parent\"><img src=\"https://colab.research.google.com/assets/colab-badge.svg\" alt=\"Open In Colab\"/></a>"
      ]
    },
    {
      "cell_type": "markdown",
      "metadata": {
        "id": "boyQuOI6jBf9"
      },
      "source": [
        "# Neural Network"
      ]
    },
    {
      "cell_type": "code",
      "metadata": {
        "id": "0J_GtQkPnTq_"
      },
      "source": [
        "import numpy as np\n",
        "import pandas as pd\n",
        "import matplotlib.pyplot as plt\n",
        "import seaborn as sns\n",
        "%matplotlib inline"
      ],
      "execution_count": null,
      "outputs": []
    },
    {
      "cell_type": "markdown",
      "metadata": {
        "id": "K76PUspdsyW1"
      },
      "source": [
        "## Prepare Dataset"
      ]
    },
    {
      "cell_type": "code",
      "metadata": {
        "id": "KP8yhwLqi4JT"
      },
      "source": [
        "from keras.datasets import mnist\n",
        "(X_train, y_train), (X_test, y_test) = mnist.load_data()"
      ],
      "execution_count": null,
      "outputs": []
    },
    {
      "cell_type": "code",
      "metadata": {
        "colab": {
          "base_uri": "https://localhost:8080/"
        },
        "id": "aEy-bewfn4h2",
        "outputId": "a21d19ad-1b38-4f97-aa6c-b74d585c71c6"
      },
      "source": [
        "print(X_train.shape) # (60000, 28, 28)\n",
        "print(X_test.shape) # (10000, 28, 28)\n",
        "print(X_train[0].dtype) # uint8\n",
        "print(X_train[0])"
      ],
      "execution_count": null,
      "outputs": [
        {
          "output_type": "stream",
          "text": [
            "(60000, 28, 28)\n",
            "(10000, 28, 28)\n",
            "uint8\n",
            "[[  0   0   0   0   0   0   0   0   0   0   0   0   0   0   0   0   0   0\n",
            "    0   0   0   0   0   0   0   0   0   0]\n",
            " [  0   0   0   0   0   0   0   0   0   0   0   0   0   0   0   0   0   0\n",
            "    0   0   0   0   0   0   0   0   0   0]\n",
            " [  0   0   0   0   0   0   0   0   0   0   0   0   0   0   0   0   0   0\n",
            "    0   0   0   0   0   0   0   0   0   0]\n",
            " [  0   0   0   0   0   0   0   0   0   0   0   0   0   0   0   0   0   0\n",
            "    0   0   0   0   0   0   0   0   0   0]\n",
            " [  0   0   0   0   0   0   0   0   0   0   0   0   0   0   0   0   0   0\n",
            "    0   0   0   0   0   0   0   0   0   0]\n",
            " [  0   0   0   0   0   0   0   0   0   0   0   0   3  18  18  18 126 136\n",
            "  175  26 166 255 247 127   0   0   0   0]\n",
            " [  0   0   0   0   0   0   0   0  30  36  94 154 170 253 253 253 253 253\n",
            "  225 172 253 242 195  64   0   0   0   0]\n",
            " [  0   0   0   0   0   0   0  49 238 253 253 253 253 253 253 253 253 251\n",
            "   93  82  82  56  39   0   0   0   0   0]\n",
            " [  0   0   0   0   0   0   0  18 219 253 253 253 253 253 198 182 247 241\n",
            "    0   0   0   0   0   0   0   0   0   0]\n",
            " [  0   0   0   0   0   0   0   0  80 156 107 253 253 205  11   0  43 154\n",
            "    0   0   0   0   0   0   0   0   0   0]\n",
            " [  0   0   0   0   0   0   0   0   0  14   1 154 253  90   0   0   0   0\n",
            "    0   0   0   0   0   0   0   0   0   0]\n",
            " [  0   0   0   0   0   0   0   0   0   0   0 139 253 190   2   0   0   0\n",
            "    0   0   0   0   0   0   0   0   0   0]\n",
            " [  0   0   0   0   0   0   0   0   0   0   0  11 190 253  70   0   0   0\n",
            "    0   0   0   0   0   0   0   0   0   0]\n",
            " [  0   0   0   0   0   0   0   0   0   0   0   0  35 241 225 160 108   1\n",
            "    0   0   0   0   0   0   0   0   0   0]\n",
            " [  0   0   0   0   0   0   0   0   0   0   0   0   0  81 240 253 253 119\n",
            "   25   0   0   0   0   0   0   0   0   0]\n",
            " [  0   0   0   0   0   0   0   0   0   0   0   0   0   0  45 186 253 253\n",
            "  150  27   0   0   0   0   0   0   0   0]\n",
            " [  0   0   0   0   0   0   0   0   0   0   0   0   0   0   0  16  93 252\n",
            "  253 187   0   0   0   0   0   0   0   0]\n",
            " [  0   0   0   0   0   0   0   0   0   0   0   0   0   0   0   0   0 249\n",
            "  253 249  64   0   0   0   0   0   0   0]\n",
            " [  0   0   0   0   0   0   0   0   0   0   0   0   0   0  46 130 183 253\n",
            "  253 207   2   0   0   0   0   0   0   0]\n",
            " [  0   0   0   0   0   0   0   0   0   0   0   0  39 148 229 253 253 253\n",
            "  250 182   0   0   0   0   0   0   0   0]\n",
            " [  0   0   0   0   0   0   0   0   0   0  24 114 221 253 253 253 253 201\n",
            "   78   0   0   0   0   0   0   0   0   0]\n",
            " [  0   0   0   0   0   0   0   0  23  66 213 253 253 253 253 198  81   2\n",
            "    0   0   0   0   0   0   0   0   0   0]\n",
            " [  0   0   0   0   0   0  18 171 219 253 253 253 253 195  80   9   0   0\n",
            "    0   0   0   0   0   0   0   0   0   0]\n",
            " [  0   0   0   0  55 172 226 253 253 253 253 244 133  11   0   0   0   0\n",
            "    0   0   0   0   0   0   0   0   0   0]\n",
            " [  0   0   0   0 136 253 253 253 212 135 132  16   0   0   0   0   0   0\n",
            "    0   0   0   0   0   0   0   0   0   0]\n",
            " [  0   0   0   0   0   0   0   0   0   0   0   0   0   0   0   0   0   0\n",
            "    0   0   0   0   0   0   0   0   0   0]\n",
            " [  0   0   0   0   0   0   0   0   0   0   0   0   0   0   0   0   0   0\n",
            "    0   0   0   0   0   0   0   0   0   0]\n",
            " [  0   0   0   0   0   0   0   0   0   0   0   0   0   0   0   0   0   0\n",
            "    0   0   0   0   0   0   0   0   0   0]]\n"
          ],
          "name": "stdout"
        }
      ]
    },
    {
      "cell_type": "code",
      "metadata": {
        "id": "HDxiv3SJrA_y"
      },
      "source": [
        "X_train = X_train.reshape(-1, 28 * 28)\n",
        "X_test = X_test.reshape(-1, 28 * 28)"
      ],
      "execution_count": null,
      "outputs": []
    },
    {
      "cell_type": "code",
      "metadata": {
        "colab": {
          "base_uri": "https://localhost:8080/",
          "height": 281
        },
        "id": "C6oPkELMueg0",
        "outputId": "97a52dfc-9d3a-48d3-8b09-b88dd9a2260d"
      },
      "source": [
        "index = 0\n",
        "image = X_train[index].reshape(28, 28)\n",
        "plt.imshow(image, 'gray', vmin=0, vmax=255)\n",
        "plt.title(f\"Label {y_train[index]}\")\n",
        "plt.show()"
      ],
      "execution_count": null,
      "outputs": [
        {
          "output_type": "display_data",
          "data": {
            "image/png": "[encoded data removed]",
            "text/plain": [
              "<Figure size 432x288 with 1 Axes>"
            ]
          },
          "metadata": {
            "tags": [],
            "needs_background": "light"
          }
        }
      ]
    },
    {
      "cell_type": "code",
      "metadata": {
        "colab": {
          "base_uri": "https://localhost:8080/",
          "height": 281
        },
        "id": "VsQZGJg9wQUF",
        "outputId": "a8bcbd1d-6613-4c08-f7bc-1e11ec77da94"
      },
      "source": [
        "index = 0\n",
        "image = X_train[index].reshape(28,28).astype(np.float)\n",
        "image -= 105.35\n",
        "plt.imshow(image, 'gray', vmin=0, vmax=255)\n",
        "plt.title(f\"Label {y_train[index]}\")\n",
        "plt.show()"
      ],
      "execution_count": null,
      "outputs": [
        {
          "output_type": "display_data",
          "data": {
            "image/png": "[encoded data removed]",
            "text/plain": [
              "<Figure size 432x288 with 1 Axes>"
            ]
          },
          "metadata": {
            "tags": [],
            "needs_background": "light"
          }
        }
      ]
    },
    {
      "cell_type": "code",
      "metadata": {
        "colab": {
          "base_uri": "https://localhost:8080/"
        },
        "id": "QL63XKIqzTyu",
        "outputId": "33c1762f-7498-46db-9eb2-1915300fe3a2"
      },
      "source": [
        "X_train = X_train.astype(np.float)\n",
        "X_test = X_test.astype(np.float)\n",
        "X_train /= 255\n",
        "X_test /= 255\n",
        "print(X_train.min(), X_train.max())"
      ],
      "execution_count": null,
      "outputs": [
        {
          "output_type": "stream",
          "text": [
            "0.0 1.0\n"
          ],
          "name": "stdout"
        }
      ]
    },
    {
      "cell_type": "code",
      "metadata": {
        "colab": {
          "base_uri": "https://localhost:8080/"
        },
        "id": "BLS-snE830kC",
        "outputId": "3fe75a8f-ded4-44a2-a3ff-b117aee01f3d"
      },
      "source": [
        "from sklearn.model_selection import train_test_split\n",
        "X_train, X_val, y_train, y_val = train_test_split(X_train, y_train, test_size=0.2, random_state=0)\n",
        "\n",
        "X_train.shape, X_val.shape, y_train.shape, y_val.shape"
      ],
      "execution_count": null,
      "outputs": [
        {
          "output_type": "execute_result",
          "data": {
            "text/plain": [
              "((48000, 784), (12000, 784), (48000,), (12000,))"
            ]
          },
          "metadata": {
            "tags": []
          },
          "execution_count": 306
        }
      ]
    },
    {
      "cell_type": "code",
      "metadata": {
        "colab": {
          "base_uri": "https://localhost:8080/"
        },
        "id": "NCBTtmCzaCR3",
        "outputId": "c481a515-f8bd-49ff-f518-91e55a849b62"
      },
      "source": [
        "from sklearn.preprocessing import OneHotEncoder\n",
        "enc = OneHotEncoder(handle_unknown='ignore', sparse=False)\n",
        "y_train_one_hot = enc.fit_transform(y_train.reshape(-1, 1))\n",
        "y_val_one_hot = enc.transform(y_val.reshape(-1, 1))\n",
        "\n",
        "y_train.shape, y_train_one_hot.shape, y_val.shape, y_val_one_hot.shape"
      ],
      "execution_count": null,
      "outputs": [
        {
          "output_type": "execute_result",
          "data": {
            "text/plain": [
              "((48000,), (48000, 10), (12000,), (12000, 10))"
            ]
          },
          "metadata": {
            "tags": []
          },
          "execution_count": 307
        }
      ]
    },
    {
      "cell_type": "markdown",
      "metadata": {
        "id": "2DShHadi88dA"
      },
      "source": [
        "## Mini Batch Processing"
      ]
    },
    {
      "cell_type": "code",
      "metadata": {
        "id": "4a86t18t876V"
      },
      "source": [
        "class GetMiniBatch():\n",
        "    \"\"\"\n",
        "    Iterator to get a mini-batch\n",
        "    @Parameters\n",
        "        X : The following forms of ndarray, shape (n_samples, n_features)\n",
        "            Training data\n",
        "        y : The following form of ndarray, shape (n_samples, 1)\n",
        "            Correct answer value\n",
        "        batch_size : int\n",
        "            Batch size\n",
        "        seed : int\n",
        "            NumPy random number seed\n",
        "    \"\"\"\n",
        "    def __init__(self, X, y, batch_size=20, seed=0):\n",
        "        self.batch_size = batch_size\n",
        "        np.random.seed(seed)\n",
        "        shuffle_index = np.random.permutation(np.arange(X.shape[0]))\n",
        "        self._X = X[shuffle_index]\n",
        "        self._y = y[shuffle_index]\n",
        "        self._stop = np.ceil(X.shape[0]/self.batch_size).astype(np.int)\n",
        "    def __len__(self):\n",
        "        return self._stop\n",
        "    def __getitem__(self,item):\n",
        "        p0 = item*self.batch_size\n",
        "        p1 = item*self.batch_size + self.batch_size\n",
        "        return self._X[p0:p1], self._y[p0:p1]        \n",
        "    def __iter__(self):\n",
        "        self._counter = 0\n",
        "        return self\n",
        "    def __next__(self):\n",
        "        if self._counter >= self._stop:\n",
        "            raise StopIteration()\n",
        "        p0 = self._counter*self.batch_size\n",
        "        p1 = self._counter*self.batch_size + self.batch_size\n",
        "        self._counter += 1\n",
        "        return self._X[p0:p1], self._y[p0:p1]"
      ],
      "execution_count": null,
      "outputs": []
    },
    {
      "cell_type": "markdown",
      "metadata": {
        "id": "8xv8uBzS_D7w"
      },
      "source": [
        "# [Problem 1] Creating a code to determine the initial weight value"
      ]
    },
    {
      "cell_type": "code",
      "metadata": {
        "id": "PSQQqwbb_CBf"
      },
      "source": [
        "def init_weight(l0_dim=1, l1_dim=1, sigma=0.01, bias=True, seed=0):\n",
        "    \"\"\"\n",
        "    @Parameters:\n",
        "        l0_dim: number of nodes in current layer\n",
        "        l1_dim: number of nodes in the next layer\n",
        "        sigma: Standard deviation of Gaussian distribution\n",
        "    @Return:\n",
        "        Matrix of initial weight value following Gaussian distribution\n",
        "    \"\"\"\n",
        "    np.random.seed(seed)\n",
        "    s = 1 if bias else 0\n",
        "    return sigma * np.random.randn(l0_dim + s, l1_dim)"
      ],
      "execution_count": null,
      "outputs": []
    },
    {
      "cell_type": "code",
      "metadata": {
        "colab": {
          "base_uri": "https://localhost:8080/"
        },
        "id": "NnB9MDweBdQl",
        "outputId": "529bfc80-bf75-476e-8b73-87689d3aa641"
      },
      "source": [
        "print(\"[Layer 1] Input dimension:\", X_train.shape)\n",
        "w = init_weight(X_train.shape[1], 400, bias=False)\n",
        "print(\"Init weight dimension:\", w.shape)\n",
        "input_next_layer = X_train @ w\n",
        "print(\"[Layer 2] dimension:\", input_next_layer.shape)"
      ],
      "execution_count": null,
      "outputs": [
        {
          "output_type": "stream",
          "text": [
            "[Layer 1] Input dimension: (48000, 784)\n",
            "Init weight dimension: (784, 400)\n",
            "[Layer 2] dimension: (48000, 400)\n"
          ],
          "name": "stdout"
        }
      ]
    },
    {
      "cell_type": "markdown",
      "metadata": {
        "id": "3fmjq0ksG-5R"
      },
      "source": [
        "# [Problem 2] Implementation of forward propagation"
      ]
    },
    {
      "cell_type": "code",
      "metadata": {
        "id": "D3Dqt7leIWsG"
      },
      "source": [
        "def sigmoid(X):\n",
        "    return 1 / (1 + np.exp(X))\n",
        "def tanh(X):\n",
        "    return (np.exp(X) - np.exp(-X)) / (np.exp(X) + np.exp(-X))\n",
        "def softmax(X):\n",
        "    return np.exp(X) / np.sum(np.exp(X), axis=1).reshape(-1, 1)"
      ],
      "execution_count": null,
      "outputs": []
    },
    {
      "cell_type": "code",
      "metadata": {
        "colab": {
          "base_uri": "https://localhost:8080/"
        },
        "id": "f0Hd2q4_I1j9",
        "outputId": "4f6ea6a7-f167-4134-b0bd-f25771b02d92"
      },
      "source": [
        "a = np.arange(15).reshape(5, 3)\n",
        "a, sigmoid(a), tanh(a), softmax(a)"
      ],
      "execution_count": null,
      "outputs": [
        {
          "output_type": "execute_result",
          "data": {
            "text/plain": [
              "(array([[ 0,  1,  2],\n",
              "        [ 3,  4,  5],\n",
              "        [ 6,  7,  8],\n",
              "        [ 9, 10, 11],\n",
              "        [12, 13, 14]]),\n",
              " array([[5.00000000e-01, 2.68941421e-01, 1.19202922e-01],\n",
              "        [4.74258732e-02, 1.79862100e-02, 6.69285092e-03],\n",
              "        [2.47262316e-03, 9.11051194e-04, 3.35350130e-04],\n",
              "        [1.23394576e-04, 4.53978687e-05, 1.67014218e-05],\n",
              "        [6.14417460e-06, 2.26032430e-06, 8.31528028e-07]]),\n",
              " array([[0.        , 0.76159416, 0.96402758],\n",
              "        [0.99505475, 0.9993293 , 0.9999092 ],\n",
              "        [0.99998771, 0.99999834, 0.99999977],\n",
              "        [0.99999997, 1.        , 1.        ],\n",
              "        [1.        , 1.        , 1.        ]]),\n",
              " array([[0.09003057, 0.24472847, 0.66524096],\n",
              "        [0.09003057, 0.24472847, 0.66524096],\n",
              "        [0.09003057, 0.24472847, 0.66524096],\n",
              "        [0.09003057, 0.24472847, 0.66524096],\n",
              "        [0.09003057, 0.24472847, 0.66524096]]))"
            ]
          },
          "metadata": {
            "tags": []
          },
          "execution_count": 312
        }
      ]
    },
    {
      "cell_type": "code",
      "metadata": {
        "id": "YlEDR4cRCHLs"
      },
      "source": [
        "def feed_forward(X, W, activation=sigmoid, bias=True):\n",
        "    if bias: X = np.c_[np.ones(X.shape[0]), X]\n",
        "    A = X @ W\n",
        "    return A, activation(A)"
      ],
      "execution_count": null,
      "outputs": []
    },
    {
      "cell_type": "code",
      "metadata": {
        "colab": {
          "base_uri": "https://localhost:8080/"
        },
        "id": "R4Alq2FkJ5md",
        "outputId": "a7611fa2-8b96-431d-cf97-897c06569e70"
      },
      "source": [
        "batch_size = 20\n",
        "n_features = 784    # Number of input features\n",
        "n_nodes1 = 400      # Number of first layer nodes\n",
        "n_nodes2 = 200      # Number of second layer nodes\n",
        "n_output = 10       # Number of output classes (third layer)\n",
        "mini_batch = GetMiniBatch(X_train, y_train_one_hot, batch_size=batch_size)\n",
        "\n",
        "# Layer 1\n",
        "A0 = mini_batch[0][0]\n",
        "w1 = init_weight(n_features, n_nodes1, bias=False)\n",
        "w1_bias = init_weight(n_features, n_nodes1, bias=True)\n",
        "\n",
        "A1, Z1 = feed_forward(A0, w1, bias=False, activation=tanh)\n",
        "A1_bias, Z1_bias = feed_forward(A0, w1_bias, bias=True, activation=tanh)\n",
        "\n",
        "print(\"Input shape:\", A0.shape)\n",
        "print(\"Init weight shape:\", w1.shape)\n",
        "print(\"Init weight with bias shape:\", w1_bias.shape)\n",
        "print(\"Output shape:\", A1.shape)\n",
        "print(\"Output with bias shape:\", A1_bias.shape)"
      ],
      "execution_count": null,
      "outputs": [
        {
          "output_type": "stream",
          "text": [
            "Input shape: (20, 784)\n",
            "Init weight shape: (784, 400)\n",
            "Init weight with bias shape: (785, 400)\n",
            "Output shape: (20, 400)\n",
            "Output with bias shape: (20, 400)\n"
          ],
          "name": "stdout"
        }
      ]
    },
    {
      "cell_type": "code",
      "metadata": {
        "colab": {
          "base_uri": "https://localhost:8080/"
        },
        "id": "8lFyGKuSMI5v",
        "outputId": "cc890ba6-e120-422a-faab-0257f32c5c0b"
      },
      "source": [
        "# Layer 2\n",
        "w2 = init_weight(n_nodes1, n_nodes2, bias=False)\n",
        "w2_bias = init_weight(n_nodes1, n_nodes2, bias=True)\n",
        "\n",
        "A2, Z2 = feed_forward(Z1, w2, bias=False, activation=tanh)\n",
        "A2_bias, Z2_bias = feed_forward(Z1_bias, w2_bias, bias=True, activation=tanh)\n",
        "\n",
        "print(\"Input shape:\", Z1.shape)\n",
        "print(\"Input with bias shape:\", Z1_bias.shape)\n",
        "print(\"Init weight shape:\", w2.shape)\n",
        "print(\"Init weight with bias shape:\", w2_bias.shape)\n",
        "print(\"Output shape:\", A2.shape)\n",
        "print(\"Output with bias shape:\", A2_bias.shape)"
      ],
      "execution_count": null,
      "outputs": [
        {
          "output_type": "stream",
          "text": [
            "Input shape: (20, 400)\n",
            "Input with bias shape: (20, 400)\n",
            "Init weight shape: (400, 200)\n",
            "Init weight with bias shape: (401, 200)\n",
            "Output shape: (20, 200)\n",
            "Output with bias shape: (20, 200)\n"
          ],
          "name": "stdout"
        }
      ]
    },
    {
      "cell_type": "code",
      "metadata": {
        "colab": {
          "base_uri": "https://localhost:8080/"
        },
        "id": "W8-AydVENhmR",
        "outputId": "1ebbcd67-8d59-4694-cae8-42bd0dec29a9"
      },
      "source": [
        "# Layer 3 (Output using Softmax)\n",
        "w3 = init_weight(n_nodes2, n_output, bias=False)\n",
        "w3_bias = init_weight(n_nodes2, n_output, bias=True)\n",
        "\n",
        "A3, Z3 = feed_forward(Z2, w3, bias=False, activation=softmax)\n",
        "A3_bias, Z3_bias = feed_forward(Z2_bias, w3_bias, bias=True, activation=softmax)\n",
        "\n",
        "print(\"Input shape:\", Z2.shape)\n",
        "print(\"Input with bias shape:\", Z2_bias.shape)\n",
        "print(\"Init weight shape:\", w3.shape)\n",
        "print(\"Init weight with bias shape:\", w3_bias.shape)\n",
        "print(\"Output shape:\", A3.shape)\n",
        "print(\"Output with bias shape:\", A3_bias.shape)"
      ],
      "execution_count": null,
      "outputs": [
        {
          "output_type": "stream",
          "text": [
            "Input shape: (20, 200)\n",
            "Input with bias shape: (20, 200)\n",
            "Init weight shape: (200, 10)\n",
            "Init weight with bias shape: (201, 10)\n",
            "Output shape: (20, 10)\n",
            "Output with bias shape: (20, 10)\n"
          ],
          "name": "stdout"
        }
      ]
    },
    {
      "cell_type": "markdown",
      "metadata": {
        "id": "Nf9MRWewSr35"
      },
      "source": [
        "# [Problem 3] Implementation of cross entropy error"
      ]
    },
    {
      "cell_type": "code",
      "metadata": {
        "id": "Fik7HpPBQnNn"
      },
      "source": [
        "def cross_entropy_loss(y_true, y_proba, tol=1e-7):\n",
        "    \"\"\"\n",
        "    @Params:\n",
        "        y_true: correct labels\n",
        "        y_proba: probabilities of class label\n",
        "    @Return:\n",
        "        Cross entropy error\n",
        "    \"\"\"\n",
        "    error_per_sample = np.sum(y_true * np.log(y_proba + tol), axis=1)\n",
        "    L = -np.mean(error_per_sample)\n",
        "    return L"
      ],
      "execution_count": null,
      "outputs": []
    },
    {
      "cell_type": "code",
      "metadata": {
        "colab": {
          "base_uri": "https://localhost:8080/"
        },
        "id": "2JBU6oSOcS-L",
        "outputId": "ff605638-c633-4f01-a0ec-c60041b38c6e"
      },
      "source": [
        "print(\"L:\", cross_entropy_loss(mini_batch[0][1], Z3))\n",
        "print(\"L with bias:\", cross_entropy_loss(mini_batch[0][1], Z3_bias))"
      ],
      "execution_count": null,
      "outputs": [
        {
          "output_type": "stream",
          "text": [
            "L: 2.3031138319596907\n",
            "L with bias: 2.3032139701582013\n"
          ],
          "name": "stdout"
        }
      ]
    },
    {
      "cell_type": "markdown",
      "metadata": {
        "id": "wOWLiLtUgS2b"
      },
      "source": [
        "# [Problem 4] Implementation of backpropagation"
      ]
    },
    {
      "cell_type": "code",
      "metadata": {
        "id": "jroaWE61SqoH"
      },
      "source": [
        "def backpropagation(W, Z, L_A, bias=True):\n",
        "    \"\"\"\n",
        "    @Params:\n",
        "        W: weights on links between previous and current layers\n",
        "        Z: output of previous layer (after activation)\n",
        "        L_A: loss over output of current layer (before activation)\n",
        "    @Return:\n",
        "        grad: gradient descent amount\n",
        "        L_Z: loss over output of previous layer\n",
        "    \"\"\"\n",
        "    if bias: Z = np.c_[np.ones(Z.shape[0]), Z]\n",
        "    grad = Z.T @ L_A\n",
        "    L_Z = L_A @ W.T\n",
        "    if bias: L_Z = L_Z[:, 1:]\n",
        "    return grad, L_Z"
      ],
      "execution_count": null,
      "outputs": []
    },
    {
      "cell_type": "code",
      "metadata": {
        "colab": {
          "base_uri": "https://localhost:8080/"
        },
        "id": "pdduH08Lf4jH",
        "outputId": "25e88787-9274-447f-e727-f9f226fc06e6"
      },
      "source": [
        "# Layer 3\n",
        "alpha = 0.01\n",
        "L_A3 = (Z3 - mini_batch[0][1]) / batch_size\n",
        "L_A3_bias = (Z3_bias - mini_batch[0][1]) / batch_size\n",
        "grad_w3, L_Z2 = backpropagation(w3, Z2, L_A3, bias=False)\n",
        "grad_w3_bias, L_Z2_bias = backpropagation(w3_bias, Z2_bias, L_A3_bias, bias=True)\n",
        "w3 -= alpha * grad_w3\n",
        "w3_bias -= alpha * grad_w3_bias\n",
        "print(L_Z2.shape, L_Z2_bias.shape)"
      ],
      "execution_count": null,
      "outputs": [
        {
          "output_type": "stream",
          "text": [
            "(20, 200) (20, 200)\n"
          ],
          "name": "stdout"
        }
      ]
    },
    {
      "cell_type": "code",
      "metadata": {
        "colab": {
          "base_uri": "https://localhost:8080/"
        },
        "id": "YT7sYTgFNa2N",
        "outputId": "51a9b531-c48a-48e9-8673-b7d287e27066"
      },
      "source": [
        "# Layer 2\n",
        "L_A2 = L_Z2 * (1 - tanh(A2)**2)\n",
        "L_A2_bias = L_Z2_bias * (1 - tanh(A2_bias)**2)\n",
        "grad_w2, L_Z1 = backpropagation(w2, Z1, L_A2, bias=False)\n",
        "grad_w2_bias, L_Z1_bias = backpropagation(w2_bias, Z1_bias, L_A2_bias, bias=True)\n",
        "w2 -= alpha * grad_w2\n",
        "w2_bias -= alpha * grad_w2_bias\n",
        "print(L_Z1.shape, L_Z1_bias.shape)"
      ],
      "execution_count": null,
      "outputs": [
        {
          "output_type": "stream",
          "text": [
            "(20, 400) (20, 400)\n"
          ],
          "name": "stdout"
        }
      ]
    },
    {
      "cell_type": "code",
      "metadata": {
        "id": "Cv7fZn82Z5XD"
      },
      "source": [
        "# Layer 1\n",
        "L_A1 = L_Z1 * (1 - tanh(A1)**2)\n",
        "L_A1_bias = L_Z1_bias * (1 - tanh(A1_bias)**2)\n",
        "grad_w1, _ = backpropagation(w1, A0, L_A1, bias=False)\n",
        "grad_w1_bias, _ = backpropagation(w1_bias, A0, L_A1_bias, bias=True)\n",
        "w1 -= alpha * grad_w1\n",
        "w1_bias -= alpha * grad_w1_bias"
      ],
      "execution_count": null,
      "outputs": []
    },
    {
      "cell_type": "markdown",
      "metadata": {
        "id": "p7xgQ3u92eJT"
      },
      "source": [
        "# [Problem 5] Estimation"
      ]
    },
    {
      "cell_type": "code",
      "metadata": {
        "id": "Fl-qaYnFY1eI"
      },
      "source": [
        "A1, Z1 = feed_forward(A0, w1, bias=False, activation=tanh)\n",
        "A1_bias, Z1_bias = feed_forward(A0, w1_bias, bias=True, activation=tanh)\n",
        "A2, Z2 = feed_forward(Z1, w2, bias=False, activation=tanh)\n",
        "A2_bias, Z2_bias = feed_forward(Z1_bias, w2_bias, bias=True, activation=tanh)\n",
        "A3, Z3 = feed_forward(Z2, w3, bias=False, activation=softmax)\n",
        "A3_bias, Z3_bias = feed_forward(Z2_bias, w3_bias, bias=True, activation=softmax)"
      ],
      "execution_count": null,
      "outputs": []
    },
    {
      "cell_type": "code",
      "metadata": {
        "colab": {
          "base_uri": "https://localhost:8080/"
        },
        "id": "o7MXa-sPZnah",
        "outputId": "237db343-1be2-409d-8b85-70348cc35a0d"
      },
      "source": [
        "print(\"L:\", cross_entropy_loss(mini_batch[0][1], Z3))\n",
        "print(\"L with bias:\", cross_entropy_loss(mini_batch[0][1], Z3_bias))"
      ],
      "execution_count": null,
      "outputs": [
        {
          "output_type": "stream",
          "text": [
            "L: 2.3029831976198345\n",
            "L with bias: 2.302402596673057\n"
          ],
          "name": "stdout"
        }
      ]
    },
    {
      "cell_type": "code",
      "metadata": {
        "colab": {
          "base_uri": "https://localhost:8080/"
        },
        "id": "Py6UmCEBZwqG",
        "outputId": "860eb7c0-8954-4515-df11-155cdd2afa6a"
      },
      "source": [
        "np.argmax(Z3, axis=1), np.argmax(Z3_bias, axis=1), np.argmax(mini_batch[0][1], axis=1)"
      ],
      "execution_count": null,
      "outputs": [
        {
          "output_type": "execute_result",
          "data": {
            "text/plain": [
              "(array([0, 0, 3, 3, 1, 3, 3, 3, 7, 3, 3, 3, 0, 1, 0, 5, 3, 3, 0, 3]),\n",
              " array([3, 3, 4, 3, 4, 4, 3, 4, 3, 3, 3, 3, 3, 3, 4, 3, 3, 4, 3, 4]),\n",
              " array([5, 0, 9, 6, 8, 2, 2, 8, 0, 2, 5, 1, 2, 2, 5, 3, 2, 4, 4, 8]))"
            ]
          },
          "metadata": {
            "tags": []
          },
          "execution_count": 325
        }
      ]
    },
    {
      "cell_type": "markdown",
      "metadata": {
        "id": "-5XAJexJ--WQ"
      },
      "source": [
        "## Implementation of Scratch Neural Network Classifier"
      ]
    },
    {
      "cell_type": "code",
      "metadata": {
        "id": "YT-QDj6xxRhy"
      },
      "source": [
        "def tanh_grad(X):\n",
        "    return 1 - tanh(X) ** 2\n",
        "def sigmoid_grad(X):\n",
        "    return sigmoid(X) * (1 - sigmoid(X))\n",
        "def non_activate(X):\n",
        "    return X\n",
        "\n",
        "class Layer():\n",
        "    \"\"\"\n",
        "    A layer of a fully connected Neural Network\n",
        "    \"\"\"\n",
        "    activation_func = {\n",
        "        \"tanh\": {\n",
        "            \"feed\": tanh,\n",
        "            \"back\": tanh_grad\n",
        "        },\n",
        "        \"sigmoid\": {\n",
        "            \"feed\": sigmoid,\n",
        "            \"back\": sigmoid_grad\n",
        "        },\n",
        "        \"softmax\": {\n",
        "            \"feed\": softmax,\n",
        "        },\n",
        "        \"non_activate\": {\n",
        "            \"feed\": non_activate,\n",
        "            \"back\": non_activate\n",
        "        }\n",
        "    }\n",
        "    def __init__(self, n_nodes, activation=\"non_activate\",\n",
        "                 bias=True, name=\"hidden\"):\n",
        "        self.n_nodes = n_nodes\n",
        "        self.activation = activation if activation in self.activation_func else \"non_activate\"\n",
        "        self.name = name\n",
        "        self.bias = bias\n",
        "\n",
        "    def feed(self, X):\n",
        "        \"\"\"\n",
        "        @Params:\n",
        "            input: (n_samples, self.n_nodes)\n",
        "        \"\"\"\n",
        "        self.input = X\n",
        "        self.output = self.activation_func[self.activation][\"feed\"](self.input)\n",
        "        if self.bias: self.output = np.c_[np.ones(self.output.shape[0]), self.output]\n",
        "        return self.output\n",
        "    \n",
        "    def back(self, X):\n",
        "        return self.activation_func[self.activation][\"back\"](X)"
      ],
      "execution_count": null,
      "outputs": []
    },
    {
      "cell_type": "code",
      "metadata": {
        "id": "Pv2Opz225FoS"
      },
      "source": [
        "class ScratchSimpleNeuralNetworkClassifier():\n",
        "    \"\"\"\n",
        "    Simple three-layer neural network classifier\n",
        "    \"\"\"\n",
        "    def __init__(self, batch_size=1, epochs=10, layers=[],\n",
        "                 sigma=0.02, lr=0.01, random_state=0, verbose=True):\n",
        "        self.batch_size = batch_size\n",
        "        self.epochs = epochs\n",
        "        self.sigma = sigma\n",
        "        self.lr = lr\n",
        "        self.layers = layers\n",
        "        self.verbose = verbose\n",
        "        self.random_state = random_state\n",
        "        np.random.seed(random_state)\n",
        "    \n",
        "    def add(self, layer):\n",
        "        \"\"\"\n",
        "        @Params:\n",
        "            layer: object of class Layer\n",
        "        \"\"\"\n",
        "        self.layers.append(layer)\n",
        "        return self\n",
        "    \n",
        "    def _init_weights(self):\n",
        "        self.weights = []\n",
        "        for i in range(len(self.layers) - 1):\n",
        "            s = 1 if self.layers[i].bias else 0\n",
        "            w = self.sigma * np.random.randn(self.layers[i].n_nodes + s,\n",
        "                                             self.layers[i+1].n_nodes)\n",
        "            self.weights.append(w)\n",
        "    \n",
        "    def _feedforward(self, X):\n",
        "        Z = X.copy()\n",
        "        for layer, weight in zip(self.layers[:-1], self.weights):\n",
        "            A = layer.feed(Z)   # Activate input and add bias if needed\n",
        "            Z = A @ weight\n",
        "        output = self.layers[-1].feed(Z)\n",
        "        return output\n",
        "    \n",
        "    def _backpropagation(self, y):\n",
        "        grads = [0 for _ in range(len(self.weights))]\n",
        "        D = self.layers[-1].output - y\n",
        "\n",
        "        for i in range(len(self.weights) - 1, -1, -1):\n",
        "            grads[i] = self.layers[i].output.T @ D\n",
        "            if i == 0: break\n",
        "            d = D @ self.weights[i].T\n",
        "            if self.layers[i].bias: d = d[:, 1:]\n",
        "            D = d * self.layers[i].back(self.layers[i].input)\n",
        "\n",
        "        for i in range(len(self.weights)):\n",
        "            self.weights[i] -= self.lr * grads[i]\n",
        "\n",
        "    def fit(self, X, y, X_val=None, y_val=None):\n",
        "        \"\"\"\n",
        "        Learn a neural network classifier.\n",
        "        @Parameters\n",
        "            X : The following forms of ndarray, shape (n_samples, n_features)\n",
        "                Features of training data\n",
        "            y : The following form of ndarray, shape (n_samples,)\n",
        "                Correct answer value of training data\n",
        "            X_val : The following forms of ndarray, shape (n_samples, n_features)\n",
        "                Features of verification data\n",
        "            y_val : The following form of ndarray, shape (n_samples,)\n",
        "                Correct value of verification data\n",
        "        \"\"\"\n",
        "        self._init_weights()\n",
        "        self.train_loss = []\n",
        "        self.val_loss = []\n",
        "        for i in range(self.epochs):\n",
        "            mini_batch = GetMiniBatch(X, y, batch_size=self.batch_size, seed=self.random_state)\n",
        "            for mini_X, mini_y in mini_batch:\n",
        "                self._feedforward(mini_X)\n",
        "                self._backpropagation(mini_y)\n",
        "\n",
        "            self.train_loss.append(cross_entropy_loss(y, self.predict_proba(X)))\n",
        "            if X_val is not None and y_val is not None:\n",
        "                self.val_loss.append(cross_entropy_loss(y_val, self.predict_proba(X_val)))\n",
        "\n",
        "            if self.verbose:\n",
        "                print(\"Epoch\", i, \"Loss:\", self.train_loss[-1])\n",
        "\n",
        "        return self\n",
        "    \n",
        "    def predict_proba(self, X):\n",
        "        return self._feedforward(X)\n",
        "\n",
        "    def predict(self, X):\n",
        "        \"\"\"\n",
        "        Estimate using a neural network classifier.\n",
        "        Parameters\n",
        "        ----------\n",
        "        X : The following forms of ndarray, shape (n_samples, n_features)\n",
        "            sample\n",
        "        Returns\n",
        "        -------\n",
        "            The following form of ndarray, shape (n_samples,)\n",
        "            Estimated result\n",
        "        \"\"\"\n",
        "        y_proba = self._feedforward(X)\n",
        "        return np.argmax(y_proba, axis=1)"
      ],
      "execution_count": null,
      "outputs": []
    },
    {
      "cell_type": "markdown",
      "metadata": {
        "id": "z7H_KN-wY33h"
      },
      "source": [
        "# [Problem 6] Learning and estimation"
      ]
    },
    {
      "cell_type": "code",
      "metadata": {
        "id": "KEs8dMFSdfNX"
      },
      "source": [
        "from sklearn.metrics import classification_report, confusion_matrix\n",
        "from sklearn.metrics import roc_auc_score\n",
        "\n",
        "def evaluate(X, y, y_one_hot, model):\n",
        "    y_pred = model.predict(X)\n",
        "    y_proba = model.predict_proba(X)\n",
        "    print(\"ROC AUC:\", roc_auc_score(y_one_hot, y_proba))\n",
        "    print(classification_report(y, y_pred))\n",
        "    sns.heatmap(confusion_matrix(y, y_pred), cmap=plt.cm.Blues, annot=True)\n",
        "    plt.show()"
      ],
      "execution_count": null,
      "outputs": []
    },
    {
      "cell_type": "code",
      "metadata": {
        "id": "DDA9-XS32En7",
        "colab": {
          "base_uri": "https://localhost:8080/"
        },
        "outputId": "39727342-bfd0-4e7e-f26e-93a12a479a2e"
      },
      "source": [
        "model = ScratchSimpleNeuralNetworkClassifier(batch_size=20, random_state=0)\n",
        "model.add(Layer(n_nodes=784, bias=False, name=\"input\"))\n",
        "model.add(Layer(n_nodes=400, activation=\"tanh\", bias=True, name=\"hidden_1\"))\n",
        "model.add(Layer(n_nodes=200, activation=\"tanh\", bias=True, name=\"hidden_2\"))\n",
        "model.add(Layer(n_nodes=10, activation=\"softmax\", bias=False, name=\"output\"))"
      ],
      "execution_count": null,
      "outputs": [
        {
          "output_type": "execute_result",
          "data": {
            "text/plain": [
              "<__main__.ScratchSimpleNeuralNetworkClassifier at 0x7f53f896aa10>"
            ]
          },
          "metadata": {
            "tags": []
          },
          "execution_count": 328
        }
      ]
    },
    {
      "cell_type": "code",
      "metadata": {
        "colab": {
          "base_uri": "https://localhost:8080/"
        },
        "id": "pj8CxYBjWpsM",
        "outputId": "d5b54799-a728-4aad-cbc0-4a6e0bd03beb"
      },
      "source": [
        "model.fit(X_train, y_train_one_hot, X_val, y_val_one_hot)"
      ],
      "execution_count": null,
      "outputs": [
        {
          "output_type": "stream",
          "text": [
            "Epoch 0 Loss: 0.19082541307140263\n",
            "Epoch 1 Loss: 0.10636097089530866\n",
            "Epoch 2 Loss: 0.07520065026738947\n",
            "Epoch 3 Loss: 0.05785699018413772\n",
            "Epoch 4 Loss: 0.04289198487235822\n",
            "Epoch 5 Loss: 0.030398866207322177\n",
            "Epoch 6 Loss: 0.02070236467705187\n",
            "Epoch 7 Loss: 0.014908259189198405\n",
            "Epoch 8 Loss: 0.010427765249832651\n",
            "Epoch 9 Loss: 0.006166024439797372\n"
          ],
          "name": "stdout"
        },
        {
          "output_type": "execute_result",
          "data": {
            "text/plain": [
              "<__main__.ScratchSimpleNeuralNetworkClassifier at 0x7f53f896aa10>"
            ]
          },
          "metadata": {
            "tags": []
          },
          "execution_count": 329
        }
      ]
    },
    {
      "cell_type": "code",
      "metadata": {
        "colab": {
          "base_uri": "https://localhost:8080/",
          "height": 567
        },
        "id": "BFerYGisanTc",
        "outputId": "e0843c5d-5168-4eb2-ac54-e84fc733793e"
      },
      "source": [
        "evaluate(X_val, y_val, y_val_one_hot, model)"
      ],
      "execution_count": null,
      "outputs": [
        {
          "output_type": "stream",
          "text": [
            "ROC AUC: 0.9996319314124069\n",
            "              precision    recall  f1-score   support\n",
            "\n",
            "           0       0.99      0.99      0.99      1205\n",
            "           1       0.99      0.99      0.99      1379\n",
            "           2       0.98      0.98      0.98      1166\n",
            "           3       0.98      0.97      0.97      1208\n",
            "           4       0.98      0.97      0.98      1153\n",
            "           5       0.97      0.97      0.97      1075\n",
            "           6       0.98      0.98      0.98      1190\n",
            "           7       0.98      0.99      0.98      1228\n",
            "           8       0.97      0.98      0.97      1191\n",
            "           9       0.97      0.97      0.97      1205\n",
            "\n",
            "    accuracy                           0.98     12000\n",
            "   macro avg       0.98      0.98      0.98     12000\n",
            "weighted avg       0.98      0.98      0.98     12000\n",
            "\n"
          ],
          "name": "stdout"
        },
        {
          "output_type": "display_data",
          "data": {
            "image/png": "[encoded data removed]",
            "text/plain": [
              "<Figure size 432x288 with 2 Axes>"
            ]
          },
          "metadata": {
            "tags": [],
            "needs_background": "light"
          }
        }
      ]
    },
    {
      "cell_type": "markdown",
      "metadata": {
        "id": "P65jgyvsfK3o"
      },
      "source": [
        "# [Problem 7] Learning curve plot"
      ]
    },
    {
      "cell_type": "code",
      "metadata": {
        "id": "MwNmzNOtelhR"
      },
      "source": [
        "def plot_learning_curve(train_loss, val_loss=None):\n",
        "    plt.figure(figsize=(16, 8))\n",
        "    plt.plot(train_loss, label=\"train_loss\", linewidth=5)\n",
        "    if val_loss is not None:\n",
        "        plt.plot(val_loss, label=\"val_loss\", linewidth=5)\n",
        "    plt.xlabel(\"epoch\")\n",
        "    plt.ylabel(\"loss\")\n",
        "    plt.legend()\n",
        "    plt.show()"
      ],
      "execution_count": null,
      "outputs": []
    },
    {
      "cell_type": "code",
      "metadata": {
        "colab": {
          "base_uri": "https://localhost:8080/",
          "height": 497
        },
        "id": "CjSVrHzrfPnZ",
        "outputId": "989f9a69-a98a-4a12-b821-b882bf1a31b1"
      },
      "source": [
        "plot_learning_curve(model.train_loss, model.val_loss)"
      ],
      "execution_count": null,
      "outputs": [
        {
          "output_type": "display_data",
          "data": {
            "image/png": "[encoded data removed]",
            "text/plain": [
              "<Figure size 1152x576 with 1 Axes>"
            ]
          },
          "metadata": {
            "tags": [],
            "needs_background": "light"
          }
        }
      ]
    },
    {
      "cell_type": "markdown",
      "metadata": {
        "id": "_Ea4yn46feMT"
      },
      "source": [
        "It's looked somehow underfitting but the loss deviation (between train and validate set) is pretty small so it's fairly acceptable."
      ]
    },
    {
      "cell_type": "markdown",
      "metadata": {
        "id": "MTaHt7ujf36d"
      },
      "source": [
        "# [Problem 8] (Advance assignment) Confirmation of misclassification"
      ]
    },
    {
      "cell_type": "code",
      "metadata": {
        "colab": {
          "base_uri": "https://localhost:8080/",
          "height": 396
        },
        "id": "tbpUecPLfSNv",
        "outputId": "8fa7c3d2-8a3f-4c94-896c-8e4bdbcc4984"
      },
      "source": [
        "\"\"\"\n",
        "Display word classification results side by side. The display above the image is \"estimated result / correct answer\".\n",
        "Parameters:\n",
        "----------\n",
        "y_pred : Estimated ndarray (n_samples,)\n",
        "y_val : Correct label of verification data (n_samples,)\n",
        "X_val : Verification data features (n_samples, n_features)\n",
        "\"\"\"\n",
        "num = 36 # How many to display\n",
        "\n",
        "true_false = y_pred == y_val\n",
        "false_list = np.where(true_false == False)[0].astype(np.int)\n",
        "if false_list.shape[0] < num:\n",
        "    num = false_list.shape[0]\n",
        "fig = plt.figure(figsize=(6, 6))\n",
        "fig.subplots_adjust(left=0, right=0.8,  bottom=0, top=0.8, hspace=1, wspace=0.5)\n",
        "for i in range(num):\n",
        "    ax = fig.add_subplot(6, 6, i + 1, xticks=[], yticks=[])\n",
        "    ax.set_title(\"{} / {}\".format(y_pred[false_list[i]], y_val[false_list[i]]))\n",
        "    ax.imshow(X_val.reshape(-1,28,28)[false_list[i]], cmap='gray')"
      ],
      "execution_count": null,
      "outputs": [
        {
          "output_type": "display_data",
          "data": {
            "image/png": "[encoded data removed]",
            "text/plain": [
              "<Figure size 432x432 with 36 Axes>"
            ]
          },
          "metadata": {
            "tags": []
          }
        }
      ]
    }
  ]
}