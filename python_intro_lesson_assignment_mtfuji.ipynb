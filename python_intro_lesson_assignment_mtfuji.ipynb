{
  "nbformat": 4,
  "nbformat_minor": 0,
  "metadata": {
    "colab": {
      "name": "python_intro_lesson_assignment_mtfuji.ipynb",
      "provenance": [],
      "authorship_tag": "ABX9TyNeJqCsk3aJdBZ21C4LUbrf",
      "include_colab_link": true
    },
    "kernelspec": {
      "name": "python3",
      "display_name": "Python 3"
    }
  },
  "cells": [
    {
      "cell_type": "markdown",
      "metadata": {
        "id": "view-in-github",
        "colab_type": "text"
      },
      "source": [
        "<a href=\"https://colab.research.google.com/github/thanhnguyen2612/diveintocode-ml/blob/master/python_intro_lesson_assignment_mtfuji.ipynb\" target=\"_parent\"><img src=\"https://colab.research.google.com/assets/colab-badge.svg\" alt=\"Open In Colab\"/></a>"
      ]
    },
    {
      "cell_type": "markdown",
      "metadata": {
        "id": "zTLQbgU6v3Bs"
      },
      "source": [
        "# Python introductory lesson assignment how many diffractions will cross Mt. Fuji\n",
        "## [Problem 1] Minimum number of folds over Mt. Fuji"
      ]
    },
    {
      "cell_type": "code",
      "metadata": {
        "colab": {
          "base_uri": "https://localhost:8080/"
        },
        "id": "n_dRQDUzseh6",
        "outputId": "eb88d23a-b7ad-47e6-8d0c-0d11709323bc"
      },
      "source": [
        "THICKNESS = 0.00008     # Thickness of paper in meter\n",
        "MT_FUJI_HEIGHT = 3776   # Mt. Fuji height in meter\n",
        "\n",
        "folded_paper_thickness = THICKNESS\n",
        "num_folds = 0\n",
        "while folded_paper_thickness <= MT_FUJI_HEIGHT:\n",
        "    folded_paper_thickness *= 2\n",
        "    num_folds += 1\n",
        "\n",
        "print(f\"Fold the paper {num_folds} times to exceed Mt. Fuji (3776m)\")"
      ],
      "execution_count": 13,
      "outputs": [
        {
          "output_type": "stream",
          "text": [
            "Fold the paper 26 times to exceed Mt. Fuji (3776m)\n"
          ],
          "name": "stdout"
        }
      ]
    },
    {
      "cell_type": "markdown",
      "metadata": {
        "id": "JazsJwJOyIcQ"
      },
      "source": [
        "## [Problem 2] Creating a function corresponding to an arbitrary thickness"
      ]
    },
    {
      "cell_type": "code",
      "metadata": {
        "colab": {
          "base_uri": "https://localhost:8080/"
        },
        "id": "5UQ8gWDvyK39",
        "outputId": "63fa073c-9bee-4f0b-8b1a-6286aa99c828"
      },
      "source": [
        "import math\n",
        "\n",
        "THICKNESS = 0.00008     # Thickness of paper in meter\n",
        "\n",
        "def compute_number_of_folds(distance, base_thickness=THICKNESS):\n",
        "    \"\"\"\n",
        "    @Param\n",
        "        distance: distance in meter want to reach (default value THICKNESS=0.00008)\n",
        "        base_thickness: thickness t0 before folding\n",
        "    @Return\n",
        "        Number of folds to reach the distance\n",
        "    \"\"\"\n",
        "    return math.ceil(math.log2(distance / base_thickness))      # Use a little bit math trick here\n",
        "\n",
        "DISTANCE_TO_MERCURY = 152370 * 1000000      # Closest non-Sun star is Mercury, distance from Earth to Mercury in meter (from Google)\n",
        "num_folds_to_mercury = compute_number_of_folds(DISTANCE_TO_MERCURY)     # Set default thickness of paper\\\n",
        "print(f\"Fold the paper {num_folds_to_mercury} times to reach the \\\"closest non-Sun star\\\"\")"
      ],
      "execution_count": 14,
      "outputs": [
        {
          "output_type": "stream",
          "text": [
            "Fold the paper 51 times to reach the \"closest non-Sun star\"\n"
          ],
          "name": "stdout"
        }
      ]
    },
    {
      "cell_type": "markdown",
      "metadata": {
        "id": "0v2Th_WF1WFt"
      },
      "source": [
        "## [Problem 3] Required paper length"
      ]
    },
    {
      "cell_type": "code",
      "metadata": {
        "colab": {
          "base_uri": "https://localhost:8080/"
        },
        "id": "9CEPM5z71ZDW",
        "outputId": "4f33d9ed-a547-45fe-c590-79caf847ee62"
      },
      "source": [
        "def compute_required_paper_length(distance, base_thickness=THICKNESS):\n",
        "    \"\"\"\n",
        "    @Param\n",
        "        distance: distance in meter want to reach (default value THICKNESS=0.00008)\n",
        "        base_thickness: thickness t0 before folding\n",
        "    @Return\n",
        "        Paper length in meter required to easily be folded\n",
        "    \"\"\"    \n",
        "    num_folds = compute_number_of_folds(distance, base_thickness)       # Firstly, compute number of folds needed\n",
        "    length = math.pi*base_thickness * (2**num_folds + 4) * (2**num_folds - 1) / 6\n",
        "    return length\n",
        "\n",
        "DISTANCE_TO_MOON = 384400 * 1000\n",
        "MT_FUJI_HEIGHT = 3776\n",
        "DISTANCE_TO_MERCURY = 152370 * 1000000\n",
        "\n",
        "print(f\"Paper length of {compute_required_paper_length(MT_FUJI_HEIGHT)} meters for Mt. Fuji\")\n",
        "print(f\"Paper length of {compute_required_paper_length(DISTANCE_TO_MOON)} meters for the Moon\")\n",
        "print(f\"Paper length of {compute_required_paper_length(DISTANCE_TO_MERCURY)} meters for the \\\"closest non-Sun star\\\"\")"
      ],
      "execution_count": 15,
      "outputs": [
        {
          "output_type": "stream",
          "text": [
            "Paper length of 188646348487.24014 meters for Mt. Fuji\n",
            "Paper length of 3.240919444170781e+21 meters for the Moon\n",
            "Paper length of 2.1239689669310416e+26 meters for the \"closest non-Sun star\"\n"
          ],
          "name": "stdout"
        }
      ]
    }
  ]
}