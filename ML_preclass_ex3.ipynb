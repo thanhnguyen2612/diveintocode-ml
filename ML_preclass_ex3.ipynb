{
  "nbformat": 4,
  "nbformat_minor": 0,
  "metadata": {
    "colab": {
      "name": "ML_preclass_ex3.ipynb",
      "provenance": [],
      "collapsed_sections": [],
      "authorship_tag": "ABX9TyO11tmSweEDZOtV74DeO+xb",
      "include_colab_link": true
    },
    "kernelspec": {
      "name": "python3",
      "display_name": "Python 3"
    }
  },
  "cells": [
    {
      "cell_type": "markdown",
      "metadata": {
        "id": "view-in-github",
        "colab_type": "text"
      },
      "source": [
        "<a href=\"https://colab.research.google.com/github/thanhnguyen2612/diveintocode-ml/blob/master/ML_preclass_ex3.ipynb\" target=\"_parent\"><img src=\"https://colab.research.google.com/assets/colab-badge.svg\" alt=\"Open In Colab\"/></a>"
      ]
    },
    {
      "cell_type": "markdown",
      "metadata": {
        "id": "nMGkku8-T3hr"
      },
      "source": [
        "# Mathematics for Machine Learning Pre-Class assignment 3 Matrix Scratch\n",
        "## [Problem 1] Matrix product is calculated manually"
      ]
    },
    {
      "cell_type": "code",
      "metadata": {
        "colab": {
          "base_uri": "https://localhost:8080/"
        },
        "id": "8n1pMa-hTp4w",
        "outputId": "b1ab4357-60c9-4044-a997-4c58e8116c11"
      },
      "source": [
        "import numpy as np\n",
        "a_ndarray = np.array([[-1, 2, 3], [4, -5, 6], [7, 8, -9]])\n",
        "b_ndarray = np.array([[0, 2, 1], [0, 2, -8], [2, 9, -1]])\n",
        "print(a_ndarray)\n",
        "print(b_ndarray)"
      ],
      "execution_count": 6,
      "outputs": [
        {
          "output_type": "stream",
          "text": [
            "[[-1  2  3]\n",
            " [ 4 -5  6]\n",
            " [ 7  8 -9]]\n",
            "[[ 0  2  1]\n",
            " [ 0  2 -8]\n",
            " [ 2  9 -1]]\n",
            "[[  6  29 -20]\n",
            " [ 12  52  38]\n",
            " [-18 -51 -48]]\n"
          ],
          "name": "stdout"
        }
      ]
    },
    {
      "cell_type": "markdown",
      "metadata": {
        "id": "IWb4eZ7JUZTt"
      },
      "source": [
        "For each pair of row & column in matrix a and matrix b respectively, we compute their dot product. Resulting in a 3x3 matrix has:\n",
        "\n",
        "1.   First row (row_0 of a * col_0 of b):\n",
        "    *   [-1 2 3] x [0 0 2]     = 6\n",
        "    *   [-1 2 3] x [2 2 9]     = 29\n",
        "    *   [-1 2 3] x [1 -8 -1]   = -20\n",
        "2.   Second row (row_1 of a * col_1 of b):\n",
        "    *   [4 -5 6] x [0 0 2]     = 12\n",
        "    *   [4 -5 6] x [2 2 9]     = 52\n",
        "    *   [4 -5 6] x [1 -8 -1]   = 38\n",
        "3.   Third row (row_2 of a * col_2 of b):\n",
        "    *   [7 8 -9] x [0 0 2]     = -18\n",
        "    *   [7 8 -9] x [2 2 9]     = -51\n",
        "    *   [7 8 -9] x [1 -8 -1]   = -48"
      ]
    },
    {
      "cell_type": "code",
      "metadata": {
        "colab": {
          "base_uri": "https://localhost:8080/"
        },
        "id": "RMcPatksUSbU",
        "outputId": "8d1ec45f-9319-4bba-e583-4d01b0e3a293"
      },
      "source": [
        "matrix_axb = np.array([[6, 29, -20], [12, 52, 38], [-18, -51, -48]])\n",
        "matrix_axb"
      ],
      "execution_count": 8,
      "outputs": [
        {
          "output_type": "execute_result",
          "data": {
            "text/plain": [
              "array([[  6,  29, -20],\n",
              "       [ 12,  52,  38],\n",
              "       [-18, -51, -48]])"
            ]
          },
          "metadata": {
            "tags": []
          },
          "execution_count": 8
        }
      ]
    },
    {
      "cell_type": "markdown",
      "metadata": {
        "id": "lxDoFxs_XsJc"
      },
      "source": [
        "## [Problem 2] Calculation by NumPy function"
      ]
    },
    {
      "cell_type": "markdown",
      "metadata": {
        "id": "ofST29S0ZGzB"
      },
      "source": [
        "Computing in 3 ways"
      ]
    },
    {
      "cell_type": "code",
      "metadata": {
        "colab": {
          "base_uri": "https://localhost:8080/"
        },
        "id": "VuPmCBbnZN9Y",
        "outputId": "e3150838-7b75-4372-9938-3174b0426ef8"
      },
      "source": [
        "%%timeit\n",
        "np.matmul(a_ndarray, b_ndarray)"
      ],
      "execution_count": 11,
      "outputs": [
        {
          "output_type": "stream",
          "text": [
            "The slowest run took 89.62 times longer than the fastest. This could mean that an intermediate result is being cached.\n",
            "1000000 loops, best of 5: 1.2 µs per loop\n"
          ],
          "name": "stdout"
        }
      ]
    },
    {
      "cell_type": "code",
      "metadata": {
        "colab": {
          "base_uri": "https://localhost:8080/"
        },
        "id": "RTOHDcwFZR0d",
        "outputId": "ce481cc5-c27f-4a3f-a2c9-8d052747fbed"
      },
      "source": [
        "%%timeit\n",
        "a_ndarray @ b_ndarray"
      ],
      "execution_count": 12,
      "outputs": [
        {
          "output_type": "stream",
          "text": [
            "The slowest run took 41.97 times longer than the fastest. This could mean that an intermediate result is being cached.\n",
            "1000000 loops, best of 5: 1.15 µs per loop\n"
          ],
          "name": "stdout"
        }
      ]
    },
    {
      "cell_type": "code",
      "metadata": {
        "colab": {
          "base_uri": "https://localhost:8080/"
        },
        "id": "S_Z6mmU1Xtas",
        "outputId": "c6d1aedd-9007-41bf-dbff-e0e4d5bfc6fe"
      },
      "source": [
        "%%timeit\n",
        "np.dot(a_ndarray, b_ndarray)"
      ],
      "execution_count": 13,
      "outputs": [
        {
          "output_type": "stream",
          "text": [
            "The slowest run took 27.11 times longer than the fastest. This could mean that an intermediate result is being cached.\n",
            "1000000 loops, best of 5: 1.24 µs per loop\n"
          ],
          "name": "stdout"
        }
      ]
    },
    {
      "cell_type": "markdown",
      "metadata": {
        "id": "ya5IAELWZk75"
      },
      "source": [
        "## [Problem 3] Implementation of calculation of a certain element"
      ]
    },
    {
      "cell_type": "markdown",
      "metadata": {
        "id": "ngaN6Hd5aHAu"
      },
      "source": [
        "Expect size of matrix A (a * m) and matrix B (m * b), therefore create a resulting matrix with size of (a * b)"
      ]
    },
    {
      "cell_type": "code",
      "metadata": {
        "colab": {
          "base_uri": "https://localhost:8080/"
        },
        "id": "OkxA9BD1Zp8Y",
        "outputId": "fd12cd71-0dbe-45c0-c002-9d05ffee7429"
      },
      "source": [
        "mat_axb = np.zeros((a_ndarray.shape[0], b_ndarray.shape[1]))\n",
        "\n",
        "for i in range(mat_axb.shape[0]):\n",
        "    for j in range(mat_axb.shape[1]):\n",
        "        sum = 0\n",
        "        for k in range(a_ndarray.shape[1]):\n",
        "            sum += a_ndarray[i][k] * b_ndarray[k][j]\n",
        "        mat_axb[i][j] = sum\n",
        "\n",
        "mat_axb"
      ],
      "execution_count": 18,
      "outputs": [
        {
          "output_type": "execute_result",
          "data": {
            "text/plain": [
              "array([[  6.,  29., -20.],\n",
              "       [ 12.,  52.,  38.],\n",
              "       [-18., -51., -48.]])"
            ]
          },
          "metadata": {
            "tags": []
          },
          "execution_count": 18
        }
      ]
    },
    {
      "cell_type": "markdown",
      "metadata": {
        "id": "DIXeSddjdfgi"
      },
      "source": [
        "## [Problem 4] Creating a function that performs matrix multiplication\n",
        "## [Problem 5] Judge the input whose calculation is not defined\n",
        "## [Problem 6] Transposition\n",
        "Complete these problems at the same time"
      ]
    },
    {
      "cell_type": "code",
      "metadata": {
        "colab": {
          "base_uri": "https://localhost:8080/"
        },
        "id": "lhSdlFPNdngo",
        "outputId": "97d85d9e-a133-4ac7-c3e7-255168bc568e"
      },
      "source": [
        "def matmul_custom(matrix_A, matrix_B):\n",
        "    if matrix_A.shape[1] != matrix_B.shape[0]:\n",
        "        return None\n",
        "\n",
        "    mat_axb = np.zeros((matrix_A.shape[0], matrix_B.shape[1]))\n",
        "    for i in range(mat_axb.shape[0]):\n",
        "        for j in range(mat_axb.shape[1]):\n",
        "            sum = 0\n",
        "            for k in range(matrix_A.shape[1]):\n",
        "                try:\n",
        "                    sum += matrix_A[i][k] * matrix_B[k][j]\n",
        "                except e:\n",
        "                    print(\"Something wrong\", e)\n",
        "            mat_axb[i][j] = sum\n",
        "    \n",
        "    return mat_axb\n",
        "\n",
        "mat_axb = matmul_custom(a_ndarray, b_ndarray)\n",
        "mat_axb"
      ],
      "execution_count": 24,
      "outputs": [
        {
          "output_type": "execute_result",
          "data": {
            "text/plain": [
              "array([[  6.,  29., -20.],\n",
              "       [ 12.,  52.,  38.],\n",
              "       [-18., -51., -48.]])"
            ]
          },
          "metadata": {
            "tags": []
          },
          "execution_count": 24
        }
      ]
    },
    {
      "cell_type": "code",
      "metadata": {
        "colab": {
          "base_uri": "https://localhost:8080/"
        },
        "id": "IB8I3cncfB7U",
        "outputId": "b260945a-a953-431f-af18-6adcf4c8582d"
      },
      "source": [
        "d_ndarray = np.array([[-1, 2, 3], [4, -5, 6]])\n",
        "e_ndarray = np.array([[-9, 8, 7], [6, -5, 4]])\n",
        "print(\"Cannot multiply them:\", matmul_custom(d_ndarray, e_ndarray))"
      ],
      "execution_count": 25,
      "outputs": [
        {
          "output_type": "stream",
          "text": [
            "Cannot multiply them: None\n"
          ],
          "name": "stdout"
        }
      ]
    }
  ]
}