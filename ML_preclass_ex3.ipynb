{
  "nbformat": 4,
  "nbformat_minor": 0,
  "metadata": {
    "colab": {
      "name": "ML_preclass_ex3.ipynb",
      "provenance": [],
      "collapsed_sections": [],
      "authorship_tag": "ABX9TyMENS8dpl+TIvosUIN1D5Pt",
      "include_colab_link": true
    },
    "kernelspec": {
      "name": "python3",
      "display_name": "Python 3"
    }
  },
  "cells": [
    {
      "cell_type": "markdown",
      "metadata": {
        "id": "view-in-github",
        "colab_type": "text"
      },
      "source": [
        "<a href=\"https://colab.research.google.com/github/thanhnguyen2612/diveintocode-ml/blob/master/ML_preclass_ex3.ipynb\" target=\"_parent\"><img src=\"https://colab.research.google.com/assets/colab-badge.svg\" alt=\"Open In Colab\"/></a>"
      ]
    },
    {
      "cell_type": "markdown",
      "metadata": {
        "id": "nMGkku8-T3hr"
      },
      "source": [
        "# Mathematics for Machine Learning Pre-Class assignment 3 Matrix Scratch\n",
        "## [Problem 1] Matrix product is calculated manually"
      ]
    },
    {
      "cell_type": "code",
      "metadata": {
        "colab": {
          "base_uri": "https://localhost:8080/"
        },
        "id": "8n1pMa-hTp4w",
        "outputId": "2303e5d3-fd9e-4760-bf5f-9d7df85bcb3e"
      },
      "source": [
        "import numpy as np\n",
        "a_ndarray = np.array([[-1, 2, 3], [4, -5, 6], [7, 8, -9]])\n",
        "b_ndarray = np.array([[0, 2, 1], [0, 2, -8], [2, 9, -1]])\n",
        "print(a_ndarray)\n",
        "print(b_ndarray)"
      ],
      "execution_count": null,
      "outputs": [
        {
          "output_type": "stream",
          "text": [
            "[[-1  2  3]\n",
            " [ 4 -5  6]\n",
            " [ 7  8 -9]]\n",
            "[[ 0  2  1]\n",
            " [ 0  2 -8]\n",
            " [ 2  9 -1]]\n"
          ],
          "name": "stdout"
        }
      ]
    },
    {
      "cell_type": "markdown",
      "metadata": {
        "id": "IWb4eZ7JUZTt"
      },
      "source": [
        "For each pair of row & column in matrix a and matrix b respectively, we compute their dot product. Resulting in a 3x3 matrix has:\n",
        "\n",
        "$$\n",
        "AB = \n",
        "\\left[\n",
        "\\begin{array}{ccc}\n",
        "  (-1)\\times0+2\\times0+3\\times2 & (-1)\\times2+2\\times2+3\\times9 & (-1)\\times1+2\\times(-8)+3\\times(-1) \\\\\n",
        "  4\\times0+(-5)\\times0+6\\times2 & 4\\times2+(-5)\\times2+6\\times9 & 4\\times1+(-5)\\times(-8)+6\\times(-1) \\\\\u0018\u0018\n",
        "  7\\times0+8\\times0+(-9)\\times2 & -7\\times0+8\\times2+(-9)\\times9 & 7\\times1+8\\times(-8)+(-9)\\times(-1)\n",
        "\\end{array}\n",
        "\\right]\n",
        "=\\left[\n",
        "\\begin{array}{ccc}\n",
        "  6 & 29 & -20 \\\\\n",
        "  12 & 52 & 38 \\\\\u0018\u0018\n",
        "  -18 & -51 & -48\n",
        "\\end{array}\n",
        "\\right]\n",
        "$$"
      ]
    },
    {
      "cell_type": "code",
      "metadata": {
        "colab": {
          "base_uri": "https://localhost:8080/"
        },
        "id": "RMcPatksUSbU",
        "outputId": "7f184955-532b-4fe9-a3b6-b9d3b7cd5421"
      },
      "source": [
        "matrix_axb = np.array([[6, 29, -20], [12, 52, 38], [-18, -51, -48]])\n",
        "matrix_axb"
      ],
      "execution_count": null,
      "outputs": [
        {
          "output_type": "execute_result",
          "data": {
            "text/plain": [
              "array([[  6,  29, -20],\n",
              "       [ 12,  52,  38],\n",
              "       [-18, -51, -48]])"
            ]
          },
          "metadata": {
            "tags": []
          },
          "execution_count": 12
        }
      ]
    },
    {
      "cell_type": "markdown",
      "metadata": {
        "id": "vrM5mZqYgMsG"
      },
      "source": [
        ""
      ]
    },
    {
      "cell_type": "markdown",
      "metadata": {
        "id": "lxDoFxs_XsJc"
      },
      "source": [
        "## [Problem 2] Calculation by NumPy function"
      ]
    },
    {
      "cell_type": "markdown",
      "metadata": {
        "id": "ofST29S0ZGzB"
      },
      "source": [
        "Computing in 3 ways"
      ]
    },
    {
      "cell_type": "code",
      "metadata": {
        "colab": {
          "base_uri": "https://localhost:8080/"
        },
        "id": "VuPmCBbnZN9Y",
        "outputId": "17292a4e-d349-415b-8786-ad9b7c78b61f"
      },
      "source": [
        "%%timeit\n",
        "np.matmul(a_ndarray, b_ndarray)"
      ],
      "execution_count": null,
      "outputs": [
        {
          "output_type": "stream",
          "text": [
            "The slowest run took 28.59 times longer than the fastest. This could mean that an intermediate result is being cached.\n",
            "1000000 loops, best of 5: 1.18 µs per loop\n"
          ],
          "name": "stdout"
        }
      ]
    },
    {
      "cell_type": "code",
      "metadata": {
        "colab": {
          "base_uri": "https://localhost:8080/"
        },
        "id": "RTOHDcwFZR0d",
        "outputId": "0aef5265-9330-49b4-c257-d48676fcd7c9"
      },
      "source": [
        "%%timeit\n",
        "a_ndarray @ b_ndarray"
      ],
      "execution_count": null,
      "outputs": [
        {
          "output_type": "stream",
          "text": [
            "The slowest run took 37.45 times longer than the fastest. This could mean that an intermediate result is being cached.\n",
            "1000000 loops, best of 5: 1.14 µs per loop\n"
          ],
          "name": "stdout"
        }
      ]
    },
    {
      "cell_type": "code",
      "metadata": {
        "colab": {
          "base_uri": "https://localhost:8080/"
        },
        "id": "S_Z6mmU1Xtas",
        "outputId": "2c0fceec-2f68-4bdd-df11-3940892f21b9"
      },
      "source": [
        "%%timeit\n",
        "np.dot(a_ndarray, b_ndarray)"
      ],
      "execution_count": null,
      "outputs": [
        {
          "output_type": "stream",
          "text": [
            "The slowest run took 34.71 times longer than the fastest. This could mean that an intermediate result is being cached.\n",
            "1000000 loops, best of 5: 1.22 µs per loop\n"
          ],
          "name": "stdout"
        }
      ]
    },
    {
      "cell_type": "markdown",
      "metadata": {
        "id": "ya5IAELWZk75"
      },
      "source": [
        "## [Problem 3] Implementation of calculation of a certain element"
      ]
    },
    {
      "cell_type": "markdown",
      "metadata": {
        "id": "ngaN6Hd5aHAu"
      },
      "source": [
        "Expect size of matrix A (a * m) and matrix B (m * b), therefore create a resulting matrix with size of (a * b)"
      ]
    },
    {
      "cell_type": "code",
      "metadata": {
        "colab": {
          "base_uri": "https://localhost:8080/"
        },
        "id": "OkxA9BD1Zp8Y",
        "outputId": "2bdde3db-2fbb-4d28-f890-0f4e718bfdcf"
      },
      "source": [
        "mat_axb = np.zeros((a_ndarray.shape[0], b_ndarray.shape[1]))\n",
        "\n",
        "for i in range(mat_axb.shape[0]):\n",
        "    for j in range(mat_axb.shape[1]):\n",
        "        sum = 0\n",
        "        for k in range(a_ndarray.shape[1]):\n",
        "            sum += a_ndarray[i][k] * b_ndarray[k][j]\n",
        "        mat_axb[i][j] = sum\n",
        "\n",
        "mat_axb"
      ],
      "execution_count": null,
      "outputs": [
        {
          "output_type": "execute_result",
          "data": {
            "text/plain": [
              "array([[  6.,  29., -20.],\n",
              "       [ 12.,  52.,  38.],\n",
              "       [-18., -51., -48.]])"
            ]
          },
          "metadata": {
            "tags": []
          },
          "execution_count": 16
        }
      ]
    },
    {
      "cell_type": "markdown",
      "metadata": {
        "id": "DIXeSddjdfgi"
      },
      "source": [
        "## [Problem 4] Creating a function that performs matrix multiplication\n",
        "## [Problem 5] Judge the input whose calculation is not defined\n",
        "Complete these problems at the same time"
      ]
    },
    {
      "cell_type": "code",
      "metadata": {
        "colab": {
          "base_uri": "https://localhost:8080/"
        },
        "id": "lhSdlFPNdngo",
        "outputId": "c19ad7be-7d5f-40e9-fc0a-409213296074"
      },
      "source": [
        "def matmul_custom(matrix_A, matrix_B):\n",
        "    if matrix_A.shape[1] != matrix_B.shape[0]:\n",
        "        return None\n",
        "\n",
        "    mat_axb = np.zeros((matrix_A.shape[0], matrix_B.shape[1]))\n",
        "    for i in range(mat_axb.shape[0]):\n",
        "        for j in range(mat_axb.shape[1]):\n",
        "            sum = 0\n",
        "            for k in range(matrix_A.shape[1]):\n",
        "                try:\n",
        "                    sum += matrix_A[i][k] * matrix_B[k][j]\n",
        "                except e:\n",
        "                    print(\"Something wrong\", e)\n",
        "            mat_axb[i][j] = sum\n",
        "    \n",
        "    return mat_axb\n",
        "\n",
        "mat_axb = matmul_custom(a_ndarray, b_ndarray)\n",
        "mat_axb"
      ],
      "execution_count": null,
      "outputs": [
        {
          "output_type": "execute_result",
          "data": {
            "text/plain": [
              "array([[  6.,  29., -20.],\n",
              "       [ 12.,  52.,  38.],\n",
              "       [-18., -51., -48.]])"
            ]
          },
          "metadata": {
            "tags": []
          },
          "execution_count": 17
        }
      ]
    },
    {
      "cell_type": "code",
      "metadata": {
        "colab": {
          "base_uri": "https://localhost:8080/"
        },
        "id": "IB8I3cncfB7U",
        "outputId": "b22b7f3b-3731-4929-e4e5-02903beaf615"
      },
      "source": [
        "d_ndarray = np.array([[-1, 2, 3], [4, -5, 6]])\n",
        "e_ndarray = np.array([[-9, 8, 7], [6, -5, 4]])\n",
        "print(\"Cannot multiply them:\", matmul_custom(d_ndarray, e_ndarray))"
      ],
      "execution_count": null,
      "outputs": [
        {
          "output_type": "stream",
          "text": [
            "Cannot multiply them: None\n"
          ],
          "name": "stdout"
        }
      ]
    },
    {
      "cell_type": "markdown",
      "metadata": {
        "id": "PePSMD_V4v4q"
      },
      "source": [
        "## [Problem 6] Transposition\n",
        "Transpose matrix E so that we have a valid computation of Matrix D (2x3) times Matrix E (3x2)"
      ]
    },
    {
      "cell_type": "code",
      "metadata": {
        "colab": {
          "base_uri": "https://localhost:8080/"
        },
        "id": "OiftpG_a44IB",
        "outputId": "52e38bf3-2461-4250-fd47-7af0a3534c70"
      },
      "source": [
        "print(\"D x E:\", matmul_custom(d_ndarray, e_ndarray.T))"
      ],
      "execution_count": null,
      "outputs": [
        {
          "output_type": "stream",
          "text": [
            "D x E: [[ 46.  -4.]\n",
            " [-34.  73.]]\n"
          ],
          "name": "stdout"
        }
      ]
    }
  ]
}